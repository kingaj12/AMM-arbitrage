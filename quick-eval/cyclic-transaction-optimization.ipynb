{
 "cells": [
  {
   "cell_type": "code",
   "id": "initial_id",
   "metadata": {
    "collapsed": true,
    "ExecuteTime": {
     "end_time": "2025-05-09T01:50:14.485525Z",
     "start_time": "2025-05-09T01:50:14.473290Z"
    }
   },
   "source": [
    "Exch1_2 = {\"tokens\": \"1 to 2\", \"a_in\": 1, \"a_out\": 2}\n",
    "Exch2_3 = {\"tokens\": \"2 to 3\", \"a_in\": 1, \"a_out\": 2}\n",
    "Exch3_4 = {\"tokens\": \"3 to 4\", \"a_in\": 1, \"a_out\": 2}\n",
    "Exch4_1 = {\"tokens\": \"4 to 1\", \"a_in\": 1, \"a_out\": 2}\n",
    "r = 0.9\n",
    "\n",
    "Trades = [Exch1_2, Exch2_3, Exch3_4, Exch4_1]"
   ],
   "outputs": [],
   "execution_count": 87
  },
  {
   "metadata": {
    "ExecuteTime": {
     "end_time": "2025-05-09T01:50:16.596573Z",
     "start_time": "2025-05-09T01:50:16.577573Z"
    }
   },
   "cell_type": "code",
   "source": [
    "def outgoing(din, r, ain, aout):\n",
    "    dout = (aout * r * din) / (ain + r * din)\n",
    "    return dout\n"
   ],
   "id": "3b44448cfd63fbf4",
   "outputs": [],
   "execution_count": 88
  },
  {
   "metadata": {
    "ExecuteTime": {
     "end_time": "2025-05-09T01:50:20.736983Z",
     "start_time": "2025-05-09T01:50:20.726418Z"
    }
   },
   "cell_type": "code",
   "source": [
    "def do_trades(Trades, d_begin, r):\n",
    "    d = [d_begin]\n",
    "    for i in range(len(Trades)):\n",
    "        a_in = Trades[i]['a_in']\n",
    "        a_out = Trades[i]['a_out']\n",
    "        dout = outgoing(d[i], r, a_in, a_out)\n",
    "        print(f\"Tokens {Trades[i][\"tokens\"]} \\t Incoming leg: {d[i]:6.4f}, outgoing leg:{dout:6.4f} \")\n",
    "        d.append(dout)\n",
    "        din = dout\n",
    "    print(f\"Profit: {d[-1] - d[0]:6.4f}\")"
   ],
   "id": "346a8eaa4d9ca5a",
   "outputs": [],
   "execution_count": 89
  },
  {
   "metadata": {
    "ExecuteTime": {
     "end_time": "2025-05-09T01:50:22.420643Z",
     "start_time": "2025-05-09T01:50:22.411834Z"
    }
   },
   "cell_type": "code",
   "source": "do_trades(Trades, 0.01, r)",
   "id": "d35750095d7b035c",
   "outputs": [
    {
     "name": "stdout",
     "output_type": "stream",
     "text": [
      "Tokens 1 to 2 \t Incoming leg: 0.0100, outgoing leg:0.0178 \n",
      "Tokens 2 to 3 \t Incoming leg: 0.0178, outgoing leg:0.0316 \n",
      "Tokens 3 to 4 \t Incoming leg: 0.0316, outgoing leg:0.0553 \n",
      "Tokens 4 to 1 \t Incoming leg: 0.0553, outgoing leg:0.0948 \n",
      "Profit: 0.0848\n"
     ]
    }
   ],
   "execution_count": 90
  },
  {
   "metadata": {
    "ExecuteTime": {
     "end_time": "2025-05-09T01:51:32.761928Z",
     "start_time": "2025-05-09T01:51:32.736715Z"
    }
   },
   "cell_type": "code",
   "source": [
    "# Equiv liquidity (algorithm 1)\n",
    "Exchprime = {\"tokens\": \"4 to 1\", \"a_in\": 1, \"a_out\": 2}\n",
    "Exchprime[\"a_out\"] = Trades[0]['a_in']\n",
    "Exchprime[\"a_in\"]  = Trades[0]['a_out']\n",
    "for i in range(2, len(Trades)):\n",
    "    AprimeOut = Exchprime['a_out']\n",
    "    AprimeIn = Exchprime['a_in']\n",
    "    Exchprime[\"a_out\"] = AprimeOut * Trades[i][\"a_in\"]/(Trades[i][\"a_in\"] + r * AprimeIn )\n",
    "    Exchprime[\"a_in\"]  = r * AprimeIn  * Trades[i][\"a_out\"]/(Trades[i][\"a_in\"] + r * AprimeIn)\n",
    "    print(f\"Prime tokens {Exchprime[\"tokens\"]} \\t a_in {Exchprime[\"a_in\"]} \\t a_out {Exchprime[\"a_out\"]} \")\n",
    "\n"
   ],
   "id": "d1e064b5c7ed8698",
   "outputs": [
    {
     "name": "stdout",
     "output_type": "stream",
     "text": [
      "Prime tokens 4 to 1 \t a_in 1.2857142857142858 \t a_out 0.35714285714285715 \n",
      "Prime tokens 4 to 1 \t a_in 1.0728476821192052 \t a_out 0.16556291390728475 \n"
     ]
    }
   ],
   "execution_count": 91
  },
  {
   "metadata": {
    "ExecuteTime": {
     "end_time": "2025-05-09T01:51:59.718269Z",
     "start_time": "2025-05-09T01:51:59.706642Z"
    }
   },
   "cell_type": "code",
   "source": [
    "# Optimal\n",
    "a = (Exchprime[\"a_out\"] * Trades[-1][\"a_in\"]) / (Trades[-1][\"a_in\"] + r * Exchprime[\"a_in\"])\n",
    "aprime = (r * Trades[-1][\"a_out\"] * Exchprime[\"a_in\"] ) / (Trades[-1][\"a_in\"] + r * Exchprime[\"a_in\"])"
   ],
   "id": "cdd5bb49989532e8",
   "outputs": [],
   "execution_count": 92
  },
  {
   "metadata": {
    "ExecuteTime": {
     "end_time": "2025-05-09T01:52:01.787858Z",
     "start_time": "2025-05-09T01:52:01.779236Z"
    }
   },
   "cell_type": "code",
   "source": [
    "import numpy as np\n",
    "dopt = (np.sqrt(r * aprime * a) - a )/r"
   ],
   "id": "a1342576ed5eebf4",
   "outputs": [],
   "execution_count": 93
  },
  {
   "metadata": {
    "ExecuteTime": {
     "end_time": "2025-05-09T01:52:03.435265Z",
     "start_time": "2025-05-09T01:52:03.425836Z"
    }
   },
   "cell_type": "code",
   "source": "print(f\"Optimal starting trade: {dopt:6.4f}\")",
   "id": "289d82d5ba65d866",
   "outputs": [
    {
     "name": "stdout",
     "output_type": "stream",
     "text": [
      "Optimal starting trade: 0.2096\n"
     ]
    }
   ],
   "execution_count": 94
  },
  {
   "metadata": {
    "ExecuteTime": {
     "end_time": "2025-05-09T01:56:58.754468Z",
     "start_time": "2025-05-09T01:56:58.736114Z"
    }
   },
   "cell_type": "code",
   "source": [
    "oldprofit = 0\n",
    "olddin = 0\n",
    "for i in range(1,20):\n",
    "    din = dopt - 0.005 + i * 0.001\n",
    "    d = [din]\n",
    "\n",
    "\n",
    "    for i in range(len(Trades)):\n",
    "        dout = outgoing(din, r, Trades[i][\"a_in\"], Trades[i][\"a_out\"])\n",
    "        #print(f\"Incoming leg: {din:6.4f}, outgoing leg:{dout:6.4f} \")\n",
    "        d.append(dout)\n",
    "        din = dout\n",
    "    profit = d[-1] - d[0]\n",
    "\n",
    "    if profit > oldprofit:\n",
    "        oldprofit = profit\n",
    "        olddin = d[0]\n",
    "        print(f\"Starting trade: {d[0]:6.4f} \\t Profit: {d[-1]-d[0]:6.4f}  \")\n",
    "    else:\n",
    "        print(f\"Optimal!\")\n",
    "        if dopt == olddin:\n",
    "            print(f\"Starting trade dopt: {dopt:6.4f} \\t Profit {oldprofit:6.4f} \")\n",
    "        else:\n",
    "            print(f\"Starting trade was not dopt but: {d[0]:6.4f} \\t Profit {oldprofit:6.4f} \")\n",
    "        break\n",
    "\n"
   ],
   "id": "aa0e837c2480b8e8",
   "outputs": [
    {
     "name": "stdout",
     "output_type": "stream",
     "text": [
      "Starting trade: 0.2056 \t Profit: 0.4695  \n",
      "Starting trade: 0.2066 \t Profit: 0.4696  \n",
      "Starting trade: 0.2076 \t Profit: 0.4696  \n",
      "Starting trade: 0.2086 \t Profit: 0.4696  \n",
      "Starting trade: 0.2096 \t Profit: 0.4696  \n",
      "Optimal!\n",
      "Starting trade dopt: 0.2096 \t Profit 0.4696 \n"
     ]
    }
   ],
   "execution_count": 97
  },
  {
   "metadata": {},
   "cell_type": "code",
   "outputs": [],
   "execution_count": null,
   "source": "",
   "id": "1664627745699c2a"
  }
 ],
 "metadata": {
  "kernelspec": {
   "display_name": "Python 3",
   "language": "python",
   "name": "python3"
  },
  "language_info": {
   "codemirror_mode": {
    "name": "ipython",
    "version": 2
   },
   "file_extension": ".py",
   "mimetype": "text/x-python",
   "name": "python",
   "nbconvert_exporter": "python",
   "pygments_lexer": "ipython2",
   "version": "2.7.6"
  }
 },
 "nbformat": 4,
 "nbformat_minor": 5
}
