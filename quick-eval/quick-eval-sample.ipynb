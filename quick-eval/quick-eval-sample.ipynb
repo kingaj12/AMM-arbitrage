{
 "cells": [
  {
   "cell_type": "code",
   "id": "initial_id",
   "metadata": {
    "collapsed": true,
    "ExecuteTime": {
     "end_time": "2025-05-19T20:52:51.519509Z",
     "start_time": "2025-05-19T20:52:51.513422Z"
    }
   },
   "source": [
    "# Sample data\n",
    "\n",
    "import numpy as np\n",
    "\n",
    "FEE_HAIRCUT = 1.0 - 0.997\n",
    "SWAP_CURVE_Y = np.arange(0.01, 1.0, 0.1 )\n",
    "CHAIN_LIQUIDITY_TOK_1 = [2.0]*4\n",
    "CHAIN_LIQUIDITY_TOK_2 = [1.0]*4\n",
    "\n",
    "\n",
    "sample_swap_init_Y_str = \"\\tSwap curve Y: \"\n",
    "sample_chain_tok_1_str = \"\\tChain liquidity token 1:\"\n",
    "sample_chain_tok_2_str = \"\\tChain liquidity token 2:\"\n",
    "sample_fee_haircut_str = \"\\tFee haircut:\"\n",
    "print(f\"Sample data \\n\"\n",
    "      + sample_swap_init_Y_str + f\"{SWAP_CURVE_Y} \\n\"\n",
    "      + sample_chain_tok_1_str + f\"{CHAIN_LIQUIDITY_TOK_1}\\n\"\n",
    "      + sample_chain_tok_2_str + f\"{CHAIN_LIQUIDITY_TOK_2}\\n\"\n",
    "      + sample_fee_haircut_str + f\"{FEE_HAIRCUT:6.4f}\\n\\n\" )"
   ],
   "outputs": [
    {
     "name": "stdout",
     "output_type": "stream",
     "text": [
      "Sample data \n",
      "\tSwap curve Y: [0.01 0.11 0.21 0.31 0.41 0.51 0.61 0.71 0.81 0.91] \n",
      "\tChain liquidity token 1:[2.0, 2.0, 2.0, 2.0]\n",
      "\tChain liquidity token 2:[1.0, 1.0, 1.0, 1.0]\n",
      "\tFee haircut:0.0030\n",
      "\n",
      "\n"
     ]
    }
   ],
   "execution_count": 2
  },
  {
   "metadata": {
    "ExecuteTime": {
     "end_time": "2025-05-19T20:52:54.611237Z",
     "start_time": "2025-05-19T20:52:54.602120Z"
    }
   },
   "cell_type": "code",
   "source": [
    "# Define forward and backward swap calculators\n",
    "from typing import Union\n",
    "\n",
    "def forward_swap(x:Union[float, np.ndarray], haircut:float = FEE_HAIRCUT) -> Union[float, np.ndarray]:\n",
    "    if isinstance(x, float):\n",
    "        assert x > 0\n",
    "    elif isinstance(x, np.ndarray):\n",
    "        assert np.all(x) > 0\n",
    "    assert haircut > 0\n",
    "    return haircut * x /(1 + haircut * x)\n",
    "\n",
    "def backward_swap(y:Union[float, np.ndarray], haircut:float = FEE_HAIRCUT) -> Union[float, np.ndarray]:\n",
    "    if isinstance(y, float):\n",
    "        assert y > 0\n",
    "    elif isinstance(y, np.ndarray):\n",
    "        assert np.all(y) > 0\n",
    "    assert haircut > 0\n",
    "    return haircut * y /(1 - haircut * y)\n",
    "\n"
   ],
   "id": "e5e4f5b54960c8ec",
   "outputs": [],
   "execution_count": 3
  },
  {
   "metadata": {
    "ExecuteTime": {
     "end_time": "2025-05-19T20:52:56.709968Z",
     "start_time": "2025-05-19T20:52:56.696947Z"
    }
   },
   "cell_type": "code",
   "source": [
    "# Define swap curves\n",
    "#    Note: curves define the swap space, so haircut does not apply\n",
    "\n",
    "x = backward_swap(SWAP_CURVE_Y, haircut=1.0)\n",
    "y = forward_swap(x, haircut=1.0)\n",
    "\n",
    "# Check if forward_swap equals inverse of backward_swap\n",
    "inverse_test = np.allclose(y, SWAP_CURVE_Y)\n",
    "print(f\"Swap curves defined. \\nForward swap is inverse of Backward swap: {inverse_test}\")\n"
   ],
   "id": "4b5de37d6b6eeb1a",
   "outputs": [
    {
     "name": "stdout",
     "output_type": "stream",
     "text": [
      "Swap curves defined. \n",
      "Forward swap is inverse of Backward swap: True\n"
     ]
    }
   ],
   "execution_count": 4
  },
  {
   "metadata": {
    "ExecuteTime": {
     "end_time": "2025-05-19T21:12:40.409008Z",
     "start_time": "2025-05-19T21:12:40.403632Z"
    }
   },
   "cell_type": "code",
   "source": "print(x)",
   "id": "ded92a74878ffec8",
   "outputs": [
    {
     "name": "stdout",
     "output_type": "stream",
     "text": [
      "[1.01010101e-02 1.23595506e-01 2.65822785e-01 4.49275362e-01\n",
      " 6.94915254e-01 1.04081633e+00 1.56410256e+00 2.44827586e+00\n",
      " 4.26315789e+00 1.01111111e+01]\n"
     ]
    }
   ],
   "execution_count": 20
  },
  {
   "metadata": {
    "ExecuteTime": {
     "end_time": "2025-05-19T21:49:33.982781Z",
     "start_time": "2025-05-19T21:49:33.966212Z"
    }
   },
   "cell_type": "code",
   "source": [
    "# Cyclic transaction calculations\n",
    "\n",
    "def generate_exchange_data(in_leg_liq: np.ndarray, out_leg_liq: np.ndarray) -> list[dict]:\n",
    "    assert len(in_leg_liq) == len(out_leg_liq)\n",
    "    exchange_data = []\n",
    "    for i in range(len(in_leg_liq)):\n",
    "        exch = { \"swap_number\": i+1,\n",
    "                 \"liq_in\": in_leg_liq[i],\n",
    "                 \"liq_out\": out_leg_liq[i],}\n",
    "        exchange_data.append(exch)\n",
    "    return exchange_data\n",
    "\n",
    "def generate_upper_bounds(exch_data: list[dict], x_curve: np.ndarray, y_curve: np.ndarray) -> np.ndarray:\n",
    "    # Allocate eta array\n",
    "    hat_eta = []\n",
    "\n",
    "    # Calculate bounds\n",
    "\n",
    "    # second swap\n",
    "    i = 1\n",
    "    exch_prior = exch_data[i][\"swap_number\"] - 1\n",
    "    exch_current = exch_prior + 1\n",
    "    print(f\"Swap number {exch_data[i]['swap_number']}\\n\" )\n",
    "    print(f\"\\t Prior exchange {exch_prior}\" )\n",
    "    print(f\"\\t Prior exchange outgoing leg liquidity: {exch_data[i]['liq_out']}\")\n",
    "    print(f\"\\t Current exchange {exch_current}\" )\n",
    "    print(f\"\\t Current exchange incoming leg liquidity: {exch_data[i]['liq_in']}\")\n",
    "\n",
    "    # a(i, i-1)/a(i,i+1)\n",
    "    ratio_out_div_by_in = exch_data[exch_prior][\"liq_out\"] / exch_data[exch_current][\"liq_in\"]\n",
    "    xi_indx = np.searchsorted(x_curve, ratio_out_div_by_in, side='right')\n",
    "\n",
    "    print(f\"\\t Ratio {ratio_out_div_by_in}\")\n",
    "    print(f\"\\t X value above {x_curve[xi_indx]}\")\n",
    "    print(f\"\\t X value below {x_curve[xi_indx-1]}\")\n",
    "\n",
    "    eta = float(y_curve[xi_indx])\n",
    "    eta_dict = {\"exch_num\": exch_current, \"eta\": eta, \"y_value\": float(y_curve[xi_indx])}\n",
    "    print(f\"\\t Eta dict {eta_dict}\")\n",
    "\n",
    "    hat_eta.append(eta)\n",
    "\n",
    "    for i in range(2,len(exch_data)-1):\n",
    "        exch_prior = exch_data[i][\"swap_number\"] - 1\n",
    "        exch_current = exch_prior + 1\n",
    "        print(f\"Swap number {exch_data[i]['swap_number']}\\n\" )\n",
    "        print(f\"\\t Prior exchange {exch_prior}\" )\n",
    "        print(f\"\\t Prior exchange outgoing leg liquidity: {exch_data[i]['liq_out']}\")\n",
    "        print(f\"\\t Current exchange {exch_current}\" )\n",
    "        print(f\"\\t Current exchange incoming leg liquidity: {exch_data[i]['liq_in']}\")\n",
    "\n",
    "        # a(i, i-1)/a(i,i+1)\n",
    "        ratio_out_div_by_in = exch_data[exch_prior][\"liq_out\"] / exch_data[exch_current][\"liq_in\"]\n",
    "        xi_indx = np.searchsorted(x_curve, ratio_out_div_by_in, side='right')\n",
    "\n",
    "        print(f\"\\t Ratio {ratio_out_div_by_in}\")\n",
    "        print(f\"\\t X value above {x_curve[xi_indx]}\")\n",
    "        print(f\"\\t X value below {x_curve[xi_indx-1]}\")\n",
    "\n",
    "        eta = float(y_curve[xi_indx]) * hat_eta[len(hat_eta)-1]\n",
    "        hat_eta.append(eta)\n",
    "        eta_dict = {\"exch_num\": exch_current, \"eta\": eta, \"y_value\": float(y_curve[xi_indx])}\n",
    "        print(f\"\\t Eta dict {eta_dict}\")\n",
    "\n",
    "    return hat_eta\n",
    "\n",
    "\n",
    "\n"
   ],
   "id": "15f21a8abd131a8e",
   "outputs": [],
   "execution_count": 76
  },
  {
   "metadata": {
    "ExecuteTime": {
     "end_time": "2025-05-19T21:49:34.567061Z",
     "start_time": "2025-05-19T21:49:34.559365Z"
    }
   },
   "cell_type": "code",
   "source": "exch_cycle = generate_exchange_data(CHAIN_LIQUIDITY_TOK_1, CHAIN_LIQUIDITY_TOK_2)",
   "id": "e9c25160207120ee",
   "outputs": [],
   "execution_count": 77
  },
  {
   "metadata": {
    "ExecuteTime": {
     "end_time": "2025-05-19T21:49:35.169495Z",
     "start_time": "2025-05-19T21:49:35.159273Z"
    }
   },
   "cell_type": "code",
   "source": "print(exch_cycle)",
   "id": "39f5a71ef0eef6da",
   "outputs": [
    {
     "name": "stdout",
     "output_type": "stream",
     "text": [
      "[{'swap_number': 1, 'liq_in': 2.0, 'liq_out': 1.0}, {'swap_number': 2, 'liq_in': 2.0, 'liq_out': 1.0}, {'swap_number': 3, 'liq_in': 2.0, 'liq_out': 1.0}, {'swap_number': 4, 'liq_in': 2.0, 'liq_out': 1.0}]\n"
     ]
    }
   ],
   "execution_count": 78
  },
  {
   "metadata": {
    "ExecuteTime": {
     "end_time": "2025-05-19T21:49:35.832412Z",
     "start_time": "2025-05-19T21:49:35.818290Z"
    }
   },
   "cell_type": "code",
   "source": "upper_bounds = generate_upper_bounds(exch_data=exch_cycle, x_curve=x, y_curve=y)",
   "id": "236af12da6a5d270",
   "outputs": [
    {
     "name": "stdout",
     "output_type": "stream",
     "text": [
      "Swap number 2\n",
      "\n",
      "\t Prior exchange 1\n",
      "\t Prior exchange outgoing leg liquidity: 1.0\n",
      "\t Current exchange 2\n",
      "\t Current exchange incoming leg liquidity: 2.0\n",
      "\t Ratio 0.5\n",
      "\t X value above 0.6949152542372882\n",
      "\t X value below 0.4492753623188407\n",
      "\t Eta dict {'exch_num': 2, 'eta': 0.41000000000000003, 'y_value': 0.41000000000000003}\n",
      "Swap number 3\n",
      "\n",
      "\t Prior exchange 2\n",
      "\t Prior exchange outgoing leg liquidity: 1.0\n",
      "\t Current exchange 3\n",
      "\t Current exchange incoming leg liquidity: 2.0\n",
      "\t Ratio 0.5\n",
      "\t X value above 0.6949152542372882\n",
      "\t X value below 0.4492753623188407\n",
      "\t Eta dict {'exch_num': 3, 'eta': 0.16810000000000003, 'y_value': 0.41000000000000003}\n"
     ]
    }
   ],
   "execution_count": 79
  },
  {
   "metadata": {
    "ExecuteTime": {
     "end_time": "2025-05-19T21:49:43.833125Z",
     "start_time": "2025-05-19T21:49:43.817439Z"
    }
   },
   "cell_type": "code",
   "source": "print(upper_bounds)",
   "id": "dd051ffffe8694ec",
   "outputs": [
    {
     "name": "stdout",
     "output_type": "stream",
     "text": [
      "[0.41000000000000003, 0.16810000000000003]\n"
     ]
    }
   ],
   "execution_count": 80
  },
  {
   "metadata": {
    "ExecuteTime": {
     "end_time": "2025-05-19T21:55:20.555991Z",
     "start_time": "2025-05-19T21:55:20.549032Z"
    }
   },
   "cell_type": "code",
   "source": [
    "delta_1 = backward_swap(upper_bounds[0])\n",
    "delta_1_prime =  forward_swap(upper_bounds[len(upper_bounds)-1])"
   ],
   "id": "5ae0279cf8d1d4ef",
   "outputs": [],
   "execution_count": 85
  },
  {
   "metadata": {
    "ExecuteTime": {
     "end_time": "2025-05-19T21:55:22.172360Z",
     "start_time": "2025-05-19T21:55:22.160524Z"
    }
   },
   "cell_type": "code",
   "source": [
    "print(delta_1)\n",
    "print(delta_1_prime)"
   ],
   "id": "68458b30d919284f",
   "outputs": [
    {
     "name": "stdout",
     "output_type": "stream",
     "text": [
      "0.0012315147631586864\n",
      "0.0005040458096981697\n"
     ]
    }
   ],
   "execution_count": 86
  },
  {
   "metadata": {},
   "cell_type": "code",
   "outputs": [],
   "execution_count": null,
   "source": "",
   "id": "dabc355ed7a0e40d"
  }
 ],
 "metadata": {
  "kernelspec": {
   "display_name": "Python 3",
   "language": "python",
   "name": "python3"
  },
  "language_info": {
   "codemirror_mode": {
    "name": "ipython",
    "version": 2
   },
   "file_extension": ".py",
   "mimetype": "text/x-python",
   "name": "python",
   "nbconvert_exporter": "python",
   "pygments_lexer": "ipython2",
   "version": "2.7.6"
  }
 },
 "nbformat": 4,
 "nbformat_minor": 5
}
