{
 "cells": [
  {
   "cell_type": "code",
   "id": "initial_id",
   "metadata": {
    "collapsed": true,
    "ExecuteTime": {
     "end_time": "2025-05-20T03:09:48.108019Z",
     "start_time": "2025-05-20T03:09:48.094972Z"
    }
   },
   "source": [
    "# Sample data\n",
    "\n",
    "import numpy as np\n",
    "\n",
    "FEE_HAIRCUT = 1 - 0.003\n",
    "SWAP_CURVE_Y = np.arange(0.01, 1.0, 0.1 )\n",
    "CHAIN_LIQUIDITY_TOK_1 = [2.0, 2.0, 2.0, 2.0]\n",
    "CHAIN_LIQUIDITY_TOK_2 = [1.0, 1.0, 1.0, 1.0]\n",
    "MAX_RATIO_OUTSWAP_TO_LIQUIDITY = 0.9\n",
    "MAX_RATIO_INSWAP_TO_LIQUIDITY = 9.0\n",
    "\n",
    "sample_swap_init_Y_str = \"\\tSwap curve Y: \"\n",
    "sample_chain_tok_1_str = \"\\tChain liquidity token 1:\"\n",
    "sample_chain_tok_2_str = \"\\tChain liquidity token 2:\"\n",
    "sample_fee_haircut_str = \"\\tFee haircut:\"\n",
    "print(f\"Sample data \\n\"\n",
    "      + sample_swap_init_Y_str + f\"{SWAP_CURVE_Y} \\n\"\n",
    "      + sample_chain_tok_1_str + f\"{CHAIN_LIQUIDITY_TOK_1}\\n\"\n",
    "      + sample_chain_tok_2_str + f\"{CHAIN_LIQUIDITY_TOK_2}\\n\"\n",
    "      + sample_fee_haircut_str + f\"{FEE_HAIRCUT:6.4f}\\n\\n\" )"
   ],
   "outputs": [
    {
     "name": "stdout",
     "output_type": "stream",
     "text": [
      "Sample data \n",
      "\tSwap curve Y: [0.01 0.11 0.21 0.31 0.41 0.51 0.61 0.71 0.81 0.91] \n",
      "\tChain liquidity token 1:[2.0, 2.0, 2.0, 2.0]\n",
      "\tChain liquidity token 2:[1.0, 1.0, 1.0, 1.0]\n",
      "\tFee haircut:0.9970\n",
      "\n",
      "\n"
     ]
    }
   ],
   "execution_count": 161
  },
  {
   "metadata": {
    "ExecuteTime": {
     "end_time": "2025-05-20T03:09:49.084579Z",
     "start_time": "2025-05-20T03:09:49.073685Z"
    }
   },
   "cell_type": "code",
   "source": [
    "# Define forward and backward swap calculators\n",
    "from typing import Union\n",
    "\n",
    "def forward_swap(x:Union[float, np.ndarray], haircut:float = FEE_HAIRCUT) -> Union[float, np.ndarray]:\n",
    "    if isinstance(x, float):\n",
    "        assert x > 0\n",
    "    elif isinstance(x, np.ndarray):\n",
    "        assert np.all(x) > 0\n",
    "    assert haircut > 0\n",
    "    return haircut * x /(1 + haircut * x)\n",
    "\n",
    "def backward_swap(y:Union[float, np.ndarray], haircut:float = FEE_HAIRCUT) -> Union[float, np.ndarray]:\n",
    "    if isinstance(y, float):\n",
    "        assert y > 0.0\n",
    "        assert y < 1.0\n",
    "    elif isinstance(y, np.ndarray):\n",
    "        assert np.all(y) > 0\n",
    "        assert np.all(y < 1.0)\n",
    "    assert haircut > 0\n",
    "    return haircut * y /(1 - haircut * y)\n",
    "\n"
   ],
   "id": "e5e4f5b54960c8ec",
   "outputs": [],
   "execution_count": 162
  },
  {
   "metadata": {
    "ExecuteTime": {
     "end_time": "2025-05-20T03:09:49.998785Z",
     "start_time": "2025-05-20T03:09:49.988040Z"
    }
   },
   "cell_type": "code",
   "source": [
    "# Define swap curves\n",
    "#    Note: curves define the swap space, so haircut does not apply\n",
    "\n",
    "x = backward_swap(SWAP_CURVE_Y, haircut=1.0)\n",
    "y = forward_swap(x, haircut=1.0)\n",
    "\n",
    "# Check if forward_swap equals inverse of backward_swap\n",
    "inverse_test = np.allclose(y, SWAP_CURVE_Y)\n",
    "print(f\"Swap curves defined. \\nForward swap is inverse of Backward swap: {inverse_test}\")\n"
   ],
   "id": "4b5de37d6b6eeb1a",
   "outputs": [
    {
     "name": "stdout",
     "output_type": "stream",
     "text": [
      "Swap curves defined. \n",
      "Forward swap is inverse of Backward swap: True\n"
     ]
    }
   ],
   "execution_count": 163
  },
  {
   "metadata": {
    "ExecuteTime": {
     "end_time": "2025-05-20T03:09:50.839542Z",
     "start_time": "2025-05-20T03:09:50.829256Z"
    }
   },
   "cell_type": "code",
   "source": [
    "print(x)\n",
    "print(y)"
   ],
   "id": "cb11cca848576844",
   "outputs": [
    {
     "name": "stdout",
     "output_type": "stream",
     "text": [
      "[1.01010101e-02 1.23595506e-01 2.65822785e-01 4.49275362e-01\n",
      " 6.94915254e-01 1.04081633e+00 1.56410256e+00 2.44827586e+00\n",
      " 4.26315789e+00 1.01111111e+01]\n",
      "[0.01 0.11 0.21 0.31 0.41 0.51 0.61 0.71 0.81 0.91]\n"
     ]
    }
   ],
   "execution_count": 164
  },
  {
   "metadata": {
    "ExecuteTime": {
     "end_time": "2025-05-20T03:16:20.297726Z",
     "start_time": "2025-05-20T03:16:20.288359Z"
    }
   },
   "cell_type": "code",
   "source": [
    "# Cyclic transaction calculations\n",
    "\n",
    "def generate_exchange_data(in_leg_liq: np.ndarray, out_leg_liq: np.ndarray) -> list[dict]:\n",
    "    assert len(in_leg_liq) == len(out_leg_liq)\n",
    "    exchange_data = []\n",
    "    for i in range(len(in_leg_liq)):\n",
    "        exch = { \"exch_number\": i+1,\n",
    "                 \"liq_in\": in_leg_liq[i],\n",
    "                 \"liq_out\": out_leg_liq[i],\n",
    "                 \"eta\": 0,\n",
    "                 \"upper_bound\": 0,\n",
    "                 \"delta_in\": 0,\n",
    "                 \"delta_out\": 0,}\n",
    "        exchange_data.append(exch)\n",
    "    return exchange_data\n",
    "\n",
    "def generate_upper_bounds(exch_data: list[dict], x_curve: np.ndarray, y_curve: np.ndarray) -> float:\n",
    "\n",
    "    # Initialize: delta_2 upper bound is Exchange 1 outgoing liquidity\n",
    "    #             eta is delta_2 upper bound\n",
    "    i = 0\n",
    "    exch_data[i]['upper_bound'] = exch_data[i]['liq_out'] * MAX_RATIO_OUTSWAP_TO_LIQUIDITY\n",
    "    exch_data[i]['eta'] = exch_data[i]['upper_bound']\n",
    "\n",
    "    #print(f\"Exchange number {exch_data[i][\"exch_number\"]}\" )\n",
    "    #print(f\"\\t Outgoing leg liquidity: {exch_data[i]['liq_out']}\")\n",
    "    #print(f\"\\t Upper bound outgoing leg: {exch_data[i]['upper_bound']}\")\n",
    "    #print(f\"\\t Eta: {exch_data[i]['eta']}\")\n",
    "\n",
    "    print(f\"Exchange data: {exch_data[i]}\")\n",
    "\n",
    "    # Eta and bound loop\n",
    "    for i in range(1,len(exch_data)):\n",
    "        exch_prior = exch_data[i-1][\"exch_number\"]\n",
    "        exch_current = exch_data[i]['exch_number']\n",
    "        exch_prior_out_liq = exch_data[i-1]['liq_out']\n",
    "        exch_current_in_liq = exch_data[i]['liq_in']\n",
    "        exch_current_out_liq = exch_data[i]['liq_out']\n",
    "\n",
    "    #    print(f\"Exchange number {exch_current}\" )\n",
    "    #    print(f\"\\t Prior exchange {exch_prior}\" )\n",
    "    #    print(f\"\\t Prior exchange outgoing leg liquidity: {exch_prior_out_liq}\")\n",
    "    #    print(f\"\\t Current exchange {exch_current}\" )\n",
    "    #    print(f\"\\t Current exchange incoming leg liquidity: {exch_current_in_liq}\")\n",
    "\n",
    "        # a(i, i-1)/a(i,i+1)\n",
    "        ratio_out_div_by_in = exch_prior_out_liq / exch_current_in_liq\n",
    "        xi_indx = np.searchsorted(x_curve, ratio_out_div_by_in, side='right')\n",
    "\n",
    "     #   print(f\"\\t Ratio {ratio_out_div_by_in}\")\n",
    "     #   print(f\"\\t X value above {x_curve[xi_indx]}\")\n",
    "     #   print(f\"\\t X value below {x_curve[xi_indx-1]}\")\n",
    "\n",
    "        eta = float(y_curve[xi_indx]) * exch_data[i-1]['eta']\n",
    "        exch_data[i]['upper_bound'] = eta *  exch_current_out_liq\n",
    "        exch_data[i]['eta'] = eta\n",
    "\n",
    "        print(f\"Exchange data: {exch_data[i]}\")\n",
    "\n",
    "    return exch_data[len(exch_data)-1]['upper_bound']\n",
    "\n"
   ],
   "id": "15f21a8abd131a8e",
   "outputs": [],
   "execution_count": 179
  },
  {
   "metadata": {
    "ExecuteTime": {
     "end_time": "2025-05-20T03:16:23.945315Z",
     "start_time": "2025-05-20T03:16:23.932727Z"
    }
   },
   "cell_type": "code",
   "source": "exch_cycle = generate_exchange_data(CHAIN_LIQUIDITY_TOK_1, CHAIN_LIQUIDITY_TOK_2)",
   "id": "e9c25160207120ee",
   "outputs": [],
   "execution_count": 180
  },
  {
   "metadata": {
    "ExecuteTime": {
     "end_time": "2025-05-20T03:16:25.616567Z",
     "start_time": "2025-05-20T03:16:25.600058Z"
    }
   },
   "cell_type": "code",
   "source": "delta_1_prime = generate_upper_bounds(exch_data=exch_cycle, x_curve=x, y_curve=y)",
   "id": "3c2017fe8ccac21d",
   "outputs": [
    {
     "name": "stdout",
     "output_type": "stream",
     "text": [
      "Exchange data: {'exch_number': 1, 'liq_in': 2.0, 'liq_out': 1.0, 'eta': 0.9, 'upper_bound': 0.9, 'delta_in': 0, 'delta_out': 0}\n",
      "Exchange data: {'exch_number': 2, 'liq_in': 2.0, 'liq_out': 1.0, 'eta': 0.36900000000000005, 'upper_bound': 0.36900000000000005, 'delta_in': 0, 'delta_out': 0}\n",
      "Exchange data: {'exch_number': 3, 'liq_in': 2.0, 'liq_out': 1.0, 'eta': 0.15129000000000004, 'upper_bound': 0.15129000000000004, 'delta_in': 0, 'delta_out': 0}\n",
      "Exchange data: {'exch_number': 4, 'liq_in': 2.0, 'liq_out': 1.0, 'eta': 0.06202890000000002, 'upper_bound': 0.06202890000000002, 'delta_in': 0, 'delta_out': 0}\n"
     ]
    }
   ],
   "execution_count": 181
  },
  {
   "metadata": {
    "ExecuteTime": {
     "end_time": "2025-05-20T03:16:34.098621Z",
     "start_time": "2025-05-20T03:16:34.080094Z"
    }
   },
   "cell_type": "code",
   "source": [
    "# Compute swaps backward from last exchange upper bound\n",
    "\n",
    "i = len(exch_cycle)-1\n",
    "exch_cycle[i]['delta_out'] = delta_1_prime\n",
    "\n",
    "for i in range(len(exch_cycle)-1, -1, -1):\n",
    "    print(i)\n",
    "    liq_out = exch_cycle[i]['liq_out']\n",
    "    liq_in = exch_cycle[i]['liq_in']\n",
    "    delta_out = exch_cycle[i]['delta_out']\n",
    "    delta_in = liq_in * backward_swap(delta_out/liq_out)\n",
    "    exch_cycle[i]['delta_in'] = delta_in\n",
    "    if i > 0:\n",
    "        exch_cycle[i-1]['delta_out'] = exch_cycle[i]['delta_in']\n",
    "\n",
    "    print(f\"Exchange data: {exch_cycle[i]}\")\n"
   ],
   "id": "381efd25fa8696c5",
   "outputs": [
    {
     "name": "stdout",
     "output_type": "stream",
     "text": [
      "3\n",
      "Exchange data: {'exch_number': 4, 'liq_in': 2.0, 'liq_out': 1.0, 'eta': 0.06202890000000002, 'upper_bound': 0.06202890000000002, 'delta_in': 0.1318389160723359, 'delta_out': 0.06202890000000002}\n",
      "2\n",
      "Exchange data: {'exch_number': 3, 'liq_in': 2.0, 'liq_out': 1.0, 'eta': 0.15129000000000004, 'upper_bound': 0.15129000000000004, 'delta_in': 0.30267088920131197, 'delta_out': 0.1318389160723359}\n",
      "1\n",
      "Exchange data: {'exch_number': 2, 'liq_in': 2.0, 'liq_out': 1.0, 'eta': 0.36900000000000005, 'upper_bound': 0.36900000000000005, 'delta_in': 0.8643564382130018, 'delta_out': 0.30267088920131197}\n",
      "0\n",
      "Exchange data: {'exch_number': 1, 'liq_in': 2.0, 'liq_out': 1.0, 'eta': 0.9, 'upper_bound': 0.9, 'delta_in': 12.467945175324177, 'delta_out': 0.8643564382130018}\n"
     ]
    }
   ],
   "execution_count": 182
  },
  {
   "metadata": {
    "ExecuteTime": {
     "end_time": "2025-05-20T03:03:57.047089Z",
     "start_time": "2025-05-20T03:03:57.037609Z"
    }
   },
   "cell_type": "code",
   "source": "",
   "id": "9a24f393933d820",
   "outputs": [],
   "execution_count": null
  },
  {
   "metadata": {},
   "cell_type": "code",
   "outputs": [],
   "execution_count": null,
   "source": "",
   "id": "de62058fbecf4f5a"
  }
 ],
 "metadata": {
  "kernelspec": {
   "display_name": "Python 3",
   "language": "python",
   "name": "python3"
  },
  "language_info": {
   "codemirror_mode": {
    "name": "ipython",
    "version": 2
   },
   "file_extension": ".py",
   "mimetype": "text/x-python",
   "name": "python",
   "nbconvert_exporter": "python",
   "pygments_lexer": "ipython2",
   "version": "2.7.6"
  }
 },
 "nbformat": 4,
 "nbformat_minor": 5
}
