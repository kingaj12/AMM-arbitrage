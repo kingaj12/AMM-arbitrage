{
 "cells": [
  {
   "cell_type": "code",
   "id": "5c449c69abcbc57a",
   "metadata": {
    "ExecuteTime": {
     "end_time": "2025-06-02T18:53:03.379595Z",
     "start_time": "2025-06-02T18:53:02.402638Z"
    }
   },
   "source": [
    "# packages\n",
    "\n",
    "import numpy as np\n",
    "import pandas as pd"
   ],
   "outputs": [],
   "execution_count": 1
  },
  {
   "metadata": {
    "ExecuteTime": {
     "end_time": "2025-06-02T18:53:25.264528Z",
     "start_time": "2025-06-02T18:53:25.256109Z"
    }
   },
   "cell_type": "code",
   "source": [
    "FEE_HAIRCUT = 0.997\n",
    "EXCHANGES = [\n",
    "    {\"input_token\": 1, \"input_liquidity\": 2.1, \"output_token\": 2, \"output_liquidity\": 3.2, \"haircut\": FEE_HAIRCUT},\n",
    "    {\"input_token\": 2, \"input_liquidity\": 2.2, \"output_token\": 3, \"output_liquidity\": 3.3, \"haircut\": FEE_HAIRCUT},\n",
    "    {\"input_token\": 3, \"input_liquidity\": 2.3, \"output_token\": 4, \"output_liquidity\": 3.4, \"haircut\": FEE_HAIRCUT},\n",
    "    {\"input_token\": 4, \"input_liquidity\": 2.4, \"output_token\": 1, \"output_liquidity\": 3.1, \"haircut\": FEE_HAIRCUT}, ]\n"
   ],
   "id": "6e2d42d261a079d4",
   "outputs": [],
   "execution_count": 2
  },
  {
   "metadata": {
    "ExecuteTime": {
     "end_time": "2025-06-02T18:53:32.041718Z",
     "start_time": "2025-06-02T18:53:32.033183Z"
    }
   },
   "cell_type": "code",
   "source": [
    "SWAP_CURVE_X = np.exp(np.linspace(0, 1, 100)) - 1\n",
    "#print(SWAP_CURVE_X)"
   ],
   "id": "29f5c03e859be5d6",
   "outputs": [],
   "execution_count": 3
  },
  {
   "metadata": {
    "ExecuteTime": {
     "end_time": "2025-06-02T18:53:35.915245Z",
     "start_time": "2025-06-02T18:53:35.900930Z"
    }
   },
   "cell_type": "code",
   "source": [
    "# Define forward and backward swap calculators\n",
    "from typing import Union\n",
    "\n",
    "def forward_swap(x:Union[float, np.ndarray], haircut:float = FEE_HAIRCUT) -> Union[float, np.ndarray]:\n",
    "    if isinstance(x, float):\n",
    "        assert x >= 0\n",
    "    elif isinstance(x, np.ndarray):\n",
    "        assert np.all(x) >= 0\n",
    "    assert haircut > 0\n",
    "    return haircut * x /(1 + haircut * x)\n",
    "\n",
    "def backward_swap(y:Union[float, np.ndarray], haircut:float = FEE_HAIRCUT) -> Union[float, np.ndarray]:\n",
    "    if isinstance(y, float):\n",
    "        assert y >= 0.0\n",
    "        assert y < 1.0\n",
    "    elif isinstance(y, np.ndarray):\n",
    "        assert np.all(y) >= 0\n",
    "        assert np.all(y < 1.0)\n",
    "    assert haircut > 0\n",
    "    return y /(haircut - haircut * y)\n",
    "\n"
   ],
   "id": "e5e4f5b54960c8ec",
   "outputs": [],
   "execution_count": 4
  },
  {
   "metadata": {
    "ExecuteTime": {
     "end_time": "2025-06-02T18:53:44.048204Z",
     "start_time": "2025-06-02T18:53:44.040513Z"
    }
   },
   "cell_type": "code",
   "source": [
    "def generate_ITL(exchange_list:list[dict]=EXCHANGES) -> dict:\n",
    "    ITL = {}\n",
    "    ITL[1] = {'token': 1, 'current_in_liq': exchange_list[0]['input_liquidity']}\n",
    "    for i in range(len(exchange_list)-1):\n",
    "        assert exchange_list[i]['output_token'] == exchange_list[i+1]['input_token']\n",
    "        token = exchange_list[i]['output_token']\n",
    "        ITL[token] = {'token': token,\n",
    "                      \"prior_out_liq\": exchange_list[i]['output_liquidity'],\n",
    "                      \"current_in_liq\": exchange_list[i+1]['input_liquidity'],\n",
    "                      \"current_out_liq\": exchange_list[i+1]['output_liquidity'],}\n",
    "    return ITL\n",
    "\n"
   ],
   "id": "cf164548c8f0372d",
   "outputs": [],
   "execution_count": 5
  },
  {
   "metadata": {
    "ExecuteTime": {
     "end_time": "2025-06-02T18:53:45.854503Z",
     "start_time": "2025-06-02T18:53:45.843284Z"
    }
   },
   "cell_type": "code",
   "source": [
    "ITL = generate_ITL()\n",
    "print(ITL)\n",
    "exchange_list = EXCHANGES"
   ],
   "id": "9da79ab641f747ac",
   "outputs": [
    {
     "name": "stdout",
     "output_type": "stream",
     "text": [
      "{1: {'token': 1, 'current_in_liq': 2.1}, 2: {'token': 2, 'prior_out_liq': 3.2, 'current_in_liq': 2.2, 'current_out_liq': 3.3}, 3: {'token': 3, 'prior_out_liq': 3.3, 'current_in_liq': 2.3, 'current_out_liq': 3.4}, 4: {'token': 4, 'prior_out_liq': 3.4, 'current_in_liq': 2.4, 'current_out_liq': 3.1}}\n"
     ]
    }
   ],
   "execution_count": 6
  },
  {
   "metadata": {
    "ExecuteTime": {
     "end_time": "2025-06-02T18:53:50.158731Z",
     "start_time": "2025-06-02T18:53:50.150917Z"
    }
   },
   "cell_type": "code",
   "source": [
    "# Define swap curves\n",
    "x_curve = SWAP_CURVE_X\n",
    "y_curve = forward_swap(x_curve)\n",
    "test_x_curve = backward_swap(y_curve)\n",
    "\n",
    "# Check if forward_swap equals inverse of backward_swap\n",
    "inverse_test = np.allclose(x_curve, test_x_curve)\n",
    "print(f\"Swap curves defined. \\nForward and Backward are inverses: {inverse_test}\")"
   ],
   "id": "4b5de37d6b6eeb1a",
   "outputs": [
    {
     "name": "stdout",
     "output_type": "stream",
     "text": [
      "Swap curves defined. \n",
      "Forward and Backward are inverses: True\n"
     ]
    }
   ],
   "execution_count": 7
  },
  {
   "metadata": {
    "ExecuteTime": {
     "end_time": "2025-06-02T18:53:58.971362Z",
     "start_time": "2025-06-02T18:53:58.962302Z"
    }
   },
   "cell_type": "code",
   "source": [
    "\n",
    "def recursive_step( eta:Union[float, np.ndarray], itl:dict, x:np.array, y:np.array) -> (Union[float, np.ndarray],Union[float, np.ndarray]):\n",
    "    delta_ = eta * itl['prior_out_liq']\n",
    "    ratio = itl['prior_out_liq'] / itl['current_in_liq']\n",
    "    dsw_ = eta * ratio                                   # Discrete swap argument: eta * (a_{j,j-1}/a_{j,j+1})\n",
    "    xi_ = np.searchsorted(x, dsw_, side='right')         # x[xi_] > X\n",
    "    eta_ = y[xi_]\n",
    "    return delta_, eta_"
   ],
   "id": "a3693603a3f8a4e6",
   "outputs": [],
   "execution_count": 8
  },
  {
   "metadata": {
    "ExecuteTime": {
     "end_time": "2025-06-02T19:50:00.696320Z",
     "start_time": "2025-06-02T19:50:00.687158Z"
    }
   },
   "cell_type": "code",
   "source": [
    "# Compute swaps for all points in x_curve\n",
    "\n",
    "delta_1 = np.linspace(0.0, 2.5, 10)\n",
    "#delta_1 = x_curve\n",
    "\n",
    "delta_2 = exchange_list[0]['output_liquidity'] * forward_swap(delta_1/exchange_list[0]['input_liquidity'])\n",
    "delta_3 = exchange_list[1]['output_liquidity'] * forward_swap(delta_2/exchange_list[1]['input_liquidity'])\n",
    "delta_4 = exchange_list[2]['output_liquidity'] * forward_swap(delta_3/exchange_list[2]['input_liquidity'])\n",
    "delta_1_prime = exchange_list[3]['output_liquidity'] * forward_swap(delta_4/exchange_list[3]['input_liquidity'])"
   ],
   "id": "39220900b6bcf39",
   "outputs": [],
   "execution_count": 33
  },
  {
   "metadata": {
    "ExecuteTime": {
     "end_time": "2025-06-02T19:50:01.594153Z",
     "start_time": "2025-06-02T19:50:01.585013Z"
    }
   },
   "cell_type": "code",
   "source": "print(delta_1_prime - delta_1)",
   "id": "e32d6af2db12781f",
   "outputs": [
    {
     "name": "stdout",
     "output_type": "stream",
     "text": [
      "[ 0.          0.32624898  0.25210724  0.07658309 -0.1397024  -0.37642678\n",
      " -0.62485197 -0.88059957 -1.14123344 -1.40529021]\n"
     ]
    }
   ],
   "execution_count": 34
  },
  {
   "metadata": {
    "ExecuteTime": {
     "end_time": "2025-06-02T19:50:02.825171Z",
     "start_time": "2025-06-02T19:50:02.672516Z"
    }
   },
   "cell_type": "code",
   "source": [
    "    import matplotlib.pyplot as plt\n",
    "\n",
    "    plt.figure(figsize=(8, 5))\n",
    "    plt.plot(delta_1, delta_1_prime - delta_1, label=\"Profit (delta_1_prime - delta_1)\")\n",
    "    plt.xlabel(\"delta_1\")\n",
    "    plt.ylabel(\"delta_1_prime - delta_1\")\n",
    "    plt.title(\"Profit vs. Initial Swap Amount\")\n",
    "    plt.legend()\n",
    "    plt.grid(True)\n",
    "    plt.show()"
   ],
   "id": "8e42448ddb50d97d",
   "outputs": [
    {
     "data": {
      "text/plain": [
       "<Figure size 800x500 with 1 Axes>"
      ],
      "image/png": "[encoded data removed]"
     },
     "metadata": {},
     "output_type": "display_data"
    }
   ],
   "execution_count": 35
  },
  {
   "metadata": {
    "ExecuteTime": {
     "end_time": "2025-06-02T19:50:03.924428Z",
     "start_time": "2025-06-02T19:50:03.735997Z"
    }
   },
   "cell_type": "code",
   "source": [
    "# Prepare the arrays and labels\n",
    "swap_arrays = [delta_1, delta_2, delta_3, delta_4, delta_1_prime]\n",
    "labels = [\"delta_1\", \"delta_2\", \"delta_3\", \"delta_4\", \"delta_1_prime\"]\n",
    "\n",
    "plt.figure(figsize=(8, 6))\n",
    "for i, arr in enumerate(swap_arrays):\n",
    "    sorted_arr = np.sort(arr)\n",
    "    plt.scatter([i]*len(sorted_arr), sorted_arr, s=10, alpha=0.7)\n",
    "\n",
    "\n",
    "# Draw lines connecting delta_1[i], delta_2[i], ..., delta_1_prime[i] for each i\n",
    "for i in range(len(delta_1)):\n",
    "    y = [arr[i] for arr in swap_arrays]\n",
    "    x = list(range(len(swap_arrays)))\n",
    "    plt.plot(x, y, color='orange', alpha=0.3)\n",
    "plt.xticks(range(len(labels)), labels)\n",
    "plt.ylabel(\"Value\")\n",
    "plt.title(\"Swap Amounts Across Each Step\")\n",
    "plt.grid(axis='y', linestyle='--', alpha=0.5)\n",
    "plt.tight_layout()\n",
    "plt.show()"
   ],
   "id": "cf0ffe2bcb48a0b4",
   "outputs": [
    {
     "data": {
      "text/plain": [
       "<Figure size 800x600 with 1 Axes>"
      ],
      "image/png": "[encoded data removed]"
     },
     "metadata": {},
     "output_type": "display_data"
    }
   ],
   "execution_count": 36
  },
  {
   "metadata": {},
   "cell_type": "code",
   "outputs": [],
   "execution_count": 17,
   "source": [
    "\n",
    "# Recursive compute\n",
    "\n",
    "# define token variable outside loop to use below\n",
    "token = 0\n",
    "\n",
    "for itl in ITL:\n",
    "    # load ITL for the current iteration\n",
    "    current = ITL[itl]\n",
    "    token = current['token']\n",
    "\n",
    "    if token == 1:\n",
    "        # initial step:\n",
    "        #     delta_1 = x_curve * a_{1,2}\n",
    "        #     eta_1   = y_curve\n",
    "        current['delta'] , current['eta'] = x_curve * current['current_in_liq'] , y_curve\n",
    "    else:\n",
    "        # recursion\n",
    "        prior = ITL[itl-1]                           # recursion\n",
    "        current['delta'] , current['eta'] = recursive_step(prior['eta'], current, x_curve, y_curve)\n",
    "\n",
    "delta_1_prime = ITL[token]['eta'] * ITL[token]['current_out_liq']\n"
   ],
   "id": "ff0fb14ad020d346"
  },
  {
   "metadata": {},
   "cell_type": "code",
   "outputs": [],
   "execution_count": 19,
   "source": "profit = delta_1_prime - delta_1",
   "id": "f1838a1cafbb5bff"
  },
  {
   "metadata": {
    "ExecuteTime": {
     "end_time": "2025-06-02T19:24:09.853645Z",
     "start_time": "2025-06-02T19:24:09.714039Z"
    }
   },
   "cell_type": "code",
   "source": [
    "plt.figure(figsize=(8, 5))\n",
    "plt.plot(delta_1, profit, label=\"Profit (delta_1_prime - delta_1)\")\n",
    "plt.xlabel(\"delta_1\")\n",
    "plt.ylabel(\"delta_1_prime - delta_1\")\n",
    "plt.title(\"Profit vs. Initial Swap Amount using discrete swap upper bound\")\n",
    "plt.legend()\n",
    "plt.grid(True)\n",
    "plt.show()"
   ],
   "id": "f02140560054638",
   "outputs": [
    {
     "data": {
      "text/plain": [
       "<Figure size 800x500 with 1 Axes>"
      ],
      "image/png": "[encoded data removed]"
     },
     "metadata": {},
     "output_type": "display_data"
    }
   ],
   "execution_count": 20
  },
  {
   "metadata": {},
   "cell_type": "code",
   "outputs": [
    {
     "name": "stdout",
     "output_type": "stream",
     "text": [
      " delta_1: 0.02131961 profit: 0.13092255 return: 6.14094365 \n",
      " delta_1: 0.04285567 profit: 0.16817485 return: 3.92421463 \n",
      " delta_1: 0.06461036 profit: 0.23241764 return: 3.59721918 \n",
      " delta_1: 0.08658592 profit: 0.23853678 return: 2.75491428 \n",
      " delta_1: 0.10878457 profit: 0.27168775 return: 2.49748428 \n",
      " delta_1: 0.13120859 profit: 0.30351217 return: 2.31320358 \n",
      " delta_1: 0.15386026 profit: 0.30757860 return: 1.99907766 \n",
      " delta_1: 0.17674189 profit: 0.31114791 return: 1.76046499 \n",
      " delta_1: 0.19985582 profit: 0.31422042 return: 1.57223551 \n",
      " delta_1: 0.22320441 profit: 0.34246173 return: 1.53429639 \n",
      " delta_1: 0.24679004 profit: 0.36943924 return: 1.49697789 \n",
      " delta_1: 0.27061512 profit: 0.37051707 return: 1.36916619 \n",
      " delta_1: 0.29468207 profit: 0.37110394 return: 1.25933665 \n",
      " delta_1: 0.31899336 profit: 0.37119985 return: 1.16366013 \n",
      " delta_1: 0.34355146 profit: 0.37080480 return: 1.07932827 \n",
      " delta_1: 0.36835887 profit: 0.36991870 return: 1.00423453 \n",
      " delta_1: 0.39341814 profit: 0.34485943 return: 0.87657227 \n",
      " delta_1: 0.41873181 profit: 0.34322776 return: 0.81968398 \n",
      " delta_1: 0.44430248 profit: 0.31765710 return: 0.71495684 \n",
      " delta_1: 0.47013274 profit: 0.31527190 return: 0.67060188 \n",
      " delta_1: 0.49622523 profit: 0.31238989 return: 0.62953245 \n",
      " delta_1: 0.52258262 profit: 0.30901074 return: 0.59131461 \n",
      " delta_1: 0.54920760 profit: 0.30513408 return: 0.55558969 \n",
      " delta_1: 0.57610288 profit: 0.27823880 return: 0.48296721 \n",
      " delta_1: 0.60327121 profit: 0.25107048 return: 0.41618177 \n",
      " delta_1: 0.63071535 profit: 0.22362634 return: 0.35455984 \n",
      " delta_1: 0.65843811 profit: 0.21842426 return: 0.33173089 \n",
      " delta_1: 0.68644232 profit: 0.21271536 return: 0.30988090 \n",
      " delta_1: 0.71473083 profit: 0.18442685 return: 0.25803679 \n",
      " delta_1: 0.74330653 profit: 0.15585115 return: 0.20967278 \n",
      " delta_1: 0.77217234 profit: 0.14905753 return: 0.19303661 \n",
      " delta_1: 0.80133121 profit: 0.11989867 return: 0.14962436 \n",
      " delta_1: 0.83078609 profit: 0.11229508 return: 0.13516726 \n",
      " delta_1: 0.86054001 profit: 0.08254116 return: 0.09591786 \n",
      " delta_1: 0.89059600 profit: 0.05248517 return: 0.05893264 \n",
      " delta_1: 0.92095712 profit: 0.04375665 return: 0.04751215 \n",
      " delta_1: 0.95162647 profit: 0.01308730 return: 0.01375256 \n",
      " delta_1: 0.98260719 profit: -0.01789342 return: -0.01821014 \n",
      " delta_1: 1.01390243 profit: -0.04918865 return: -0.04851419 \n",
      " delta_1: 1.04551538 profit: -0.08080161 return: -0.07728400 \n",
      " delta_1: 1.07744927 profit: -0.09131942 return: -0.08475519 \n",
      " delta_1: 1.10970736 profit: -0.10237579 return: -0.09225476 \n",
      " delta_1: 1.14229295 profit: -0.13496137 return: -0.11814953 \n",
      " delta_1: 1.17520934 profit: -0.16787777 return: -0.14284925 \n",
      " delta_1: 1.20845992 profit: -0.20112834 return: -0.16643361 \n",
      " delta_1: 1.24204806 profit: -0.23471648 return: -0.18897536 \n",
      " delta_1: 1.27597719 profit: -0.24765611 return: -0.19409133 \n",
      " delta_1: 1.31025077 profit: -0.28192970 return: -0.21517232 \n",
      " delta_1: 1.34487231 profit: -0.31655124 return: -0.23537643 \n",
      " delta_1: 1.37984534 profit: -0.33074487 return: -0.23969706 \n",
      " delta_1: 1.41517342 profit: -0.36607295 return: -0.25867709 \n",
      " delta_1: 1.45086015 profit: -0.40175968 return: -0.27691138 \n",
      " delta_1: 1.48690918 profit: -0.43780872 return: -0.29444214 \n",
      " delta_1: 1.52332419 profit: -0.47422373 return: -0.31130847 \n",
      " delta_1: 1.56010890 profit: -0.51100843 return: -0.32754664 \n",
      " delta_1: 1.59726705 profit: -0.54816658 return: -0.34319031 \n",
      " delta_1: 1.63480243 profit: -0.58570196 return: -0.35827079 \n",
      " delta_1: 1.67271888 profit: -0.60304703 return: -0.36051906 \n",
      " delta_1: 1.71102027 profit: -0.64134842 return: -0.37483391 \n",
      " delta_1: 1.74971050 profit: -0.68003865 return: -0.38865781 \n",
      " delta_1: 1.78879352 profit: -0.71912167 return: -0.40201491 \n",
      " delta_1: 1.82827332 profit: -0.75860147 return: -0.41492782 \n",
      " delta_1: 1.86815393 profit: -0.79848208 return: -0.42741771 \n",
      " delta_1: 1.90843941 profit: -0.81840211 return: -0.42883317 \n",
      " delta_1: 1.94913388 profit: -0.85909658 return: -0.44075812 \n",
      " delta_1: 1.99024149 profit: -0.90020419 return: -0.45230903 \n",
      " delta_1: 2.03176643 profit: -0.94172913 return: -0.46350265 \n",
      " delta_1: 2.07371293 profit: -0.98367564 return: -0.47435478 \n",
      " delta_1: 2.11608529 profit: -1.02604800 return: -0.48488026 \n",
      " delta_1: 2.15888782 profit: -1.06885053 return: -0.49509313 \n",
      " delta_1: 2.20212489 profit: -1.11208760 return: -0.50500660 \n",
      " delta_1: 2.24580092 profit: -1.15576362 return: -0.51463316 \n",
      " delta_1: 2.28992034 profit: -1.19988305 return: -0.52398462 \n",
      " delta_1: 2.33448768 profit: -1.22428883 return: -0.52443576 \n",
      " delta_1: 2.37950748 profit: -1.26930862 return: -0.53343334 \n",
      " delta_1: 2.42498432 profit: -1.31478547 return: -0.54218308 \n",
      " delta_1: 2.47092286 profit: -1.36072400 return: -0.55069465 \n",
      " delta_1: 2.51732777 profit: -1.40712891 return: -0.55897723 \n",
      " delta_1: 2.56420379 profit: -1.43404522 return: -0.55925556 \n",
      " delta_1: 2.61155571 profit: -1.48139714 return: -0.56724700 \n",
      " delta_1: 2.65938835 profit: -1.52922979 return: -0.57503064 \n",
      " delta_1: 2.70770660 profit: -1.57754804 return: -0.58261410 \n",
      " delta_1: 2.75651539 profit: -1.62635682 return: -0.59000462 \n",
      " delta_1: 2.80581969 profit: -1.67566113 return: -0.59720913 \n",
      " delta_1: 2.85562455 profit: -1.72546598 return: -0.60423419 \n",
      " delta_1: 2.90593502 profit: -1.77577646 return: -0.61108608 \n",
      " delta_1: 2.95675627 profit: -1.82659770 return: -0.61777080 \n",
      " delta_1: 3.00809345 profit: -1.87793489 return: -0.62429406 \n",
      " delta_1: 3.05995183 profit: -1.92979326 return: -0.63066132 \n",
      " delta_1: 3.11233668 profit: -1.98217811 return: -0.63687779 \n",
      " delta_1: 3.16525335 profit: -2.01533491 return: -0.63670572 \n",
      " delta_1: 3.21870724 profit: -2.06878880 return: -0.64273904 \n",
      " delta_1: 3.27270381 profit: -2.12278537 return: -0.64863351 \n",
      " delta_1: 3.32724856 profit: -2.17733012 return: -0.65439359 \n",
      " delta_1: 3.38234706 profit: -2.23242862 return: -0.66002352 \n",
      " delta_1: 3.43800493 profit: -2.28808649 return: -0.66552740 \n",
      " delta_1: 3.49422785 profit: -2.34430941 return: -0.67090914 \n",
      " delta_1: 3.55102155 profit: -2.40110311 return: -0.67617250 \n",
      " delta_1: 3.60839184 profit: -2.45847340 return: -0.68132107 \n"
     ]
    }
   ],
   "execution_count": 293,
   "source": [
    "\n",
    "for i in range(len(x_curve)):\n",
    "    if delta_1[i] == 0.0:\n",
    "        continue\n",
    "    rtn = profit[i] / delta_1[i]\n",
    "    print(f\" delta_1: {delta_1[i]:10.8f} profit: {profit[i]:10.8f} return: {rtn:10.8f} \")\n"
   ],
   "id": "c4910fc77a8aed62"
  },
  {
   "metadata": {
    "ExecuteTime": {
     "end_time": "2025-05-30T20:19:11.526255Z",
     "start_time": "2025-05-30T20:19:11.513499Z"
    }
   },
   "cell_type": "code",
   "source": [
    "# Exchange 2 -> 3\n",
    "token_flow = exchange_list[0]['output_token']\n",
    "token_in = exchange_list[1]['input_token']\n",
    "assert token_flow == token_in\n",
    "intermediate_token_liquidity = ITL[token_flow]\n",
    "print(f\"Token liquidity for token-{token_flow} = {intermediate_token_liquidity}\")\n",
    "\n",
    "delta_2, eta_2 = recursive_step(eta_1, intermediate_token_liquidity, x_curve, y_curve)\n",
    "\n",
    "#for i in range(len(x_curve)):\n",
    "    # print(f\"{i} xi: {x_curve[xi_indx[i]]:6.4f},  X_2: {X_2[i]:6.4f}, xi_indx: {xi_indx[i]} \")\n",
    "#    print(f\"{i} delta_2: {delta_2[i]:6.4f},  eta_2: {eta_2[i]:6.4f}\")\n"
   ],
   "id": "545da04e75c88568",
   "outputs": [
    {
     "name": "stdout",
     "output_type": "stream",
     "text": [
      "Token liquidity for token-2 = {'out_liq': 3.2, 'in_liq': 2.2}\n"
     ]
    }
   ],
   "execution_count": 255
  },
  {
   "metadata": {},
   "cell_type": "code",
   "outputs": [],
   "execution_count": null,
   "source": "",
   "id": "5cbd11e00953447c"
  },
  {
   "metadata": {
    "ExecuteTime": {
     "end_time": "2025-05-30T20:17:24.293347Z",
     "start_time": "2025-05-30T20:17:24.287817Z"
    }
   },
   "cell_type": "code",
   "source": [
    "_, eta_2_test = recursive_step(eta_1, intermediate_token_liquidity, x_curve, y_curve)\n",
    "\n",
    "assert np.allclose(eta_2, eta_2_test)"
   ],
   "id": "49feee5f4a8590ca",
   "outputs": [],
   "execution_count": 254
  },
  {
   "metadata": {
    "ExecuteTime": {
     "end_time": "2025-05-30T19:43:22.100717Z",
     "start_time": "2025-05-30T19:43:22.085613Z"
    }
   },
   "cell_type": "code",
   "source": [
    "# Exchange 3 -> 4\n",
    "token_flow = exchange_list[1]['output_token']\n",
    "token_out = exchange_list[2]['input_token']\n",
    "\n",
    "assert token_flow == token_out\n",
    "intermediate_token_liquidity = ITL[token_flow]\n",
    "print(f\"Token liquidity for token-{token_flow} = {intermediate_token_liquidity}\")\n",
    "\n",
    "X_3 = eta_2 * intermediate_token_liquidity                 # Discrete swap argument: eta_2 * (a_{3,2}/a_{3,4})\n",
    "\n",
    "xi_indx = np.searchsorted(x_curve, X_3, side='right')      # x_curve[xi_indx] > X_2\n",
    "eta_3 = y_curve[xi_indx]\n",
    "delta_4 = eta_3 * exchange_list[2]['output_liquidity']\n",
    "\n",
    "for i in range(len(x_curve)):\n",
    "    if xi_indx[i] == len(x_curve):\n",
    "        xi_indx -= 1\n",
    "    #print(f\"{i} xi: {x_curve[xi_indx[i]]:6.4f},  X_3: {X_3[i]:6.4f}, xi_indx: {xi_indx[i]} \")\n",
    "    print(f\"{i} delta_4: {delta_4[i]:6.4f},  eta_3: {eta_3[i]:6.4f}\")\n"
   ],
   "id": "b52e7f06c47aa90e",
   "outputs": [
    {
     "name": "stdout",
     "output_type": "stream",
     "text": [
      "Token liquidity for token-3 = 1.434782608695652\n",
      "0 delta_4: 0.0678,  eta_3: 0.0199\n",
      "1 delta_4: 0.1012,  eta_3: 0.0298\n",
      "2 delta_4: 0.1670,  eta_3: 0.0491\n",
      "3 delta_4: 0.2315,  eta_3: 0.0681\n",
      "4 delta_4: 0.2632,  eta_3: 0.0774\n",
      "5 delta_4: 0.3258,  eta_3: 0.0958\n",
      "6 delta_4: 0.3871,  eta_3: 0.1139\n",
      "7 delta_4: 0.4173,  eta_3: 0.1227\n",
      "8 delta_4: 0.4472,  eta_3: 0.1315\n",
      "9 delta_4: 0.4768,  eta_3: 0.1402\n",
      "10 delta_4: 0.5351,  eta_3: 0.1574\n",
      "11 delta_4: 0.5923,  eta_3: 0.1742\n",
      "12 delta_4: 0.6204,  eta_3: 0.1825\n",
      "13 delta_4: 0.6483,  eta_3: 0.1907\n",
      "14 delta_4: 0.6759,  eta_3: 0.1988\n",
      "15 delta_4: 0.7032,  eta_3: 0.2068\n",
      "16 delta_4: 0.7302,  eta_3: 0.2148\n",
      "17 delta_4: 0.7302,  eta_3: 0.2148\n",
      "18 delta_4: 0.7570,  eta_3: 0.2226\n",
      "19 delta_4: 0.7835,  eta_3: 0.2304\n",
      "20 delta_4: 0.8097,  eta_3: 0.2382\n",
      "21 delta_4: 0.8357,  eta_3: 0.2458\n",
      "22 delta_4: 0.8614,  eta_3: 0.2534\n",
      "23 delta_4: 0.8869,  eta_3: 0.2608\n",
      "24 delta_4: 0.8869,  eta_3: 0.2608\n",
      "25 delta_4: 0.8869,  eta_3: 0.2608\n",
      "26 delta_4: 0.9121,  eta_3: 0.2683\n",
      "27 delta_4: 0.9370,  eta_3: 0.2756\n",
      "28 delta_4: 0.9617,  eta_3: 0.2829\n",
      "29 delta_4: 0.9617,  eta_3: 0.2829\n",
      "30 delta_4: 0.9617,  eta_3: 0.2829\n",
      "31 delta_4: 0.9862,  eta_3: 0.2901\n",
      "32 delta_4: 1.0104,  eta_3: 0.2972\n",
      "33 delta_4: 1.0343,  eta_3: 0.3042\n",
      "34 delta_4: 1.0343,  eta_3: 0.3042\n",
      "35 delta_4: 1.0343,  eta_3: 0.3042\n",
      "36 delta_4: 1.0581,  eta_3: 0.3112\n",
      "37 delta_4: 1.0581,  eta_3: 0.3112\n",
      "38 delta_4: 1.0816,  eta_3: 0.3181\n",
      "39 delta_4: 1.0816,  eta_3: 0.3181\n",
      "40 delta_4: 1.0816,  eta_3: 0.3181\n",
      "41 delta_4: 1.1048,  eta_3: 0.3249\n",
      "42 delta_4: 1.1278,  eta_3: 0.3317\n",
      "43 delta_4: 1.1278,  eta_3: 0.3317\n",
      "44 delta_4: 1.1278,  eta_3: 0.3317\n",
      "45 delta_4: 1.1506,  eta_3: 0.3384\n",
      "46 delta_4: 1.1506,  eta_3: 0.3384\n",
      "47 delta_4: 1.1732,  eta_3: 0.3451\n",
      "48 delta_4: 1.1732,  eta_3: 0.3451\n",
      "49 delta_4: 1.1732,  eta_3: 0.3451\n",
      "50 delta_4: 1.1955,  eta_3: 0.3516\n",
      "51 delta_4: 1.1955,  eta_3: 0.3516\n",
      "52 delta_4: 1.1955,  eta_3: 0.3516\n",
      "53 delta_4: 1.1955,  eta_3: 0.3516\n",
      "54 delta_4: 1.2176,  eta_3: 0.3581\n",
      "55 delta_4: 1.2176,  eta_3: 0.3581\n",
      "56 delta_4: 1.2176,  eta_3: 0.3581\n",
      "57 delta_4: 1.2176,  eta_3: 0.3581\n",
      "58 delta_4: 1.2395,  eta_3: 0.3646\n",
      "59 delta_4: 1.2395,  eta_3: 0.3646\n",
      "60 delta_4: 1.2612,  eta_3: 0.3709\n",
      "61 delta_4: 1.2612,  eta_3: 0.3709\n",
      "62 delta_4: 1.2612,  eta_3: 0.3709\n",
      "63 delta_4: 1.2612,  eta_3: 0.3709\n",
      "64 delta_4: 1.2827,  eta_3: 0.3773\n",
      "65 delta_4: 1.2827,  eta_3: 0.3773\n",
      "66 delta_4: 1.2827,  eta_3: 0.3773\n",
      "67 delta_4: 1.2827,  eta_3: 0.3773\n",
      "68 delta_4: 1.2827,  eta_3: 0.3773\n",
      "69 delta_4: 1.3039,  eta_3: 0.3835\n",
      "70 delta_4: 1.3039,  eta_3: 0.3835\n",
      "71 delta_4: 1.3039,  eta_3: 0.3835\n",
      "72 delta_4: 1.3039,  eta_3: 0.3835\n",
      "73 delta_4: 1.3039,  eta_3: 0.3835\n",
      "74 delta_4: 1.3249,  eta_3: 0.3897\n",
      "75 delta_4: 1.3249,  eta_3: 0.3897\n",
      "76 delta_4: 1.3249,  eta_3: 0.3897\n",
      "77 delta_4: 1.3249,  eta_3: 0.3897\n",
      "78 delta_4: 1.3249,  eta_3: 0.3897\n",
      "79 delta_4: 1.3457,  eta_3: 0.3958\n",
      "80 delta_4: 1.3457,  eta_3: 0.3958\n",
      "81 delta_4: 1.3457,  eta_3: 0.3958\n",
      "82 delta_4: 1.3457,  eta_3: 0.3958\n",
      "83 delta_4: 1.3457,  eta_3: 0.3958\n",
      "84 delta_4: 1.3457,  eta_3: 0.3958\n",
      "85 delta_4: 1.3663,  eta_3: 0.4019\n",
      "86 delta_4: 1.3663,  eta_3: 0.4019\n",
      "87 delta_4: 1.3663,  eta_3: 0.4019\n",
      "88 delta_4: 1.3663,  eta_3: 0.4019\n",
      "89 delta_4: 1.3663,  eta_3: 0.4019\n",
      "90 delta_4: 1.3663,  eta_3: 0.4019\n",
      "91 delta_4: 1.3868,  eta_3: 0.4079\n",
      "92 delta_4: 1.3868,  eta_3: 0.4079\n",
      "93 delta_4: 1.3868,  eta_3: 0.4079\n",
      "94 delta_4: 1.3868,  eta_3: 0.4079\n",
      "95 delta_4: 1.3868,  eta_3: 0.4079\n",
      "96 delta_4: 1.3868,  eta_3: 0.4079\n",
      "97 delta_4: 1.3868,  eta_3: 0.4079\n",
      "98 delta_4: 1.3868,  eta_3: 0.4079\n",
      "99 delta_4: 1.3868,  eta_3: 0.4079\n"
     ]
    }
   ],
   "execution_count": 220
  },
  {
   "metadata": {
    "ExecuteTime": {
     "end_time": "2025-05-30T19:43:22.688708Z",
     "start_time": "2025-05-30T19:43:22.673517Z"
    }
   },
   "cell_type": "code",
   "source": [
    "# Exchange 4 -> 1\n",
    "token_flow = exchange_list[2]['output_token']\n",
    "token_out = exchange_list[3]['input_token']\n",
    "\n",
    "assert token_flow == token_out\n",
    "intermediate_token_liquidity = ITL[token_flow]\n",
    "print(f\"Token liquidity for token-{token_flow} = {intermediate_token_liquidity}\")\n",
    "\n",
    "X_4 = eta_3 * intermediate_token_liquidity                 # Discrete swap argument: eta_3 * (a_{4,3/a_{4,1})\n",
    "\n",
    "xi_indx = np.searchsorted(x_curve, X_4, side='right')      # x_curve[xi_indx] > X_2\n",
    "eta_4 = y_curve[xi_indx]\n",
    "delta_1_prime = eta_4 * exchange_list[3]['output_liquidity']\n",
    "for i in range(len(x_curve)):\n",
    "    if xi_indx[i] == len(x_curve):\n",
    "        xi_indx -= 1\n",
    "    #print(f\"{i} xi: {x_curve[xi_indx[i]]:6.4f},  X_3: {X_4[i]:6.4f}, xi_indx: {xi_indx[i]} \")\n",
    "    print(f\"{i} delta_1_prime: {delta_1_prime[i]:6.4f},  eta_4: {eta_4[i]:6.4f}\")\n"
   ],
   "id": "a2838dc3c3d304c2",
   "outputs": [
    {
     "name": "stdout",
     "output_type": "stream",
     "text": [
      "Token liquidity for token-4 = 1.4166666666666667\n",
      "0 delta_1_prime: 0.0923,  eta_4: 0.0298\n",
      "1 delta_1_prime: 0.1522,  eta_4: 0.0491\n",
      "2 delta_1_prime: 0.2110,  eta_4: 0.0681\n",
      "3 delta_1_prime: 0.2970,  eta_4: 0.0958\n",
      "4 delta_1_prime: 0.3251,  eta_4: 0.1049\n",
      "5 delta_1_prime: 0.3805,  eta_4: 0.1227\n",
      "6 delta_1_prime: 0.4347,  eta_4: 0.1402\n",
      "7 delta_1_prime: 0.4614,  eta_4: 0.1489\n",
      "8 delta_1_prime: 0.4879,  eta_4: 0.1574\n",
      "9 delta_1_prime: 0.5141,  eta_4: 0.1658\n",
      "10 delta_1_prime: 0.5657,  eta_4: 0.1825\n",
      "11 delta_1_prime: 0.6162,  eta_4: 0.1988\n",
      "12 delta_1_prime: 0.6411,  eta_4: 0.2068\n",
      "13 delta_1_prime: 0.6658,  eta_4: 0.2148\n",
      "14 delta_1_prime: 0.6902,  eta_4: 0.2226\n",
      "15 delta_1_prime: 0.7144,  eta_4: 0.2304\n",
      "16 delta_1_prime: 0.7383,  eta_4: 0.2382\n",
      "17 delta_1_prime: 0.7383,  eta_4: 0.2382\n",
      "18 delta_1_prime: 0.7620,  eta_4: 0.2458\n",
      "19 delta_1_prime: 0.7620,  eta_4: 0.2458\n",
      "20 delta_1_prime: 0.7854,  eta_4: 0.2534\n",
      "21 delta_1_prime: 0.8086,  eta_4: 0.2608\n",
      "22 delta_1_prime: 0.8316,  eta_4: 0.2683\n",
      "23 delta_1_prime: 0.8543,  eta_4: 0.2756\n",
      "24 delta_1_prime: 0.8543,  eta_4: 0.2756\n",
      "25 delta_1_prime: 0.8543,  eta_4: 0.2756\n",
      "26 delta_1_prime: 0.8543,  eta_4: 0.2756\n",
      "27 delta_1_prime: 0.8769,  eta_4: 0.2829\n",
      "28 delta_1_prime: 0.8992,  eta_4: 0.2901\n",
      "29 delta_1_prime: 0.8992,  eta_4: 0.2901\n",
      "30 delta_1_prime: 0.8992,  eta_4: 0.2901\n",
      "31 delta_1_prime: 0.9212,  eta_4: 0.2972\n",
      "32 delta_1_prime: 0.9212,  eta_4: 0.2972\n",
      "33 delta_1_prime: 0.9431,  eta_4: 0.3042\n",
      "34 delta_1_prime: 0.9431,  eta_4: 0.3042\n",
      "35 delta_1_prime: 0.9431,  eta_4: 0.3042\n",
      "36 delta_1_prime: 0.9647,  eta_4: 0.3112\n",
      "37 delta_1_prime: 0.9647,  eta_4: 0.3112\n",
      "38 delta_1_prime: 0.9647,  eta_4: 0.3112\n",
      "39 delta_1_prime: 0.9647,  eta_4: 0.3112\n",
      "40 delta_1_prime: 0.9647,  eta_4: 0.3112\n",
      "41 delta_1_prime: 0.9861,  eta_4: 0.3181\n",
      "42 delta_1_prime: 1.0073,  eta_4: 0.3249\n",
      "43 delta_1_prime: 1.0073,  eta_4: 0.3249\n",
      "44 delta_1_prime: 1.0073,  eta_4: 0.3249\n",
      "45 delta_1_prime: 1.0073,  eta_4: 0.3249\n",
      "46 delta_1_prime: 1.0073,  eta_4: 0.3249\n",
      "47 delta_1_prime: 1.0283,  eta_4: 0.3317\n",
      "48 delta_1_prime: 1.0283,  eta_4: 0.3317\n",
      "49 delta_1_prime: 1.0283,  eta_4: 0.3317\n",
      "50 delta_1_prime: 1.0491,  eta_4: 0.3384\n",
      "51 delta_1_prime: 1.0491,  eta_4: 0.3384\n",
      "52 delta_1_prime: 1.0491,  eta_4: 0.3384\n",
      "53 delta_1_prime: 1.0491,  eta_4: 0.3384\n",
      "54 delta_1_prime: 1.0491,  eta_4: 0.3384\n",
      "55 delta_1_prime: 1.0491,  eta_4: 0.3384\n",
      "56 delta_1_prime: 1.0491,  eta_4: 0.3384\n",
      "57 delta_1_prime: 1.0491,  eta_4: 0.3384\n",
      "58 delta_1_prime: 1.0697,  eta_4: 0.3451\n",
      "59 delta_1_prime: 1.0697,  eta_4: 0.3451\n",
      "60 delta_1_prime: 1.0697,  eta_4: 0.3451\n",
      "61 delta_1_prime: 1.0697,  eta_4: 0.3451\n",
      "62 delta_1_prime: 1.0697,  eta_4: 0.3451\n",
      "63 delta_1_prime: 1.0697,  eta_4: 0.3451\n",
      "64 delta_1_prime: 1.0900,  eta_4: 0.3516\n",
      "65 delta_1_prime: 1.0900,  eta_4: 0.3516\n",
      "66 delta_1_prime: 1.0900,  eta_4: 0.3516\n",
      "67 delta_1_prime: 1.0900,  eta_4: 0.3516\n",
      "68 delta_1_prime: 1.0900,  eta_4: 0.3516\n",
      "69 delta_1_prime: 1.0900,  eta_4: 0.3516\n",
      "70 delta_1_prime: 1.0900,  eta_4: 0.3516\n",
      "71 delta_1_prime: 1.0900,  eta_4: 0.3516\n",
      "72 delta_1_prime: 1.0900,  eta_4: 0.3516\n",
      "73 delta_1_prime: 1.0900,  eta_4: 0.3516\n",
      "74 delta_1_prime: 1.1102,  eta_4: 0.3581\n",
      "75 delta_1_prime: 1.1102,  eta_4: 0.3581\n",
      "76 delta_1_prime: 1.1102,  eta_4: 0.3581\n",
      "77 delta_1_prime: 1.1102,  eta_4: 0.3581\n",
      "78 delta_1_prime: 1.1102,  eta_4: 0.3581\n",
      "79 delta_1_prime: 1.1302,  eta_4: 0.3646\n",
      "80 delta_1_prime: 1.1302,  eta_4: 0.3646\n",
      "81 delta_1_prime: 1.1302,  eta_4: 0.3646\n",
      "82 delta_1_prime: 1.1302,  eta_4: 0.3646\n",
      "83 delta_1_prime: 1.1302,  eta_4: 0.3646\n",
      "84 delta_1_prime: 1.1302,  eta_4: 0.3646\n",
      "85 delta_1_prime: 1.1302,  eta_4: 0.3646\n",
      "86 delta_1_prime: 1.1302,  eta_4: 0.3646\n",
      "87 delta_1_prime: 1.1302,  eta_4: 0.3646\n",
      "88 delta_1_prime: 1.1302,  eta_4: 0.3646\n",
      "89 delta_1_prime: 1.1302,  eta_4: 0.3646\n",
      "90 delta_1_prime: 1.1302,  eta_4: 0.3646\n",
      "91 delta_1_prime: 1.1499,  eta_4: 0.3709\n",
      "92 delta_1_prime: 1.1499,  eta_4: 0.3709\n",
      "93 delta_1_prime: 1.1499,  eta_4: 0.3709\n",
      "94 delta_1_prime: 1.1499,  eta_4: 0.3709\n",
      "95 delta_1_prime: 1.1499,  eta_4: 0.3709\n",
      "96 delta_1_prime: 1.1499,  eta_4: 0.3709\n",
      "97 delta_1_prime: 1.1499,  eta_4: 0.3709\n",
      "98 delta_1_prime: 1.1499,  eta_4: 0.3709\n",
      "99 delta_1_prime: 1.1499,  eta_4: 0.3709\n"
     ]
    }
   ],
   "execution_count": 221
  },
  {
   "metadata": {
    "ExecuteTime": {
     "end_time": "2025-05-30T19:43:23.655990Z",
     "start_time": "2025-05-30T19:43:23.638795Z"
    }
   },
   "cell_type": "code",
   "source": [
    "profit = delta_1_prime - delta_1\n",
    "\n",
    "for i in range(len(x_curve)):\n",
    "    if delta_1[i] == 0.0:\n",
    "        continue\n",
    "    rtn = profit[i] / delta_1[i]\n",
    "    print(f\" delta_1: {delta_1[i]:10.8f} profit: {profit[i]:10.8f} return: {rtn:10.8f} \")\n"
   ],
   "id": "de62058fbecf4f5a",
   "outputs": [
    {
     "name": "stdout",
     "output_type": "stream",
     "text": [
      " delta_1: 0.02131961 profit: 0.13092255 return: 6.14094365 \n",
      " delta_1: 0.04285567 profit: 0.16817485 return: 3.92421463 \n",
      " delta_1: 0.06461036 profit: 0.23241764 return: 3.59721918 \n",
      " delta_1: 0.08658592 profit: 0.23853678 return: 2.75491428 \n",
      " delta_1: 0.10878457 profit: 0.27168775 return: 2.49748428 \n",
      " delta_1: 0.13120859 profit: 0.30351217 return: 2.31320358 \n",
      " delta_1: 0.15386026 profit: 0.30757860 return: 1.99907766 \n",
      " delta_1: 0.17674189 profit: 0.31114791 return: 1.76046499 \n",
      " delta_1: 0.19985582 profit: 0.31422042 return: 1.57223551 \n",
      " delta_1: 0.22320441 profit: 0.34246173 return: 1.53429639 \n",
      " delta_1: 0.24679004 profit: 0.36943924 return: 1.49697789 \n",
      " delta_1: 0.27061512 profit: 0.37051707 return: 1.36916619 \n",
      " delta_1: 0.29468207 profit: 0.37110394 return: 1.25933665 \n",
      " delta_1: 0.31899336 profit: 0.37119985 return: 1.16366013 \n",
      " delta_1: 0.34355146 profit: 0.37080480 return: 1.07932827 \n",
      " delta_1: 0.36835887 profit: 0.36991870 return: 1.00423453 \n",
      " delta_1: 0.39341814 profit: 0.34485943 return: 0.87657227 \n",
      " delta_1: 0.41873181 profit: 0.34322776 return: 0.81968398 \n",
      " delta_1: 0.44430248 profit: 0.31765710 return: 0.71495684 \n",
      " delta_1: 0.47013274 profit: 0.31527190 return: 0.67060188 \n",
      " delta_1: 0.49622523 profit: 0.31238989 return: 0.62953245 \n",
      " delta_1: 0.52258262 profit: 0.30901074 return: 0.59131461 \n",
      " delta_1: 0.54920760 profit: 0.30513408 return: 0.55558969 \n",
      " delta_1: 0.57610288 profit: 0.27823880 return: 0.48296721 \n",
      " delta_1: 0.60327121 profit: 0.25107048 return: 0.41618177 \n",
      " delta_1: 0.63071535 profit: 0.22362634 return: 0.35455984 \n",
      " delta_1: 0.65843811 profit: 0.21842426 return: 0.33173089 \n",
      " delta_1: 0.68644232 profit: 0.21271536 return: 0.30988090 \n",
      " delta_1: 0.71473083 profit: 0.18442685 return: 0.25803679 \n",
      " delta_1: 0.74330653 profit: 0.15585115 return: 0.20967278 \n",
      " delta_1: 0.77217234 profit: 0.14905753 return: 0.19303661 \n",
      " delta_1: 0.80133121 profit: 0.11989867 return: 0.14962436 \n",
      " delta_1: 0.83078609 profit: 0.11229508 return: 0.13516726 \n",
      " delta_1: 0.86054001 profit: 0.08254116 return: 0.09591786 \n",
      " delta_1: 0.89059600 profit: 0.05248517 return: 0.05893264 \n",
      " delta_1: 0.92095712 profit: 0.04375665 return: 0.04751215 \n",
      " delta_1: 0.95162647 profit: 0.01308730 return: 0.01375256 \n",
      " delta_1: 0.98260719 profit: -0.01789342 return: -0.01821014 \n",
      " delta_1: 1.01390243 profit: -0.04918865 return: -0.04851419 \n",
      " delta_1: 1.04551538 profit: -0.08080161 return: -0.07728400 \n",
      " delta_1: 1.07744927 profit: -0.09131942 return: -0.08475519 \n",
      " delta_1: 1.10970736 profit: -0.10237579 return: -0.09225476 \n",
      " delta_1: 1.14229295 profit: -0.13496137 return: -0.11814953 \n",
      " delta_1: 1.17520934 profit: -0.16787777 return: -0.14284925 \n",
      " delta_1: 1.20845992 profit: -0.20112834 return: -0.16643361 \n",
      " delta_1: 1.24204806 profit: -0.23471648 return: -0.18897536 \n",
      " delta_1: 1.27597719 profit: -0.24765611 return: -0.19409133 \n",
      " delta_1: 1.31025077 profit: -0.28192970 return: -0.21517232 \n",
      " delta_1: 1.34487231 profit: -0.31655124 return: -0.23537643 \n",
      " delta_1: 1.37984534 profit: -0.33074487 return: -0.23969706 \n",
      " delta_1: 1.41517342 profit: -0.36607295 return: -0.25867709 \n",
      " delta_1: 1.45086015 profit: -0.40175968 return: -0.27691138 \n",
      " delta_1: 1.48690918 profit: -0.43780872 return: -0.29444214 \n",
      " delta_1: 1.52332419 profit: -0.47422373 return: -0.31130847 \n",
      " delta_1: 1.56010890 profit: -0.51100843 return: -0.32754664 \n",
      " delta_1: 1.59726705 profit: -0.54816658 return: -0.34319031 \n",
      " delta_1: 1.63480243 profit: -0.58570196 return: -0.35827079 \n",
      " delta_1: 1.67271888 profit: -0.60304703 return: -0.36051906 \n",
      " delta_1: 1.71102027 profit: -0.64134842 return: -0.37483391 \n",
      " delta_1: 1.74971050 profit: -0.68003865 return: -0.38865781 \n",
      " delta_1: 1.78879352 profit: -0.71912167 return: -0.40201491 \n",
      " delta_1: 1.82827332 profit: -0.75860147 return: -0.41492782 \n",
      " delta_1: 1.86815393 profit: -0.79848208 return: -0.42741771 \n",
      " delta_1: 1.90843941 profit: -0.81840211 return: -0.42883317 \n",
      " delta_1: 1.94913388 profit: -0.85909658 return: -0.44075812 \n",
      " delta_1: 1.99024149 profit: -0.90020419 return: -0.45230903 \n",
      " delta_1: 2.03176643 profit: -0.94172913 return: -0.46350265 \n",
      " delta_1: 2.07371293 profit: -0.98367564 return: -0.47435478 \n",
      " delta_1: 2.11608529 profit: -1.02604800 return: -0.48488026 \n",
      " delta_1: 2.15888782 profit: -1.06885053 return: -0.49509313 \n",
      " delta_1: 2.20212489 profit: -1.11208760 return: -0.50500660 \n",
      " delta_1: 2.24580092 profit: -1.15576362 return: -0.51463316 \n",
      " delta_1: 2.28992034 profit: -1.19988305 return: -0.52398462 \n",
      " delta_1: 2.33448768 profit: -1.22428883 return: -0.52443576 \n",
      " delta_1: 2.37950748 profit: -1.26930862 return: -0.53343334 \n",
      " delta_1: 2.42498432 profit: -1.31478547 return: -0.54218308 \n",
      " delta_1: 2.47092286 profit: -1.36072400 return: -0.55069465 \n",
      " delta_1: 2.51732777 profit: -1.40712891 return: -0.55897723 \n",
      " delta_1: 2.56420379 profit: -1.43404522 return: -0.55925556 \n",
      " delta_1: 2.61155571 profit: -1.48139714 return: -0.56724700 \n",
      " delta_1: 2.65938835 profit: -1.52922979 return: -0.57503064 \n",
      " delta_1: 2.70770660 profit: -1.57754804 return: -0.58261410 \n",
      " delta_1: 2.75651539 profit: -1.62635682 return: -0.59000462 \n",
      " delta_1: 2.80581969 profit: -1.67566113 return: -0.59720913 \n",
      " delta_1: 2.85562455 profit: -1.72546598 return: -0.60423419 \n",
      " delta_1: 2.90593502 profit: -1.77577646 return: -0.61108608 \n",
      " delta_1: 2.95675627 profit: -1.82659770 return: -0.61777080 \n",
      " delta_1: 3.00809345 profit: -1.87793489 return: -0.62429406 \n",
      " delta_1: 3.05995183 profit: -1.92979326 return: -0.63066132 \n",
      " delta_1: 3.11233668 profit: -1.98217811 return: -0.63687779 \n",
      " delta_1: 3.16525335 profit: -2.01533491 return: -0.63670572 \n",
      " delta_1: 3.21870724 profit: -2.06878880 return: -0.64273904 \n",
      " delta_1: 3.27270381 profit: -2.12278537 return: -0.64863351 \n",
      " delta_1: 3.32724856 profit: -2.17733012 return: -0.65439359 \n",
      " delta_1: 3.38234706 profit: -2.23242862 return: -0.66002352 \n",
      " delta_1: 3.43800493 profit: -2.28808649 return: -0.66552740 \n",
      " delta_1: 3.49422785 profit: -2.34430941 return: -0.67090914 \n",
      " delta_1: 3.55102155 profit: -2.40110311 return: -0.67617250 \n",
      " delta_1: 3.60839184 profit: -2.45847340 return: -0.68132107 \n"
     ]
    }
   ],
   "execution_count": 222
  },
  {
   "metadata": {
    "ExecuteTime": {
     "end_time": "2025-05-30T19:00:29.122419Z",
     "start_time": "2025-05-30T19:00:29.115283Z"
    }
   },
   "cell_type": "code",
   "source": "",
   "id": "9743dd3b0ef68b85",
   "outputs": [],
   "execution_count": null
  },
  {
   "metadata": {},
   "cell_type": "code",
   "outputs": [],
   "execution_count": null,
   "source": "",
   "id": "11fda3ae1afeed2"
  }
 ],
 "metadata": {
  "kernelspec": {
   "display_name": "Python 3",
   "language": "python",
   "name": "python3"
  },
  "language_info": {
   "codemirror_mode": {
    "name": "ipython",
    "version": 2
   },
   "file_extension": ".py",
   "mimetype": "text/x-python",
   "name": "python",
   "nbconvert_exporter": "python",
   "pygments_lexer": "ipython2",
   "version": "2.7.6"
  }
 },
 "nbformat": 4,
 "nbformat_minor": 5
}
