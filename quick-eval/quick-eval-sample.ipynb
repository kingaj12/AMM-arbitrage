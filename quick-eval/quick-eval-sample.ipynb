{
 "cells": [
  {
   "cell_type": "code",
   "id": "initial_id",
   "metadata": {
    "collapsed": true,
    "ExecuteTime": {
     "end_time": "2025-05-21T15:09:48.931837Z",
     "start_time": "2025-05-21T15:09:48.921382Z"
    }
   },
   "source": [
    "# Sample data\n",
    "\n",
    "import numpy as np\n",
    "\n",
    "FEE_HAIRCUT = 1 - 0.003\n",
    "SWAP_CURVE_Y = np.arange(0.01, 1.0, 0.1 )\n",
    "CHAIN_LIQUIDITY_TOK_2 = [2.0, 2.0, 2.0, 2.0]\n",
    "CHAIN_LIQUIDITY_TOK_1 = [1.0, 1.0, 1.0, 1.0]\n",
    "MAX_RATIO_OUTSWAP_TO_LIQUIDITY = 0.9\n",
    "MAX_RATIO_INSWAP_TO_LIQUIDITY = 0.5\n",
    "\n",
    "sample_swap_init_Y_str = \"\\tSwap curve Y: \"\n",
    "sample_chain_tok_1_str = \"\\tChain liquidity token 1:\"\n",
    "sample_chain_tok_2_str = \"\\tChain liquidity token 2:\"\n",
    "sample_fee_haircut_str = \"\\tFee haircut:\"\n",
    "print(f\"Sample data \\n\"\n",
    "      + sample_swap_init_Y_str + f\"{SWAP_CURVE_Y} \\n\"\n",
    "      + sample_chain_tok_1_str + f\"{CHAIN_LIQUIDITY_TOK_1}\\n\"\n",
    "      + sample_chain_tok_2_str + f\"{CHAIN_LIQUIDITY_TOK_2}\\n\"\n",
    "      + sample_fee_haircut_str + f\"{FEE_HAIRCUT:6.4f}\\n\\n\" )"
   ],
   "outputs": [
    {
     "name": "stdout",
     "output_type": "stream",
     "text": [
      "Sample data \n",
      "\tSwap curve Y: [0.01 0.11 0.21 0.31 0.41 0.51 0.61 0.71 0.81 0.91] \n",
      "\tChain liquidity token 1:[1.0, 1.0, 1.0, 1.0]\n",
      "\tChain liquidity token 2:[2.0, 2.0, 2.0, 2.0]\n",
      "\tFee haircut:0.9970\n",
      "\n",
      "\n"
     ]
    }
   ],
   "execution_count": 27
  },
  {
   "metadata": {
    "ExecuteTime": {
     "end_time": "2025-05-21T15:09:49.693514Z",
     "start_time": "2025-05-21T15:09:49.687540Z"
    }
   },
   "cell_type": "code",
   "source": [
    "# Define forward and backward swap calculators\n",
    "from typing import Union\n",
    "\n",
    "def forward_swap(x:Union[float, np.ndarray], haircut:float = FEE_HAIRCUT) -> Union[float, np.ndarray]:\n",
    "    if isinstance(x, float):\n",
    "        assert x > 0\n",
    "    elif isinstance(x, np.ndarray):\n",
    "        assert np.all(x) > 0\n",
    "    assert haircut > 0\n",
    "    return haircut * x /(1 + haircut * x)\n",
    "\n",
    "def backward_swap(y:Union[float, np.ndarray], haircut:float = FEE_HAIRCUT) -> Union[float, np.ndarray]:\n",
    "    if isinstance(y, float):\n",
    "        assert y > 0.0\n",
    "        assert y < 1.0\n",
    "    elif isinstance(y, np.ndarray):\n",
    "        assert np.all(y) > 0\n",
    "        assert np.all(y < 1.0)\n",
    "    assert haircut > 0\n",
    "    return haircut * y /(1 - haircut * y)\n",
    "\n"
   ],
   "id": "e5e4f5b54960c8ec",
   "outputs": [],
   "execution_count": 28
  },
  {
   "metadata": {
    "ExecuteTime": {
     "end_time": "2025-05-21T15:09:50.243615Z",
     "start_time": "2025-05-21T15:09:50.237684Z"
    }
   },
   "cell_type": "code",
   "source": [
    "# Define swap curves\n",
    "#    Note: curves define the swap space, so haircut does not apply\n",
    "\n",
    "x = backward_swap(SWAP_CURVE_Y, haircut=1.0)\n",
    "y = forward_swap(x, haircut=1.0)\n",
    "\n",
    "# Check if forward_swap equals inverse of backward_swap\n",
    "inverse_test = np.allclose(y, SWAP_CURVE_Y)\n",
    "print(f\"Swap curves defined. \\nForward swap is inverse of Backward swap: {inverse_test}\")\n"
   ],
   "id": "4b5de37d6b6eeb1a",
   "outputs": [
    {
     "name": "stdout",
     "output_type": "stream",
     "text": [
      "Swap curves defined. \n",
      "Forward swap is inverse of Backward swap: True\n"
     ]
    }
   ],
   "execution_count": 29
  },
  {
   "metadata": {
    "ExecuteTime": {
     "end_time": "2025-05-21T15:09:50.825522Z",
     "start_time": "2025-05-21T15:09:50.815599Z"
    }
   },
   "cell_type": "code",
   "source": [
    "print(x)\n",
    "print(y)"
   ],
   "id": "cb11cca848576844",
   "outputs": [
    {
     "name": "stdout",
     "output_type": "stream",
     "text": [
      "[1.01010101e-02 1.23595506e-01 2.65822785e-01 4.49275362e-01\n",
      " 6.94915254e-01 1.04081633e+00 1.56410256e+00 2.44827586e+00\n",
      " 4.26315789e+00 1.01111111e+01]\n",
      "[0.01 0.11 0.21 0.31 0.41 0.51 0.61 0.71 0.81 0.91]\n"
     ]
    }
   ],
   "execution_count": 30
  },
  {
   "metadata": {
    "ExecuteTime": {
     "end_time": "2025-05-21T15:17:34.820666Z",
     "start_time": "2025-05-21T15:17:34.809723Z"
    }
   },
   "cell_type": "code",
   "source": [
    "# Cyclic transaction calculations\n",
    "\n",
    "def generate_exchange_data(in_leg_liq: np.ndarray, out_leg_liq: np.ndarray) -> list[dict]:\n",
    "    assert len(in_leg_liq) == len(out_leg_liq)\n",
    "    exchange_data = []\n",
    "    for i in range(len(in_leg_liq)):\n",
    "        exch = { \"exch_number\": i+1,\n",
    "                 \"liq_in\": in_leg_liq[i],\n",
    "                 \"liq_out\": out_leg_liq[i],\n",
    "                 \"eta\": 0,\n",
    "                 \"upper_bound\": 0,\n",
    "                 \"delta_in\": 0,\n",
    "                 \"delta_out\": 0,}\n",
    "        exchange_data.append(exch)\n",
    "    return exchange_data\n",
    "\n",
    "def generate_upper_bounds(exch_data: list[dict], x_curve: np.ndarray, y_curve: np.ndarray) -> float:\n",
    "\n",
    "    # delta_1 upper bound is MAX_RATIO_INSWAP_TO_LIQUIDITY\n",
    "    exch_data[0]['delta_in'] = exch_data[0]['liq_in'] * MAX_RATIO_INSWAP_TO_LIQUIDITY\n",
    "\n",
    "    # delta_2 upper bound is forward swap of delta_1\n",
    "    exch_data[0]['upper_bound'] = exch_data[0]['liq_out'] * forward_swap(MAX_RATIO_INSWAP_TO_LIQUIDITY)\n",
    "\n",
    "    # Eta initialized from delta_2 upper bound\n",
    "    exch_data[0]['eta'] = exch_data[0]['upper_bound']\n",
    "\n",
    "    print(f\"Exchange data: {exch_data[0]}\")\n",
    "\n",
    "    # Eta and bound loop\n",
    "    for i in range(1,len(exch_data)):\n",
    "        exch_prior = exch_data[i-1][\"exch_number\"]\n",
    "        exch_current = exch_data[i]['exch_number']\n",
    "        exch_prior_out_liq = exch_data[i-1]['liq_out']\n",
    "        exch_current_in_liq = exch_data[i]['liq_in']\n",
    "        exch_current_out_liq = exch_data[i]['liq_out']\n",
    "\n",
    "    #    print(f\"Exchange number {exch_current}\" )\n",
    "    #    print(f\"\\t Prior exchange {exch_prior}\" )\n",
    "    #    print(f\"\\t Prior exchange outgoing leg liquidity: {exch_prior_out_liq}\")\n",
    "    #    print(f\"\\t Current exchange {exch_current}\" )\n",
    "    #    print(f\"\\t Current exchange incoming leg liquidity: {exch_current_in_liq}\")\n",
    "\n",
    "        # a(i, i-1)/a(i,i+1)\n",
    "        ratio_out_div_by_in = exch_prior_out_liq / exch_current_in_liq\n",
    "        xi_indx = np.searchsorted(x_curve, ratio_out_div_by_in, side='right')\n",
    "\n",
    "     #   print(f\"\\t Ratio {ratio_out_div_by_in}\")\n",
    "     #   print(f\"\\t X value above {x_curve[xi_indx]}\")\n",
    "     #   print(f\"\\t X value below {x_curve[xi_indx-1]}\")\n",
    "\n",
    "        eta = float(y_curve[xi_indx]) * exch_data[i-1]['eta']\n",
    "        exch_data[i]['upper_bound'] = eta *  exch_current_out_liq\n",
    "        exch_data[i]['eta'] = eta\n",
    "\n",
    "        print(f\"Exchange data: {exch_data[i]}\")\n",
    "\n",
    "    return exch_data[len(exch_data)-1]['upper_bound']\n",
    "\n"
   ],
   "id": "15f21a8abd131a8e",
   "outputs": [],
   "execution_count": 38
  },
  {
   "metadata": {
    "ExecuteTime": {
     "end_time": "2025-05-21T15:17:36.096648Z",
     "start_time": "2025-05-21T15:17:36.090209Z"
    }
   },
   "cell_type": "code",
   "source": "exch_cycle = generate_exchange_data(CHAIN_LIQUIDITY_TOK_1, CHAIN_LIQUIDITY_TOK_2)",
   "id": "e9c25160207120ee",
   "outputs": [],
   "execution_count": 39
  },
  {
   "metadata": {
    "ExecuteTime": {
     "end_time": "2025-05-21T15:19:15.423515Z",
     "start_time": "2025-05-21T15:19:15.413747Z"
    }
   },
   "cell_type": "code",
   "source": [
    "delta_1_prime = generate_upper_bounds(exch_cycle, x,y)\n",
    "delta_1 = exch_cycle[0]['delta_in']"
   ],
   "id": "d38bc84fd2a8d644",
   "outputs": [
    {
     "name": "stdout",
     "output_type": "stream",
     "text": [
      "Exchange data: {'exch_number': 1, 'liq_in': 1.0, 'liq_out': 2.0, 'eta': 0.665331998665332, 'upper_bound': 0.665331998665332, 'delta_in': 0.5, 'delta_out': 0}\n",
      "Exchange data: {'exch_number': 2, 'liq_in': 1.0, 'liq_out': 2.0, 'eta': 0.47238571905238574, 'upper_bound': 0.9447714381047715, 'delta_in': 0, 'delta_out': 0}\n",
      "Exchange data: {'exch_number': 3, 'liq_in': 1.0, 'liq_out': 2.0, 'eta': 0.3353938605271939, 'upper_bound': 0.6707877210543878, 'delta_in': 0, 'delta_out': 0}\n",
      "Exchange data: {'exch_number': 4, 'liq_in': 1.0, 'liq_out': 2.0, 'eta': 0.2381296409743077, 'upper_bound': 0.4762592819486154, 'delta_in': 0, 'delta_out': 0}\n"
     ]
    }
   ],
   "execution_count": 42
  },
  {
   "metadata": {
    "ExecuteTime": {
     "end_time": "2025-05-21T15:22:05.180931Z",
     "start_time": "2025-05-21T15:22:05.170527Z"
    }
   },
   "cell_type": "code",
   "source": [
    "print(f\"Profit calculation: \\n\")\n",
    "print(f\"\\tDelta 1: {delta_1}\")\n",
    "print(f\"\\tDelta_1_prime: {delta_1_prime}\")\n",
    "print(f\"\\tProfit: {delta_1_prime - delta_1}\")\n",
    "print(f\"\\tReturn: {delta_1_prime/delta_1 - 1}\")"
   ],
   "id": "772608b8c4404cbb",
   "outputs": [
    {
     "name": "stdout",
     "output_type": "stream",
     "text": [
      "Profit calculation: \n",
      "\n",
      "\tDelta 1: 0.5\n",
      "\tDelta_1_prime: 0.4762592819486154\n",
      "\tProfit: -0.023740718051384613\n",
      "\tReturn: -0.047481436102769226\n"
     ]
    }
   ],
   "execution_count": 44
  },
  {
   "metadata": {
    "ExecuteTime": {
     "end_time": "2025-05-20T03:03:57.047089Z",
     "start_time": "2025-05-20T03:03:57.037609Z"
    }
   },
   "cell_type": "code",
   "source": "a",
   "id": "9a24f393933d820",
   "outputs": [],
   "execution_count": null
  },
  {
   "metadata": {},
   "cell_type": "code",
   "outputs": [],
   "execution_count": null,
   "source": "",
   "id": "de62058fbecf4f5a"
  }
 ],
 "metadata": {
  "kernelspec": {
   "display_name": "Python 3",
   "language": "python",
   "name": "python3"
  },
  "language_info": {
   "codemirror_mode": {
    "name": "ipython",
    "version": 2
   },
   "file_extension": ".py",
   "mimetype": "text/x-python",
   "name": "python",
   "nbconvert_exporter": "python",
   "pygments_lexer": "ipython2",
   "version": "2.7.6"
  }
 },
 "nbformat": 4,
 "nbformat_minor": 5
}
