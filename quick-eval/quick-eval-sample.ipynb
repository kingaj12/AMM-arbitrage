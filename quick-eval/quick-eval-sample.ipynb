{
 "cells": [
  {
   "cell_type": "code",
   "id": "5c449c69abcbc57a",
   "metadata": {
    "ExecuteTime": {
     "end_time": "2025-05-29T19:03:11.474676Z",
     "start_time": "2025-05-29T19:03:10.497940Z"
    }
   },
   "source": [
    "# packages\n",
    "\n",
    "import numpy as np\n",
    "import pandas as pd"
   ],
   "outputs": [],
   "execution_count": 34
  },
  {
   "metadata": {},
   "cell_type": "code",
   "outputs": [
    {
     "name": "stdout",
     "output_type": "stream",
     "text": [
      "Sample data \n",
      "\tSwap curve Y: [0.01 0.11 0.21 0.31 0.41 0.51 0.61 0.71 0.81 0.91] \n",
      "\tToken 1 liquidity along the chain:[1.0, 1.0, 1.0, 1.0]\n",
      "\tToken 2 liquidity along the chain:[2.0, 2.0, 2.0, 2.0]\n",
      "\tFee haircut:0.9970\n",
      "\n",
      "\n"
     ]
    }
   ],
   "execution_count": 2,
   "source": [
    "\n",
    "FEE_HAIRCUT = 1 - 0.003\n",
    "SWAP_CURVE_Y = np.arange(0.01, 1.0, 0.1 )\n",
    "CHAIN_LIQUIDITY_TOK_2 = [2.0, 2.0, 2.0, 2.0]\n",
    "CHAIN_LIQUIDITY_TOK_1 = [1.0, 1.0, 1.0, 1.0]\n",
    "MAX_RATIO_OUTSWAP_TO_LIQUIDITY = 0.9\n",
    "MAX_RATIO_INSWAP_TO_LIQUIDITY = 0.5\n",
    "\n",
    "sample_swap_init_Y_str = \"\\tSwap curve Y: \"\n",
    "sample_chain_tok_1_str = \"\\tToken 1 liquidity along the chain:\"\n",
    "sample_chain_tok_2_str = \"\\tToken 2 liquidity along the chain:\"\n",
    "sample_fee_haircut_str = \"\\tFee haircut:\"\n",
    "print(f\"Sample data \\n\"\n",
    "      + sample_swap_init_Y_str + f\"{SWAP_CURVE_Y} \\n\"\n",
    "      + sample_chain_tok_1_str + f\"{CHAIN_LIQUIDITY_TOK_1}\\n\"\n",
    "      + sample_chain_tok_2_str + f\"{CHAIN_LIQUIDITY_TOK_2}\\n\"\n",
    "      + sample_fee_haircut_str + f\"{FEE_HAIRCUT:6.4f}\\n\\n\" )"
   ],
   "id": "initial_id"
  },
  {
   "metadata": {
    "ExecuteTime": {
     "end_time": "2025-05-29T19:48:02.385919Z",
     "start_time": "2025-05-29T19:48:02.377853Z"
    }
   },
   "cell_type": "code",
   "source": [
    "EXCHANGES = [\n",
    "    {\"input_token\": 1, \"input_liquidity\": 2.0, \"output_token\": 2, \"output_liquidity\": 1.0, \"haircut\": FEE_HAIRCUT},\n",
    "    {\"input_token\": 2, \"input_liquidity\": 2.0, \"output_token\": 3, \"output_liquidity\": 1.0, \"haircut\": FEE_HAIRCUT},\n",
    "    {\"input_token\": 3, \"input_liquidity\": 2.0, \"output_token\": 4, \"output_liquidity\": 1.0, \"haircut\": FEE_HAIRCUT},\n",
    "    {\"input_token\": 4, \"input_liquidity\": 2.0, \"output_token\": 1, \"output_liquidity\": 1.0, \"haircut\": FEE_HAIRCUT}, ]\n"
   ],
   "id": "6e2d42d261a079d4",
   "outputs": [],
   "execution_count": 53
  },
  {
   "metadata": {
    "ExecuteTime": {
     "end_time": "2025-05-29T18:56:55.332717Z",
     "start_time": "2025-05-29T18:56:55.326124Z"
    }
   },
   "cell_type": "code",
   "source": [
    "SWAP_CURVE_X = np.exp(np.linspace(0, 1, 50)) - 1\n",
    "#print(SWAP_CURVE_X)"
   ],
   "id": "29f5c03e859be5d6",
   "outputs": [],
   "execution_count": 27
  },
  {
   "metadata": {
    "ExecuteTime": {
     "end_time": "2025-05-29T19:35:09.168375Z",
     "start_time": "2025-05-29T19:35:09.159426Z"
    }
   },
   "cell_type": "code",
   "source": [
    "# Define forward and backward swap calculators\n",
    "from typing import Union\n",
    "\n",
    "def forward_swap(x:Union[float, np.ndarray], haircut:float = FEE_HAIRCUT) -> Union[float, np.ndarray]:\n",
    "    if isinstance(x, float):\n",
    "        assert x >= 0\n",
    "    elif isinstance(x, np.ndarray):\n",
    "        assert np.all(x) >= 0\n",
    "    assert haircut > 0\n",
    "    return haircut * x /(1 + haircut * x)\n",
    "\n",
    "def backward_swap(y:Union[float, np.ndarray], haircut:float = FEE_HAIRCUT) -> Union[float, np.ndarray]:\n",
    "    if isinstance(y, float):\n",
    "        assert y >= 0.0\n",
    "        assert y < 1.0\n",
    "    elif isinstance(y, np.ndarray):\n",
    "        assert np.all(y) >= 0\n",
    "        assert np.all(y < 1.0)\n",
    "    assert haircut > 0\n",
    "    return y /(haircut - haircut * y)\n",
    "\n"
   ],
   "id": "e5e4f5b54960c8ec",
   "outputs": [],
   "execution_count": 48
  },
  {
   "metadata": {
    "ExecuteTime": {
     "end_time": "2025-05-29T20:12:58.100654Z",
     "start_time": "2025-05-29T20:12:58.096279Z"
    }
   },
   "cell_type": "code",
   "source": [
    "def generate_ITL(exchange_list:list[dict]=EXCHANGES) -> dict:\n",
    "    ITL = {}\n",
    "    for i in range(len(exchange_list)-1):\n",
    "        assert exchange_list[i]['output_token'] == exchange_list[i+1]['input_token']\n",
    "        ITL[exchange_list[i+1]['input_token']] = exchange_list[i]['output_liquidity']/ exchange_list[i+1]['input_liquidity']\n",
    "    return ITL\n",
    "\n"
   ],
   "id": "cf164548c8f0372d",
   "outputs": [],
   "execution_count": 70
  },
  {
   "metadata": {
    "ExecuteTime": {
     "end_time": "2025-05-29T20:34:26.497876Z",
     "start_time": "2025-05-29T20:34:26.494087Z"
    }
   },
   "cell_type": "code",
   "source": [
    "ITL = generate_ITL()\n",
    "print(ITL[2])\n",
    "exchange_list = EXCHANGES"
   ],
   "id": "9da79ab641f747ac",
   "outputs": [
    {
     "name": "stdout",
     "output_type": "stream",
     "text": [
      "0.5\n"
     ]
    }
   ],
   "execution_count": 75
  },
  {
   "metadata": {
    "ExecuteTime": {
     "end_time": "2025-05-29T20:50:37.263218Z",
     "start_time": "2025-05-29T20:50:37.258673Z"
    }
   },
   "cell_type": "code",
   "source": [
    "# Define swap curves\n",
    "x_curve = SWAP_CURVE_X\n",
    "y_curve = forward_swap(x_curve)\n",
    "test_x_curve = backward_swap(y_curve)\n",
    "\n",
    "# Check if forward_swap equals inverse of backward_swap\n",
    "inverse_test = np.allclose(x_curve, test_x_curve)\n",
    "print(f\"Swap curves defined. \\nForward swap is inverse of Backward swap: {inverse_test}\")"
   ],
   "id": "4b5de37d6b6eeb1a",
   "outputs": [
    {
     "name": "stdout",
     "output_type": "stream",
     "text": [
      "Swap curves defined. \n",
      "Forward swap is inverse of Backward swap: True\n"
     ]
    }
   ],
   "execution_count": 89
  },
  {
   "metadata": {
    "ExecuteTime": {
     "end_time": "2025-05-29T21:30:53.772931Z",
     "start_time": "2025-05-29T21:30:53.744589Z"
    }
   },
   "cell_type": "code",
   "source": [
    "# Recursive compute\n",
    "\n",
    "# Exchange 1 -> 2\n",
    "xi_1 = x_curve * exchange_list[0]['input_liquidity']   # a_{1,2} * \\vv x\n",
    "xi_indx = np.searchsorted(x_curve, xi_1, side='right') #\n",
    "eta_1 = y_curve[xi_indx < 50]\n",
    "\n",
    "\n",
    "# Token 2\n",
    "x_curve1 = x_curve[xi_indx < 50]\n",
    "print(len(eta_1))\n",
    "xi_2 = eta_1 * ITL[2]\n",
    "xi_indx = np.searchsorted(x_curve1, xi_2, side='right')\n",
    "eta_2 = y_curve[xi_indx < 50]\n",
    "#for i in range(len(eta_1)):\n",
    "#    print(f\"x: {x_curve[i]:6.4f}, xi_2: {xi_2[i]:6.4f}, xi_indx: {xi_indx[i]}, eta: {eta_2[i]:6.4f}\")\n"
   ],
   "id": "9f88ca646cc3a9ba",
   "outputs": [
    {
     "name": "stdout",
     "output_type": "stream",
     "text": [
      "31\n"
     ]
    },
    {
     "ename": "IndexError",
     "evalue": "boolean index did not match indexed array along axis 0; size of axis is 50 but size of corresponding boolean axis is 31",
     "output_type": "error",
     "traceback": [
      "\u001B[1;31m---------------------------------------------------------------------------\u001B[0m",
      "\u001B[1;31mIndexError\u001B[0m                                Traceback (most recent call last)",
      "Cell \u001B[1;32mIn[105], line 13\u001B[0m\n\u001B[0;32m     11\u001B[0m xi_2 \u001B[38;5;241m=\u001B[39m eta_1 \u001B[38;5;241m*\u001B[39m ITL[\u001B[38;5;241m2\u001B[39m]\n\u001B[0;32m     12\u001B[0m xi_indx \u001B[38;5;241m=\u001B[39m np\u001B[38;5;241m.\u001B[39msearchsorted(x_curve1, xi_2, side\u001B[38;5;241m=\u001B[39m\u001B[38;5;124m'\u001B[39m\u001B[38;5;124mright\u001B[39m\u001B[38;5;124m'\u001B[39m)\n\u001B[1;32m---> 13\u001B[0m eta_2 \u001B[38;5;241m=\u001B[39m \u001B[43my_curve\u001B[49m\u001B[43m[\u001B[49m\u001B[43mxi_indx\u001B[49m\u001B[43m \u001B[49m\u001B[38;5;241;43m<\u001B[39;49m\u001B[43m \u001B[49m\u001B[38;5;241;43m50\u001B[39;49m\u001B[43m]\u001B[49m\n\u001B[0;32m     14\u001B[0m \u001B[38;5;66;03m#for i in range(len(eta_1)):\u001B[39;00m\n\u001B[0;32m     15\u001B[0m \u001B[38;5;66;03m#    print(f\"x: {x_curve[i]:6.4f}, xi_2: {xi_2[i]:6.4f}, xi_indx: {xi_indx[i]}, eta: {eta_2[i]:6.4f}\")\u001B[39;00m\n",
      "\u001B[1;31mIndexError\u001B[0m: boolean index did not match indexed array along axis 0; size of axis is 50 but size of corresponding boolean axis is 31"
     ]
    }
   ],
   "execution_count": 105
  },
  {
   "metadata": {},
   "cell_type": "code",
   "outputs": [],
   "execution_count": 38,
   "source": [
    "\n",
    "\n",
    "\n",
    "def generate_upper_bounds(exch_data: list[dict], x_curve: np.ndarray, y_curve: np.ndarray) -> float:\n",
    "\n",
    "    # delta_1 upper bound is MAX_RATIO_INSWAP_TO_LIQUIDITY\n",
    "    exch_data[0]['delta_in'] = exch_data[0]['liq_in'] * MAX_RATIO_INSWAP_TO_LIQUIDITY\n",
    "\n",
    "    # delta_2 upper bound is forward swap of delta_1\n",
    "    exch_data[0]['upper_bound'] = exch_data[0]['liq_out'] * forward_swap(MAX_RATIO_INSWAP_TO_LIQUIDITY)\n",
    "\n",
    "    # Eta initialized from delta_2 upper bound\n",
    "    exch_data[0]['eta'] = exch_data[0]['upper_bound']\n",
    "\n",
    "    print(f\"Exchange data: {exch_data[0]}\")\n",
    "\n",
    "    # Eta and bound loop\n",
    "    for i in range(1,len(exch_data)):\n",
    "        exch_prior = exch_data[i-1][\"exch_number\"]\n",
    "        exch_current = exch_data[i]['exch_number']\n",
    "        exch_prior_out_liq = exch_data[i-1]['liq_out']\n",
    "        exch_current_in_liq = exch_data[i]['liq_in']\n",
    "        exch_current_out_liq = exch_data[i]['liq_out']\n",
    "\n",
    "    #    print(f\"Exchange number {exch_current}\" )\n",
    "    #    print(f\"\\t Prior exchange {exch_prior}\" )\n",
    "    #    print(f\"\\t Prior exchange outgoing leg liquidity: {exch_prior_out_liq}\")\n",
    "    #    print(f\"\\t Current exchange {exch_current}\" )\n",
    "    #    print(f\"\\t Current exchange incoming leg liquidity: {exch_current_in_liq}\")\n",
    "\n",
    "        # a(i, i-1)/a(i,i+1)\n",
    "        ratio_out_div_by_in = exch_prior_out_liq / exch_current_in_liq\n",
    "        xi_indx = np.searchsorted(x_curve, ratio_out_div_by_in, side='right')\n",
    "\n",
    "     #   print(f\"\\t Ratio {ratio_out_div_by_in}\")\n",
    "     #   print(f\"\\t X value above {x_curve[xi_indx]}\")\n",
    "     #   print(f\"\\t X value below {x_curve[xi_indx-1]}\")\n",
    "\n",
    "        eta = float(y_curve[xi_indx]) * exch_data[i-1]['eta']\n",
    "        exch_data[i]['upper_bound'] = eta *  exch_current_out_liq\n",
    "        exch_data[i]['eta'] = eta\n",
    "\n",
    "        print(f\"Exchange data: {exch_data[i]}\")\n",
    "\n",
    "    return exch_data[len(exch_data)-1]['upper_bound']\n",
    "\n"
   ],
   "id": "15f21a8abd131a8e"
  },
  {
   "metadata": {
    "ExecuteTime": {
     "end_time": "2025-05-21T15:17:36.096648Z",
     "start_time": "2025-05-21T15:17:36.090209Z"
    }
   },
   "cell_type": "code",
   "source": "exch_cycle = generate_exchange_data(CHAIN_LIQUIDITY_TOK_1, CHAIN_LIQUIDITY_TOK_2)",
   "id": "e9c25160207120ee",
   "outputs": [],
   "execution_count": 39
  },
  {
   "metadata": {
    "ExecuteTime": {
     "end_time": "2025-05-21T15:19:15.423515Z",
     "start_time": "2025-05-21T15:19:15.413747Z"
    }
   },
   "cell_type": "code",
   "source": [
    "delta_1_prime = generate_upper_bounds(exch_cycle, x,y)\n",
    "delta_1 = exch_cycle[0]['delta_in']"
   ],
   "id": "d38bc84fd2a8d644",
   "outputs": [
    {
     "name": "stdout",
     "output_type": "stream",
     "text": [
      "Exchange data: {'exch_number': 1, 'liq_in': 1.0, 'liq_out': 2.0, 'eta': 0.665331998665332, 'upper_bound': 0.665331998665332, 'delta_in': 0.5, 'delta_out': 0}\n",
      "Exchange data: {'exch_number': 2, 'liq_in': 1.0, 'liq_out': 2.0, 'eta': 0.47238571905238574, 'upper_bound': 0.9447714381047715, 'delta_in': 0, 'delta_out': 0}\n",
      "Exchange data: {'exch_number': 3, 'liq_in': 1.0, 'liq_out': 2.0, 'eta': 0.3353938605271939, 'upper_bound': 0.6707877210543878, 'delta_in': 0, 'delta_out': 0}\n",
      "Exchange data: {'exch_number': 4, 'liq_in': 1.0, 'liq_out': 2.0, 'eta': 0.2381296409743077, 'upper_bound': 0.4762592819486154, 'delta_in': 0, 'delta_out': 0}\n"
     ]
    }
   ],
   "execution_count": 42
  },
  {
   "metadata": {
    "ExecuteTime": {
     "end_time": "2025-05-21T15:22:05.180931Z",
     "start_time": "2025-05-21T15:22:05.170527Z"
    }
   },
   "cell_type": "code",
   "source": [
    "print(f\"Profit calculation: \\n\")\n",
    "print(f\"\\tDelta 1: {delta_1}\")\n",
    "print(f\"\\tDelta_1_prime: {delta_1_prime}\")\n",
    "print(f\"\\tProfit: {delta_1_prime - delta_1}\")\n",
    "print(f\"\\tReturn: {delta_1_prime/delta_1 - 1}\")"
   ],
   "id": "772608b8c4404cbb",
   "outputs": [
    {
     "name": "stdout",
     "output_type": "stream",
     "text": [
      "Profit calculation: \n",
      "\n",
      "\tDelta 1: 0.5\n",
      "\tDelta_1_prime: 0.4762592819486154\n",
      "\tProfit: -0.023740718051384613\n",
      "\tReturn: -0.047481436102769226\n"
     ]
    }
   ],
   "execution_count": 44
  },
  {
   "metadata": {
    "ExecuteTime": {
     "end_time": "2025-05-20T03:03:57.047089Z",
     "start_time": "2025-05-20T03:03:57.037609Z"
    }
   },
   "cell_type": "code",
   "source": "a",
   "id": "9a24f393933d820",
   "outputs": [],
   "execution_count": null
  },
  {
   "metadata": {},
   "cell_type": "code",
   "outputs": [],
   "execution_count": null,
   "source": "",
   "id": "de62058fbecf4f5a"
  }
 ],
 "metadata": {
  "kernelspec": {
   "display_name": "Python 3",
   "language": "python",
   "name": "python3"
  },
  "language_info": {
   "codemirror_mode": {
    "name": "ipython",
    "version": 2
   },
   "file_extension": ".py",
   "mimetype": "text/x-python",
   "name": "python",
   "nbconvert_exporter": "python",
   "pygments_lexer": "ipython2",
   "version": "2.7.6"
  }
 },
 "nbformat": 4,
 "nbformat_minor": 5
}
