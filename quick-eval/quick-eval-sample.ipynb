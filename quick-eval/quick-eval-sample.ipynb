{
 "cells": [
  {
   "cell_type": "code",
   "id": "5c449c69abcbc57a",
   "metadata": {
    "ExecuteTime": {
     "end_time": "2025-05-30T13:07:42.679713Z",
     "start_time": "2025-05-30T13:07:41.316865Z"
    }
   },
   "source": [
    "# packages\n",
    "\n",
    "import numpy as np\n",
    "import pandas as pd"
   ],
   "outputs": [],
   "execution_count": 1
  },
  {
   "metadata": {
    "ExecuteTime": {
     "end_time": "2025-05-30T13:59:58.751177Z",
     "start_time": "2025-05-30T13:59:58.741547Z"
    }
   },
   "cell_type": "code",
   "source": [
    "FEE_HAIRCUT = 0.997\n",
    "EXCHANGES = [\n",
    "    {\"input_token\": 1, \"input_liquidity\": 2.1, \"output_token\": 2, \"output_liquidity\": 1.2, \"haircut\": FEE_HAIRCUT},\n",
    "    {\"input_token\": 2, \"input_liquidity\": 2.2, \"output_token\": 3, \"output_liquidity\": 1.3, \"haircut\": FEE_HAIRCUT},\n",
    "    {\"input_token\": 3, \"input_liquidity\": 2.3, \"output_token\": 4, \"output_liquidity\": 1.4, \"haircut\": FEE_HAIRCUT},\n",
    "    {\"input_token\": 4, \"input_liquidity\": 2.4, \"output_token\": 1, \"output_liquidity\": 1.1, \"haircut\": FEE_HAIRCUT}, ]\n"
   ],
   "id": "6e2d42d261a079d4",
   "outputs": [],
   "execution_count": 26
  },
  {
   "metadata": {
    "ExecuteTime": {
     "end_time": "2025-05-30T14:00:00.044871Z",
     "start_time": "2025-05-30T14:00:00.035752Z"
    }
   },
   "cell_type": "code",
   "source": [
    "SWAP_CURVE_X = np.exp(np.linspace(0, 1, 10)) - 1\n",
    "#print(SWAP_CURVE_X)"
   ],
   "id": "29f5c03e859be5d6",
   "outputs": [],
   "execution_count": 27
  },
  {
   "metadata": {
    "ExecuteTime": {
     "end_time": "2025-05-30T14:00:00.861813Z",
     "start_time": "2025-05-30T14:00:00.848356Z"
    }
   },
   "cell_type": "code",
   "source": [
    "# Define forward and backward swap calculators\n",
    "from typing import Union\n",
    "\n",
    "def forward_swap(x:Union[float, np.ndarray], haircut:float = FEE_HAIRCUT) -> Union[float, np.ndarray]:\n",
    "    if isinstance(x, float):\n",
    "        assert x >= 0\n",
    "    elif isinstance(x, np.ndarray):\n",
    "        assert np.all(x) >= 0\n",
    "    assert haircut > 0\n",
    "    return haircut * x /(1 + haircut * x)\n",
    "\n",
    "def backward_swap(y:Union[float, np.ndarray], haircut:float = FEE_HAIRCUT) -> Union[float, np.ndarray]:\n",
    "    if isinstance(y, float):\n",
    "        assert y >= 0.0\n",
    "        assert y < 1.0\n",
    "    elif isinstance(y, np.ndarray):\n",
    "        assert np.all(y) >= 0\n",
    "        assert np.all(y < 1.0)\n",
    "    assert haircut > 0\n",
    "    return y /(haircut - haircut * y)\n",
    "\n"
   ],
   "id": "e5e4f5b54960c8ec",
   "outputs": [],
   "execution_count": 28
  },
  {
   "metadata": {
    "ExecuteTime": {
     "end_time": "2025-05-30T14:00:01.798094Z",
     "start_time": "2025-05-30T14:00:01.789137Z"
    }
   },
   "cell_type": "code",
   "source": [
    "def generate_ITL(exchange_list:list[dict]=EXCHANGES) -> dict:\n",
    "    ITL = {}\n",
    "    for i in range(len(exchange_list)-1):\n",
    "        assert exchange_list[i]['output_token'] == exchange_list[i+1]['input_token']\n",
    "        ITL[exchange_list[i+1]['input_token']] = exchange_list[i]['output_liquidity']/ exchange_list[i+1]['input_liquidity']\n",
    "    return ITL\n",
    "\n"
   ],
   "id": "cf164548c8f0372d",
   "outputs": [],
   "execution_count": 29
  },
  {
   "metadata": {
    "ExecuteTime": {
     "end_time": "2025-05-30T14:00:03.471762Z",
     "start_time": "2025-05-30T14:00:03.467084Z"
    }
   },
   "cell_type": "code",
   "source": [
    "ITL = generate_ITL()\n",
    "print(ITL[2])\n",
    "exchange_list = EXCHANGES"
   ],
   "id": "9da79ab641f747ac",
   "outputs": [
    {
     "name": "stdout",
     "output_type": "stream",
     "text": [
      "0.5454545454545454\n"
     ]
    }
   ],
   "execution_count": 30
  },
  {
   "metadata": {
    "ExecuteTime": {
     "end_time": "2025-05-30T14:00:08.721110Z",
     "start_time": "2025-05-30T14:00:08.705005Z"
    }
   },
   "cell_type": "code",
   "source": [
    "# Define swap curves\n",
    "x_curve = SWAP_CURVE_X\n",
    "y_curve = forward_swap(x_curve)\n",
    "test_x_curve = backward_swap(y_curve)\n",
    "\n",
    "# Check if forward_swap equals inverse of backward_swap\n",
    "inverse_test = np.allclose(x_curve, test_x_curve)\n",
    "print(f\"Swap curves defined. \\nForward and Backward are inverses: {inverse_test}\")"
   ],
   "id": "4b5de37d6b6eeb1a",
   "outputs": [
    {
     "name": "stdout",
     "output_type": "stream",
     "text": [
      "Swap curves defined. \n",
      "Forward and Backward are inverses: True\n"
     ]
    }
   ],
   "execution_count": 31
  },
  {
   "metadata": {
    "ExecuteTime": {
     "end_time": "2025-05-30T14:06:26.472537Z",
     "start_time": "2025-05-30T14:06:26.459686Z"
    }
   },
   "cell_type": "code",
   "source": [
    "# Recursive compute\n",
    "\n",
    "# Exchange 1 -> 2\n",
    "# token_flow = exchange_list[0]['output_token']\n",
    "token_in = exchange_list[0]['input_token']\n",
    "token_in_liquidity = exchange_list[0]['input_liquidity']\n",
    "print(f\"token_in: {token_in} token_in_liquidity: {token_in_liquidity}\")\n",
    "\n",
    "# print(token_flow)\n",
    "# print(token_out)\n",
    "# assert token_flow == token_out\n",
    "# intermediate_token_liquidity = ITL[token_flow]\n",
    "# print(f\"Token liquidity for token-{token_flow} = {intermediate_token_liquidity}\")\n",
    "\n",
    "delta_1 = x_curve                                               # delta_1 can be any amount\n",
    "X_1 = delta_1  / token_in_liquidity                             # Forward swap argument: delta_1 / a_{1,2})\n",
    "\n",
    "xi_indx = np.searchsorted(x_curve, X_1, side='right')           # x_curve[xi_indx] > X_1\n",
    "eta_1 = y_curve[xi_indx]\n",
    "for i in range(len(x_curve)):\n",
    "    if xi_indx[i] == len(x_curve):\n",
    "        xi_indx -= 1\n",
    "    # print(f\"{i} xi: {x_curve[xi_indx[i]]:6.4f},  X_1: {X_1[i]:6.4f}, xi_indx: {xi_indx[i]} \")\n",
    "    print(f\"{i} delta_1: {delta_1[i]:6.4f},  eta_1: {eta_1[i]:6.4f}\")\n",
    "\n"
   ],
   "id": "ff0fb14ad020d346",
   "outputs": [
    {
     "name": "stdout",
     "output_type": "stream",
     "text": [
      "token_in: 1 token_in_liquidity: 2.1\n",
      "0 delta_1: 0.0000,  eta_1: 0.1049\n",
      "1 delta_1: 0.1175,  eta_1: 0.1049\n",
      "2 delta_1: 0.2488,  eta_1: 0.1988\n",
      "3 delta_1: 0.3956,  eta_1: 0.1988\n",
      "4 delta_1: 0.5596,  eta_1: 0.2829\n",
      "5 delta_1: 0.7429,  eta_1: 0.2829\n",
      "6 delta_1: 0.9477,  eta_1: 0.3581\n",
      "7 delta_1: 1.1766,  eta_1: 0.4255\n",
      "8 delta_1: 1.4324,  eta_1: 0.4255\n",
      "9 delta_1: 1.7183,  eta_1: 0.4858\n"
     ]
    }
   ],
   "execution_count": 37
  },
  {
   "metadata": {
    "ExecuteTime": {
     "end_time": "2025-05-30T14:46:18.935391Z",
     "start_time": "2025-05-30T14:46:18.926535Z"
    }
   },
   "cell_type": "code",
   "source": [
    "# Exchange 2 -> 3\n",
    "token_flow = exchange_list[0]['output_token']\n",
    "token_out = exchange_list[1]['input_token']\n",
    "\n",
    "assert token_flow == token_out\n",
    "intermediate_token_liquidity = ITL[token_flow]\n",
    "print(f\"Token liquidity for token-{token_flow} = {intermediate_token_liquidity}\")\n",
    "\n",
    "delta_2 = token_flow * eta_1                               # delta_2 upper bound: delta_2 < eta_1 * a_{2,1}\n",
    "X_2 = eta_1 * intermediate_token_liquidity                 # Discrete swap argument: eta_1 * (a_{2,1}/a_{2,3})\n",
    "\n",
    "xi_indx = np.searchsorted(x_curve, X_2, side='right')      # x_curve[xi_indx] > X_2\n",
    "eta_2 = y_curve[xi_indx]\n",
    "for i in range(len(x_curve)):\n",
    "    if xi_indx[i] == len(x_curve):\n",
    "        xi_indx -= 1\n",
    "    print(f\"{i} xi: {x_curve[xi_indx[i]]:6.4f},  X_2: {X_2[i]:6.4f}, xi_indx: {xi_indx[i]} \")\n",
    "    #print(f\"{i} delta_2: {delta_2[i]:6.4f},  eta_2: {eta_2[i]:6.4f}\")\n"
   ],
   "id": "545da04e75c88568",
   "outputs": [
    {
     "name": "stdout",
     "output_type": "stream",
     "text": [
      "Token liquidity for token-2 = 0.5454545454545454\n",
      "0 xi: 0.1175,  X_2: 0.0572, xi_indx: 1 \n",
      "1 xi: 0.1175,  X_2: 0.0572, xi_indx: 1 \n",
      "2 xi: 0.1175,  X_2: 0.1084, xi_indx: 1 \n",
      "3 xi: 0.1175,  X_2: 0.1084, xi_indx: 1 \n",
      "4 xi: 0.2488,  X_2: 0.1543, xi_indx: 2 \n",
      "5 xi: 0.2488,  X_2: 0.1543, xi_indx: 2 \n",
      "6 xi: 0.2488,  X_2: 0.1953, xi_indx: 2 \n",
      "7 xi: 0.2488,  X_2: 0.2321, xi_indx: 2 \n",
      "8 xi: 0.2488,  X_2: 0.2321, xi_indx: 2 \n",
      "9 xi: 0.3956,  X_2: 0.2650, xi_indx: 3 \n"
     ]
    }
   ],
   "execution_count": 42
  },
  {
   "metadata": {
    "ExecuteTime": {
     "end_time": "2025-05-30T14:46:35.881423Z",
     "start_time": "2025-05-30T14:46:35.872885Z"
    }
   },
   "cell_type": "code",
   "source": [
    "# Exchange 3 -> 4\n",
    "token_flow = exchange_list[1]['output_token']\n",
    "token_out = exchange_list[2]['input_token']\n",
    "\n",
    "assert token_flow == token_out\n",
    "intermediate_token_liquidity = ITL[token_flow]\n",
    "print(f\"Token liquidity for token-{token_flow} = {intermediate_token_liquidity}\")\n",
    "\n",
    "delta_3 = token_flow * eta_2                               # delta_3 upper bound: delta_3 < eta_2 * a_{3,2}\n",
    "X_3 = eta_2 * intermediate_token_liquidity                 # Discrete swap argument: eta_2 * (a_{3,2}/a_{3,4})\n",
    "\n",
    "xi_indx = np.searchsorted(x_curve, X_3, side='right')      # x_curve[xi_indx] > X_2\n",
    "eta_3 = y_curve[xi_indx]\n",
    "for i in range(len(x_curve)):\n",
    "    if xi_indx[i] == len(x_curve):\n",
    "        xi_indx -= 1\n",
    "    print(f\"{i} xi: {x_curve[xi_indx[i]]:6.4f},  X_3: {X_3[i]:6.4f}, xi_indx: {xi_indx[i]} \")\n",
    "    #print(f\"{i} delta_2: {delta_2[i]:6.4f},  eta_2: {eta_2[i]:6.4f}\")\n"
   ],
   "id": "b52e7f06c47aa90e",
   "outputs": [
    {
     "name": "stdout",
     "output_type": "stream",
     "text": [
      "Token liquidity for token-3 = 0.5652173913043479\n",
      "0 xi: 0.1175,  X_3: 0.0593, xi_indx: 1 \n",
      "1 xi: 0.1175,  X_3: 0.0593, xi_indx: 1 \n",
      "2 xi: 0.1175,  X_3: 0.0593, xi_indx: 1 \n",
      "3 xi: 0.1175,  X_3: 0.0593, xi_indx: 1 \n",
      "4 xi: 0.1175,  X_3: 0.1124, xi_indx: 1 \n",
      "5 xi: 0.1175,  X_3: 0.1124, xi_indx: 1 \n",
      "6 xi: 0.1175,  X_3: 0.1124, xi_indx: 1 \n",
      "7 xi: 0.1175,  X_3: 0.1124, xi_indx: 1 \n",
      "8 xi: 0.1175,  X_3: 0.1124, xi_indx: 1 \n",
      "9 xi: 0.2488,  X_3: 0.1599, xi_indx: 2 \n"
     ]
    }
   ],
   "execution_count": 43
  },
  {
   "metadata": {
    "ExecuteTime": {
     "end_time": "2025-05-30T14:46:51.852267Z",
     "start_time": "2025-05-30T14:46:51.843669Z"
    }
   },
   "cell_type": "code",
   "source": [
    "# Exchange 4 -> 1\n",
    "token_flow = exchange_list[2]['output_token']\n",
    "token_out = exchange_list[3]['input_token']\n",
    "\n",
    "assert token_flow == token_out\n",
    "intermediate_token_liquidity = ITL[token_flow]\n",
    "print(f\"Token liquidity for token-{token_flow} = {intermediate_token_liquidity}\")\n",
    "\n",
    "delta_4 = token_flow * eta_3                               # delta_4 upper bound: delta_4 < eta_3 * a_{4,3}\n",
    "X_4 = eta_3 * intermediate_token_liquidity                 # Discrete swap argument: eta_3 * (a_{4,3/a_{4,1})\n",
    "\n",
    "xi_indx = np.searchsorted(x_curve, X_4, side='right')      # x_curve[xi_indx] > X_2\n",
    "eta_3 = y_curve[xi_indx]\n",
    "for i in range(len(x_curve)):\n",
    "    if xi_indx[i] == len(x_curve):\n",
    "        xi_indx -= 1\n",
    "    print(f\"{i} xi: {x_curve[xi_indx[i]]:6.4f},  X_3: {X_4[i]:6.4f}, xi_indx: {xi_indx[i]} \")\n",
    "    #print(f\"{i} delta_2: {delta_2[i]:6.4f},  eta_2: {eta_2[i]:6.4f}\")\n"
   ],
   "id": "a2838dc3c3d304c2",
   "outputs": [
    {
     "name": "stdout",
     "output_type": "stream",
     "text": [
      "Token liquidity for token-4 = 0.5833333333333334\n",
      "0 xi: 0.1175,  X_3: 0.0612, xi_indx: 1 \n",
      "1 xi: 0.1175,  X_3: 0.0612, xi_indx: 1 \n",
      "2 xi: 0.1175,  X_3: 0.0612, xi_indx: 1 \n",
      "3 xi: 0.1175,  X_3: 0.0612, xi_indx: 1 \n",
      "4 xi: 0.1175,  X_3: 0.0612, xi_indx: 1 \n",
      "5 xi: 0.1175,  X_3: 0.0612, xi_indx: 1 \n",
      "6 xi: 0.1175,  X_3: 0.0612, xi_indx: 1 \n",
      "7 xi: 0.1175,  X_3: 0.0612, xi_indx: 1 \n",
      "8 xi: 0.1175,  X_3: 0.0612, xi_indx: 1 \n",
      "9 xi: 0.1175,  X_3: 0.1160, xi_indx: 1 \n"
     ]
    }
   ],
   "execution_count": 44
  },
  {
   "metadata": {},
   "cell_type": "code",
   "outputs": [],
   "execution_count": null,
   "source": "",
   "id": "de62058fbecf4f5a"
  }
 ],
 "metadata": {
  "kernelspec": {
   "display_name": "Python 3",
   "language": "python",
   "name": "python3"
  },
  "language_info": {
   "codemirror_mode": {
    "name": "ipython",
    "version": 2
   },
   "file_extension": ".py",
   "mimetype": "text/x-python",
   "name": "python",
   "nbconvert_exporter": "python",
   "pygments_lexer": "ipython2",
   "version": "2.7.6"
  }
 },
 "nbformat": 4,
 "nbformat_minor": 5
}
