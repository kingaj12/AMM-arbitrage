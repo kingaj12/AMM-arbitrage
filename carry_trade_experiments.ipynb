{
 "cells": [
  {
   "cell_type": "code",
   "execution_count": 5,
   "id": "e5920eee-c780-49a4-a025-445329262489",
   "metadata": {},
   "outputs": [],
   "source": [
    "import numpy as np\n",
    "\n",
    "# Uniswap protocol: swapExactTokensForTokens\n",
    "def swap(tok0, res0, res1, f):\n",
    "    numerator = res1 * ( 1 - f ) * tok0\n",
    "    denominator = res0 + ( 1 - f ) * tok0\n",
    "    try:\n",
    "        return numerator/denominator\n",
    "    except:\n",
    "        raise(ZeroDivisionError)"
   ]
  },
  {
   "cell_type": "code",
   "execution_count": 6,
   "id": "82eb4a81-0ccf-4561-aeca-cfc6566e37d4",
   "metadata": {},
   "outputs": [],
   "source": [
    "# Example: external market prices\n",
    "p_a = 170.00\n",
    "p_b = 100.00\n",
    "\n",
    "# Example: exchange pool reserves\n",
    "q_a = 100.0\n",
    "q_b = 200.0\n",
    "\n",
    "# Swap fee\n",
    "fee = 0.003\n",
    "\n",
    "# Pool values\n",
    "V_a = p_a * q_a\n",
    "V_b = p_b * q_b\n"
   ]
  },
  {
   "cell_type": "code",
   "execution_count": 35,
   "id": "ce402fd0-8d5c-4853-b5d2-c7f4a8ec2859",
   "metadata": {},
   "outputs": [
    {
     "name": "stdout",
     "output_type": "stream",
     "text": [
      "   a-token   &&    b-token   &&     profit   &&        fee   &&     return   && pool value \t\\\\\n",
      "      0.00   &&       0.00   &&       0.00   &&       0.00   &&       0.00   &&   37000.00 \\\\\n",
      "      1.05   &&       2.08   &&      28.77   &&       0.54   &&       0.16   &&   36971.23 \\\\\n",
      "      2.11   &&       4.11   &&      53.26   &&       1.07   &&       0.15   &&   36946.74 \\\\\n",
      "      3.16   &&       6.10   &&      73.62   &&       1.61   &&       0.14   &&   36926.38 \\\\\n",
      "      4.21   &&       8.06   &&      89.96   &&       2.15   &&       0.13   &&   36910.04 \\\\\n",
      "      5.26   &&       9.97   &&     102.41   &&       2.68   &&       0.11   &&   36897.59 \\\\\n",
      "      6.32   &&      11.85   &&     111.08   &&       3.22   &&       0.10   &&   36888.92 \\\\\n",
      "      7.37   &&      13.69   &&     116.08   &&       3.76   &&       0.09   &&   36883.92 \\\\\n",
      "      8.42   &&      15.49   &&     117.52   &&       4.29   &&       0.08   &&   36882.48 \\\\\n",
      "      9.47   &&      17.26   &&     115.50   &&       4.83   &&       0.07   &&   36884.50 \\\\\n",
      "     10.53   &&      19.00   &&     110.12   &&       5.37   &&       0.06   &&   36889.88 \\\\\n",
      "     11.58   &&      20.70   &&     101.47   &&       5.91   &&       0.05   &&   36898.53 \\\\\n",
      "     12.63   &&      22.37   &&      89.65   &&       6.44   &&       0.04   &&   36910.35 \\\\\n",
      "     13.68   &&      24.01   &&      74.74   &&       6.98   &&       0.03   &&   36925.26 \\\\\n",
      "     14.74   &&      25.62   &&      56.82   &&       7.52   &&       0.02   &&   36943.18 \\\\\n",
      "     15.79   &&      27.20   &&      35.99   &&       8.05   &&       0.01   &&   36964.01 \\\\\n",
      "     16.84   &&      28.75   &&      12.32   &&       8.59   &&       0.00   &&   36987.68 \\\\\n",
      "     17.89   &&      30.28   &&     -14.12   &&       9.13   &&      -0.00   &&   37014.12 \\\\\n",
      "     18.95   &&      31.78   &&     -43.25   &&       9.66   &&      -0.01   &&   37043.25 \\\\\n",
      "     20.00   &&      33.25   &&     -75.00   &&      10.20   &&      -0.02   &&   37075.00 \\\\\n"
     ]
    }
   ],
   "source": [
    "# Sample run for table 1\n",
    "\n",
    "print(f\"{'   a-token':10s}   && {'   b-token':10s}   &&\" \\\n",
    "          + f\" {'    profit':10s}   && {'       fee':10s}   && {'    return':10s}   && {'pool value':10s} \\t\\\\\\\\\")\n",
    "          \n",
    "for tok_a in np.linspace(start=0.0, stop=20.0, num=20):\n",
    "    tok_b = swap(tok_a, res_a, res_b, fee)\n",
    "    cost = p_a * tok_a\n",
    "    earn = p_b * tok_b\n",
    "    f    = p_a * tok_a * fee\n",
    "    prof = earn - cost\n",
    "    if cost>0:\n",
    "        retn = prof / cost\n",
    "    else:\n",
    "        retn = 0.0\n",
    "    pool_value = V_a + V_b - prof\n",
    "    print(f\"{tok_a:10.2f}   && {tok_b:10.2f}   &&\" \\\n",
    "          + f\" {prof:10.2f}   && {f:10.2f}   && {retn:10.2f}   && {pool_value:10.2f} \\\\\\\\\")"
   ]
  },
  {
   "cell_type": "code",
   "execution_count": null,
   "id": "a8d0f0a9-e33b-41bb-ac0f-5d546cc86684",
   "metadata": {},
   "outputs": [],
   "source": []
  },
  {
   "cell_type": "code",
   "execution_count": 34,
   "id": "c76790ba-6f0c-4f37-acba-3f0169a1d696",
   "metadata": {},
   "outputs": [
    {
     "name": "stdout",
     "output_type": "stream",
     "text": [
      "Value ratio:                         &&   1.1765       \\\\\n",
      "Value ratio no-arbitrage interval:   &&   [0.9970, 1.0030]    \\\\\n",
      "Carry trade arbitrage interval:      &&   (0.0000, 0.1735)    \\\\\n",
      "Optimal trade:                       &&   0.0833       \\\\\n",
      "Post-optimal trade value ratio:      &&   1.0028       \\\\\n",
      "\n",
      "Value of a-token pool:               &&   $17000.00    \\\\\n",
      "Value of b_token pool:               &&   $20000.00    \\\\\n",
      "Optimal trade:                       &&   $ 1415.66    \\\\\n",
      "Optimal profit:                      &&   $  117.53    \\\\\n"
     ]
    }
   ],
   "source": [
    "# Sample run for Table 2\n",
    "\n",
    "max_trade = V_b / V_a - 1 / (1 - fee)\n",
    "opt_trade_a = np.sqrt( V_b / (V_a * (1 - fee))) - 1 / (1 - fee)\n",
    "opt_trade_b = (1 - fee) * opt_trade_a / (1 + (1 - fee) * opt_trade_a)\n",
    "opt_profit = V_b * opt_trade_b - V_a * opt_trade_a \n",
    "value_a_post_opt = V_a * (1 + opt_trade_a)\n",
    "value_b_post_opt = V_b * (1 - opt_trade_b)\n",
    "\n",
    "print(f\"Value ratio:                         && {V_b / V_a:8.4f}       \\\\\\\\\")\n",
    "print(f\"Value ratio no-arbitrage interval:   &&   [{1 - fee:6.4f}, {1 / (1 - fee):6.4f}]    \\\\\\\\\")\n",
    "print(f\"Carry trade arbitrage interval:      &&   ({0:6.4f}, {max_trade:6.4f})    \\\\\\\\\")\n",
    "print(f\"Optimal trade:                       && {opt_trade_a:8.4f}       \\\\\\\\\")\n",
    "print(f\"Post-optimal trade value ratio:      && {value_b_post_opt/value_a_post_opt:8.4f}       \\\\\\\\\")\n",
    "print(\"\")\n",
    "print(f\"Value of a-token pool:               &&   ${V_a:8.2f}    \\\\\\\\\")\n",
    "print(f\"Value of b_token pool:               &&   ${V_b:8.2f}    \\\\\\\\\")\n",
    "print(f\"Optimal trade:                       &&   ${V_a * opt_trade_a:8.2f}    \\\\\\\\\")\n",
    "print(f\"Optimal profit:                      &&   ${opt_profit:8.2f}    \\\\\\\\\")"
   ]
  },
  {
   "cell_type": "code",
   "execution_count": null,
   "id": "b0a4f7da-416d-4325-80c3-20969b99f55c",
   "metadata": {},
   "outputs": [],
   "source": []
  }
 ],
 "metadata": {
  "kernelspec": {
   "display_name": "Python 3 (ipykernel)",
   "language": "python",
   "name": "python3"
  },
  "language_info": {
   "codemirror_mode": {
    "name": "ipython",
    "version": 3
   },
   "file_extension": ".py",
   "mimetype": "text/x-python",
   "name": "python",
   "nbconvert_exporter": "python",
   "pygments_lexer": "ipython3",
   "version": "3.11.3"
  }
 },
 "nbformat": 4,
 "nbformat_minor": 5
}
