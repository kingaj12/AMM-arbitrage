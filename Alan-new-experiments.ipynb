{
 "cells": [
  {
   "cell_type": "code",
   "id": "initial_id",
   "metadata": {
    "collapsed": true,
    "ExecuteTime": {
     "end_time": "2025-01-28T19:00:17.933844Z",
     "start_time": "2025-01-28T19:00:17.360505Z"
    }
   },
   "source": [
    "import numpy as np\n",
    "import pandas as pd\n",
    "\n"
   ],
   "outputs": [],
   "execution_count": 1
  },
  {
   "metadata": {
    "ExecuteTime": {
     "end_time": "2025-01-28T20:44:16.850345Z",
     "start_time": "2025-01-28T20:44:16.846588Z"
    }
   },
   "cell_type": "code",
   "source": [
    "# initialize fees\n",
    "FEE_F = 0.003\n",
    "FEE_G = 0.0025\n",
    "\n",
    "# initialize basic arrays and dictionaries\n",
    "q = {'ab': [0., 0.], 'ac': [0., 0.], 'bc': [0.,0.]}\n",
    "swap_amt = [0.]*2\n"
   ],
   "id": "b3801edf6b8ebf6c",
   "outputs": [],
   "execution_count": 68
  },
  {
   "metadata": {
    "ExecuteTime": {
     "end_time": "2025-01-28T20:44:17.599103Z",
     "start_time": "2025-01-28T20:44:17.589066Z"
    }
   },
   "cell_type": "code",
   "source": [
    "\n",
    "def reset_reserves(q_:dict):\n",
    "    q_['ab'] = [100., 100.]\n",
    "    q_['ac'] = [200., 200.]\n",
    "    q_['bc'] = [250., 250.]\n",
    "    return q_\n",
    "\n",
    "q = reset_reserves(q)\n",
    "\n",
    "init_state = {\n",
    "    'exch': ['ab', 'ac', 'bc'],\n",
    "    'tok0': [0.]*3,\n",
    "    'tok1': [0.]*3,\n",
    "    'res0': [q['ab'][0], q['ac'][0], q['bc'][0]],\n",
    "    'res1': [q['ab'][1], q['ac'][1], q['bc'][1]],\n",
    "    'reason': [\"initialize\"]*3\n",
    "}\n",
    "\n",
    "ledger_df = pd.DataFrame(init_state)\n",
    "\n",
    "print(ledger_df)\n"
   ],
   "id": "5f24dd2f665fc62d",
   "outputs": [
    {
     "name": "stdout",
     "output_type": "stream",
     "text": [
      "  exch  tok0  tok1   res0   res1      reason\n",
      "0   ab   0.0   0.0  100.0  100.0  initialize\n",
      "1   ac   0.0   0.0  200.0  200.0  initialize\n",
      "2   bc   0.0   0.0  250.0  250.0  initialize\n"
     ]
    }
   ],
   "execution_count": 69
  },
  {
   "metadata": {
    "ExecuteTime": {
     "end_time": "2025-01-28T20:44:18.889987Z",
     "start_time": "2025-01-28T20:44:18.880472Z"
    }
   },
   "cell_type": "code",
   "source": [
    "def psi(x):\n",
    "    assert x >= 0\n",
    "    return 1/(1+x)\n",
    "\n",
    "def phi(x):\n",
    "    assert x >= 0\n",
    "    assert x < 1\n",
    "    return 1/(1-x)\n",
    "\n",
    "def swap(data_):\n",
    "    # data_ = { 'reserves': q['ab'], 'legs': [10., 0.], 'direction': 'forward', 'fee': FEE_F}\n",
    "    f_ = data_['fee']\n",
    "    d_ = data_['legs']\n",
    "    r_ = data_['reserves']\n",
    "    direction:str = data_['direction']\n",
    "\n",
    "    assert r_[0] > 0\n",
    "    assert r_[1] > 0\n",
    "\n",
    "    # The in_leg has the non-zero entry\n",
    "    if d_[0] > 0:\n",
    "        assert d_[1] == 0\n",
    "        in_leg = 0\n",
    "        out_leg = 1\n",
    "    else:\n",
    "        assert d_[0] == 0\n",
    "        in_leg = 1\n",
    "        out_leg = 0\n",
    "\n",
    "    q_in = r_[in_leg]\n",
    "    q_out = r_[out_leg]\n",
    "\n",
    "    if direction == 'backward':\n",
    "        # backward swap:\n",
    "        #     find the input that produces the output\n",
    "        #     the output is known, so this is the \"in_leg\" which has a non-zero entry\n",
    "        d_out = d_[in_leg]\n",
    "        result_idx = out_leg\n",
    "        d_in = float((1 / (1 - f_)) * (q_in / q_out) * phi(d_out / q_out) * d_out)\n",
    "        d_[out_leg] = d_in\n",
    "    elif direction == 'forward':\n",
    "        # forward swap:\n",
    "        #     find the output produced by the input\n",
    "        #     the input is known, so this is the \"in_leg\" which has a non-zero entry\n",
    "        d_in = d_[in_leg]\n",
    "        result_idx = out_leg\n",
    "        d_in = (1 - f_) * d_in\n",
    "        d_out = float((q_out / q_in) * psi(d_in / q_in) * d_in)\n",
    "        d_[out_leg] = d_out\n",
    "    else:\n",
    "        print('unknown direction')\n",
    "        return\n",
    "\n",
    "    r_[out_leg] -= d_out\n",
    "    r_[in_leg]  += d_in\n",
    "    return {'reserves': r_, 'legs': d_, 'result_idx': result_idx }\n",
    "\n",
    "# a->b route\n",
    "#\n",
    "q = reset_reserves(q)\n",
    "\n",
    "# Tests\n",
    "if True:\n",
    "    # swap a->b\n",
    "    reason = 'route1: a->b'\n",
    "    exch = 'ab'\n",
    "    swap_out = swap({ 'reserves': q[exch],\n",
    "                  'legs': [10., 0.],\n",
    "                  'direction': 'forward',\n",
    "                  'fee': FEE_F})\n",
    "    print(reason)\n",
    "    print(swap_out)\n",
    "    route1_b_tokens = swap_out['legs'][swap_out['result_idx']]\n",
    "\n",
    "    # swap c->b\n",
    "    reason = 'cycle: c->b '\n",
    "    exch = 'bc'\n",
    "    swap_out = swap({ 'reserves': q[exch],\n",
    "                  'legs': [route1_b_tokens, 0.],\n",
    "                  'direction': 'backward',\n",
    "                  'fee': FEE_F})\n",
    "    cycle_c1_tokens = swap_out['legs'][swap_out['result_idx']]\n",
    "    print(reason)\n",
    "    print(swap_out)\n",
    "    print(f\"cycle_c1_tokens: {cycle_c1_tokens}\")\n"
   ],
   "id": "d20a302750a668fb",
   "outputs": [
    {
     "name": "stdout",
     "output_type": "stream",
     "text": [
      "route1: a->b\n",
      "{'reserves': [109.97, 90.93389106119851], 'legs': [10.0, 9.066108938801491], 'result_idx': 1}\n",
      "cycle: c->b \n",
      "{'reserves': [259.4355645298258, 240.9338910611985], 'legs': [9.066108938801491, 9.435564529825822], 'result_idx': 1}\n",
      "cycle_c1_tokens: 9.435564529825822\n"
     ]
    }
   ],
   "execution_count": 70
  },
  {
   "metadata": {
    "ExecuteTime": {
     "end_time": "2025-01-28T20:44:31.986436Z",
     "start_time": "2025-01-28T20:44:31.977190Z"
    }
   },
   "cell_type": "code",
   "source": [
    "# a->b route1\n",
    "q = reset_reserves(q)\n",
    "\n",
    "reason = 'route1: a->b'\n",
    "exch = 'ab'\n",
    "swap_out = swap({ 'reserves': q[exch],\n",
    "                  'legs': [10., 0.],\n",
    "                  'direction': 'forward',\n",
    "                  'fee': FEE_F})\n",
    "ledger_df.loc[len(ledger_df)] = [exch] + swap_out['legs'] + swap_out['reserves'] + [reason]\n",
    "route1_b_tokens = swap_out['legs'][swap_out['result_idx']]"
   ],
   "id": "842a828b90e62fde",
   "outputs": [],
   "execution_count": 71
  },
  {
   "metadata": {
    "ExecuteTime": {
     "end_time": "2025-01-28T20:44:33.276766Z",
     "start_time": "2025-01-28T20:44:33.269832Z"
    }
   },
   "cell_type": "code",
   "source": "print(ledger_df)",
   "id": "9ea34720276325a1",
   "outputs": [
    {
     "name": "stdout",
     "output_type": "stream",
     "text": [
      "  exch  tok0      tok1    res0        res1        reason\n",
      "0   ab   0.0  0.000000  100.00  100.000000    initialize\n",
      "1   ac   0.0  0.000000  200.00  200.000000    initialize\n",
      "2   bc   0.0  0.000000  250.00  250.000000    initialize\n",
      "3   ab  10.0  9.066109  109.97   90.933891  route1: a->b\n"
     ]
    }
   ],
   "execution_count": 72
  },
  {
   "metadata": {
    "ExecuteTime": {
     "end_time": "2025-01-28T20:45:02.398695Z",
     "start_time": "2025-01-28T20:45:02.389153Z"
    }
   },
   "cell_type": "code",
   "source": [
    "# a->c->b route2\n",
    "\n",
    "q = reset_reserves(q)\n",
    "\n",
    "# swap a->c\n",
    "reason = 'route2: a->c'\n",
    "exch = 'ac'\n",
    "swap_out = swap({ 'reserves': q[exch],\n",
    "                  'legs': [10., 0.],\n",
    "                  'direction': 'forward',\n",
    "                  'fee': FEE_F})\n",
    "ledger_df.loc[len(ledger_df)] = [exch] + swap_out['legs'] + swap_out['reserves'] + [reason]\n",
    "\n",
    "# record route2 c-token result\n",
    "route2_c_tokens = swap_out['legs'][swap_out['result_idx']]\n",
    "print(f\"route2_c_tokens: {route2_c_tokens}\")\n",
    "\n",
    "# swap c->b\n",
    "reason = 'route2: c->b'\n",
    "exch = 'bc'\n",
    "swap_out = swap({ 'reserves': q[exch],\n",
    "                  'legs': [0., route2_c_tokens], # note: incoming leg is c-tokens, which is index 1\n",
    "                  'direction': 'forward',\n",
    "                  'fee': FEE_F})\n",
    "ledger_df.loc[len(ledger_df)] = [exch] + swap_out['legs'] + swap_out['reserves'] + [reason]\n",
    "\n",
    "route2_b_tokens = swap_out['legs'][swap_out['result_idx']]\n",
    "print(f\"route2_b_tokens: {route2_b_tokens}\")\n",
    "\n",
    "print(f\"Difference route1 minus route2: {route1_b_tokens - route2_b_tokens}\")"
   ],
   "id": "b0aba52b1d22be38",
   "outputs": [
    {
     "name": "stdout",
     "output_type": "stream",
     "text": [
      "route2_c_tokens: 9.496594751631186\n",
      "route2_b_tokens: 9.122609663880215\n",
      "Difference route1 minus route2: -0.056500725078723946\n"
     ]
    }
   ],
   "execution_count": 73
  },
  {
   "metadata": {
    "ExecuteTime": {
     "end_time": "2025-01-28T20:45:17.301856Z",
     "start_time": "2025-01-28T20:45:17.295022Z"
    }
   },
   "cell_type": "code",
   "source": "print(ledger_df)",
   "id": "a13ee0b3e895ff3f",
   "outputs": [
    {
     "name": "stdout",
     "output_type": "stream",
     "text": [
      "  exch      tok0      tok1       res0        res1        reason\n",
      "0   ab   0.00000  0.000000  100.00000  100.000000    initialize\n",
      "1   ac   0.00000  0.000000  200.00000  200.000000    initialize\n",
      "2   bc   0.00000  0.000000  250.00000  250.000000    initialize\n",
      "3   ab  10.00000  9.066109  109.97000   90.933891  route1: a->b\n",
      "4   ac  10.00000  9.496595  209.97000  190.503405  route2: a->c\n",
      "5   bc   9.12261  9.496595  240.87739  259.468105  route2: c->b\n"
     ]
    }
   ],
   "execution_count": 74
  },
  {
   "metadata": {
    "ExecuteTime": {
     "end_time": "2025-01-28T20:45:33.419255Z",
     "start_time": "2025-01-28T20:45:33.407347Z"
    }
   },
   "cell_type": "code",
   "source": [
    "# cycle\n",
    "\n",
    "if route2_b_tokens - route1_b_tokens > 0:\n",
    "    cycle = 'c->b->a->c'\n",
    "else:\n",
    "    cycle = 'c->a->b->c'\n",
    "\n",
    "print(f\"cycle: {cycle}\")\n",
    "\n",
    "q = reset_reserves(q)\n",
    "\n",
    "if cycle == 'c->b->a->c':\n",
    "    # swap c->b\n",
    "    reason = 'cycle: c->b should be route1-b'\n",
    "    exch = 'bc'\n",
    "    swap_out = swap({ 'reserves': q[exch],\n",
    "                  'legs': [route1_b_tokens, 0.],\n",
    "                  'direction': 'backward',\n",
    "                  'fee': FEE_F})\n",
    "    ledger_df.loc[len(ledger_df)] = [exch] + swap_out['legs'] + swap_out['reserves'] + [reason]\n",
    "    cycle_c1_tokens = swap_out['legs'][swap_out['result_idx']]\n",
    "    print(f\"cycle_c1_tokens: {cycle_c1_tokens}\")\n",
    "\n",
    "    # swap b->a\n",
    "    reason = 'cycle: b->a should be route1-a'\n",
    "    exch = 'ab'\n",
    "    swap_out = swap({ 'reserves': q[exch],\n",
    "                      'legs': [0., route1_b_tokens],\n",
    "                      'direction': 'backward',\n",
    "                      'fee': FEE_F})\n",
    "    ledger_df.loc[len(ledger_df)] = [exch] + swap_out['legs'] + swap_out['reserves'] + [reason]\n",
    "    cycle_a_tokens = swap_out['legs'][swap_out['result_idx']]\n",
    "    print(f\"cycle_a_tokens: {cycle_a_tokens}\")\n",
    "\n",
    "    # swap a->c\n",
    "    reason = 'cycle: a->c'\n",
    "    exch = 'ac'\n",
    "    swap_out = swap({ 'reserves': q[exch],\n",
    "                      'legs': [cycle_a_tokens, 0.],\n",
    "                      'direction': 'forward',\n",
    "                      'fee': FEE_F})\n",
    "    ledger_df.loc[len(ledger_df)] = [exch] + swap_out['legs'] + swap_out['reserves'] + [reason]\n",
    "    cycle_c2_tokens = swap_out['legs'][swap_out['result_idx']]\n",
    "    print(f\"cycle_c2_tokens: {cycle_c2_tokens}\")\n",
    "\n",
    "    print(f\"Difference c2 minus c1: {cycle_c2_tokens - cycle_c1_tokens}\")"
   ],
   "id": "3685076b293a6d2",
   "outputs": [
    {
     "name": "stdout",
     "output_type": "stream",
     "text": [
      "cycle: c->b->a->c\n",
      "cycle_c1_tokens: 9.435564529825822\n",
      "cycle_a_tokens: 9.999999999999998\n",
      "cycle_c2_tokens: 9.496594751631184\n",
      "Difference c2 minus c1: 0.06103022180536222\n"
     ]
    }
   ],
   "execution_count": 75
  },
  {
   "metadata": {},
   "cell_type": "code",
   "outputs": [],
   "execution_count": null,
   "source": "",
   "id": "dc53e392eb43d8fc"
  }
 ],
 "metadata": {
  "kernelspec": {
   "display_name": "Python 3",
   "language": "python",
   "name": "python3"
  },
  "language_info": {
   "codemirror_mode": {
    "name": "ipython",
    "version": 2
   },
   "file_extension": ".py",
   "mimetype": "text/x-python",
   "name": "python",
   "nbconvert_exporter": "python",
   "pygments_lexer": "ipython2",
   "version": "2.7.6"
  }
 },
 "nbformat": 4,
 "nbformat_minor": 5
}
