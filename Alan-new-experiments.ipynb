{
 "cells": [
  {
   "cell_type": "code",
   "id": "initial_id",
   "metadata": {
    "collapsed": true,
    "ExecuteTime": {
     "end_time": "2025-01-27T20:47:16.614793Z",
     "start_time": "2025-01-27T20:47:16.610038Z"
    }
   },
   "source": [
    "import numpy as np\n",
    "\n"
   ],
   "outputs": [],
   "execution_count": 2
  },
  {
   "metadata": {
    "ExecuteTime": {
     "end_time": "2025-01-27T21:54:42.290396Z",
     "start_time": "2025-01-27T21:54:42.285305Z"
    }
   },
   "cell_type": "code",
   "source": [
    "def psi(x):\n",
    "    assert x >= 0\n",
    "    return 1/(1+x)\n",
    "\n",
    "def phi(x):\n",
    "    assert x >= 0 & x < 1\n",
    "    return 1/(1-x)\n",
    "\n",
    "def forward_swap(d_in, q, g):\n",
    "    assert q[0] > 0\n",
    "    d_out = (1 - g) * ( q[1]/q[0] ) * psi(d_in/q[0]) * d_in\n",
    "    return d_out\n",
    "\n",
    "def backward_swap(d_out, q, f):\n",
    "    assert q[1] > 0\n",
    "    d_in = (1/(1-f)) * ( q[0]/q[1] ) * phi(d_out/q[1]) * d_out\n",
    "    return d_in\n"
   ],
   "id": "5238752452bfbfce",
   "outputs": [],
   "execution_count": 8
  },
  {
   "metadata": {
    "ExecuteTime": {
     "end_time": "2025-01-27T21:54:42.887642Z",
     "start_time": "2025-01-27T21:54:42.883820Z"
    }
   },
   "cell_type": "code",
   "source": [
    "F = 0.003\n",
    "G = 0.003\n",
    "\n",
    "Q_ab = (100, 100)\n",
    "Q_ac = (200, 200)\n",
    "Q_bc = (250, 250)"
   ],
   "id": "20bd3dcbeb9d5272",
   "outputs": [],
   "execution_count": 9
  },
  {
   "metadata": {
    "ExecuteTime": {
     "end_time": "2025-01-27T21:54:43.666666Z",
     "start_time": "2025-01-27T21:54:43.659121Z"
    }
   },
   "cell_type": "code",
   "source": [
    "# a->b route\n",
    "D_a = 10\n",
    "D_b1 = forward_swap(d_in=D_a, q=Q_ab, g=G)\n",
    "\n",
    "# a->c->b route\n",
    "D_c = forward_swap(d_in=D_a, q=Q_ac, g=G)\n",
    "D_b2 = forward_swap(d_in=D_c, q=(Q_bc[1],Q_bc[0]), g=G)\n",
    "\n",
    "print(D_b1, D_c, D_b2)"
   ],
   "id": "a93bc28cca4dfb9f",
   "outputs": [
    {
     "name": "stdout",
     "output_type": "stream",
     "text": [
      "9.063636363636364 9.495238095238093 9.120352699379746\n"
     ]
    }
   ],
   "execution_count": 10
  },
  {
   "metadata": {
    "ExecuteTime": {
     "end_time": "2025-01-27T21:55:30.628586Z",
     "start_time": "2025-01-27T21:55:30.624522Z"
    }
   },
   "cell_type": "code",
   "source": [
    "# cycle c -> b -> a -> c\n",
    "\n",
    "C_b = forward_swap(d_in=D_c, q=Q_bc, g=G)\n"
   ],
   "id": "3685076b293a6d2",
   "outputs": [],
   "execution_count": 11
  },
  {
   "metadata": {},
   "cell_type": "code",
   "outputs": [],
   "execution_count": null,
   "source": "",
   "id": "47118d95f2b611b1"
  }
 ],
 "metadata": {
  "kernelspec": {
   "display_name": "Python 3",
   "language": "python",
   "name": "python3"
  },
  "language_info": {
   "codemirror_mode": {
    "name": "ipython",
    "version": 2
   },
   "file_extension": ".py",
   "mimetype": "text/x-python",
   "name": "python",
   "nbconvert_exporter": "python",
   "pygments_lexer": "ipython2",
   "version": "2.7.6"
  }
 },
 "nbformat": 4,
 "nbformat_minor": 5
}
