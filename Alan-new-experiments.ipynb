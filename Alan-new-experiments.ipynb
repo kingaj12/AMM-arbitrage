{
 "cells": [
  {
   "cell_type": "code",
   "id": "initial_id",
   "metadata": {
    "collapsed": true,
    "ExecuteTime": {
     "end_time": "2025-01-29T01:16:43.058624Z",
     "start_time": "2025-01-29T01:16:43.054403Z"
    }
   },
   "source": [
    "import numpy as np\n",
    "import pandas as pd\n",
    "\n"
   ],
   "outputs": [],
   "execution_count": 45
  },
  {
   "metadata": {
    "ExecuteTime": {
     "end_time": "2025-01-29T01:16:44.346803Z",
     "start_time": "2025-01-29T01:16:44.342080Z"
    }
   },
   "cell_type": "code",
   "source": [
    "# initialize fees\n",
    "FEE_F = 0.003\n",
    "\n",
    "# initialize basic arrays and dictionaries\n",
    "q = {'ab': [0., 0.], 'ac': [0., 0.], 'bc': [0.,0.]}\n",
    "swap_amt = [0.]*2\n",
    "\n",
    "# Test swap method, or not\n",
    "TEST_SWAP_CODE = False"
   ],
   "id": "b3801edf6b8ebf6c",
   "outputs": [],
   "execution_count": 46
  },
  {
   "metadata": {
    "ExecuteTime": {
     "end_time": "2025-01-29T01:16:46.733270Z",
     "start_time": "2025-01-29T01:16:46.725338Z"
    }
   },
   "cell_type": "code",
   "source": [
    "# Experiment1 (and initialize dataframe)\n",
    "\n",
    "def reset_reserves(q_:dict):\n",
    "    q_['ab'] = [100., 100.]\n",
    "    q_['ac'] = [200., 200.]\n",
    "    q_['bc'] = [250., 250.]\n",
    "    return q_\n",
    "\n",
    "q = reset_reserves(q)\n",
    "\n",
    "init_state = {\n",
    "    'exch': ['ab', 'ac', 'bc'],\n",
    "    'tok0': [0.]*3,\n",
    "    'tok1': [0.]*3,\n",
    "    'res0': [q['ab'][0], q['ac'][0], q['bc'][0]],\n",
    "    'res1': [q['ab'][1], q['ac'][1], q['bc'][1]],\n",
    "    'reason': [\"exp1\"]*3\n",
    "}\n",
    "\n",
    "ledger_df = pd.DataFrame(init_state)\n",
    "\n",
    "print(ledger_df)\n"
   ],
   "id": "5f24dd2f665fc62d",
   "outputs": [
    {
     "name": "stdout",
     "output_type": "stream",
     "text": [
      "  exch  tok0  tok1   res0   res1 reason\n",
      "0   ab   0.0   0.0  100.0  100.0   exp1\n",
      "1   ac   0.0   0.0  200.0  200.0   exp1\n",
      "2   bc   0.0   0.0  250.0  250.0   exp1\n"
     ]
    }
   ],
   "execution_count": 47
  },
  {
   "metadata": {
    "ExecuteTime": {
     "end_time": "2025-01-29T01:16:48.534676Z",
     "start_time": "2025-01-29T01:16:48.525596Z"
    }
   },
   "cell_type": "code",
   "source": [
    "# Swap code\n",
    "#     Follows the Uniswap code\n",
    "\n",
    "def psi(x):\n",
    "    assert x >= 0\n",
    "    return 1/(1+x)\n",
    "\n",
    "def phi(x):\n",
    "    assert x >= 0\n",
    "    assert x < 1\n",
    "    return 1/(1-x)\n",
    "\n",
    "def swap(data_):\n",
    "    # data_ = { 'reserves': q['ab'], 'legs': [10., 0.], 'direction': 'forward', 'fee': FEE_F}\n",
    "    f_ = data_['fee']\n",
    "    d_ = data_['legs']\n",
    "    r_ = data_['reserves']\n",
    "    direction:str = data_['direction']\n",
    "\n",
    "    assert r_[0] > 0\n",
    "    assert r_[1] > 0\n",
    "\n",
    "    # The in_leg has the non-zero entry\n",
    "    if d_[0] > 0:\n",
    "        assert d_[1] == 0\n",
    "        in_leg = 0\n",
    "        out_leg = 1\n",
    "    else:\n",
    "        assert d_[0] == 0\n",
    "        in_leg = 1\n",
    "        out_leg = 0\n",
    "\n",
    "    q_in = r_[in_leg]\n",
    "    q_out = r_[out_leg]\n",
    "\n",
    "    if direction == 'backward':\n",
    "        # backward swap:\n",
    "        #     find the input that produces the output\n",
    "        #     the output is known, so this is the \"in_leg\" which has a non-zero entry\n",
    "        d_out = d_[in_leg]\n",
    "        result_idx = out_leg\n",
    "        d_in = float((1 / (1 - f_)) * (q_in / q_out) * phi(d_out / q_out) * d_out)\n",
    "        d_[out_leg] = d_in\n",
    "    elif direction == 'forward':\n",
    "        # forward swap:\n",
    "        #     find the output produced by the input\n",
    "        #     the input is known, so this is the \"in_leg\" which has a non-zero entry\n",
    "        d_in = d_[in_leg]\n",
    "        result_idx = out_leg\n",
    "        d_in = (1 - f_) * d_in\n",
    "        d_out = float((q_out / q_in) * psi(d_in / q_in) * d_in)\n",
    "        d_[out_leg] = d_out\n",
    "    else:\n",
    "        print('unknown direction')\n",
    "        return\n",
    "\n",
    "    r_[out_leg] -= d_out\n",
    "    r_[in_leg]  += d_in\n",
    "    return {'reserves': r_, 'legs': d_, 'result_idx': result_idx }\n",
    "\n",
    "\n",
    "# Tests\n",
    "if TEST_SWAP_CODE:\n",
    "    q = reset_reserves(q)\n",
    "\n",
    "    # swap a->b\n",
    "    reason = 'route1: a->b'\n",
    "    exch = 'ab'\n",
    "    swap_out = swap({ 'reserves': q[exch],\n",
    "                  'legs': [10., 0.],\n",
    "                  'direction': 'forward',\n",
    "                  'fee': FEE_F})\n",
    "    print(reason)\n",
    "    print(swap_out)\n",
    "    route1_b_tokens = swap_out['legs'][swap_out['result_idx']]\n",
    "\n",
    "    # swap c->b\n",
    "    reason = 'cycle: c->b '\n",
    "    exch = 'bc'\n",
    "    swap_out = swap({ 'reserves': q[exch],\n",
    "                  'legs': [route1_b_tokens, 0.],\n",
    "                  'direction': 'backward',\n",
    "                  'fee': FEE_F})\n",
    "    cycle_c1_tokens = swap_out['legs'][swap_out['result_idx']]\n",
    "    print(reason)\n",
    "    print(swap_out)\n",
    "    print(f\"cycle_c1_tokens: {cycle_c1_tokens}\")\n"
   ],
   "id": "d20a302750a668fb",
   "outputs": [],
   "execution_count": 48
  },
  {
   "metadata": {
    "ExecuteTime": {
     "end_time": "2025-01-29T01:17:00.301423Z",
     "start_time": "2025-01-29T01:17:00.290906Z"
    }
   },
   "cell_type": "code",
   "source": [
    "def run_cycle_test(q):\n",
    "    # Run two routes: a->b and a->c->b\n",
    "    # Notice that a->c->b returns *more* b-tokens\n",
    "    # Run cycle: c1->b->a->c2\n",
    "    # Notice that c2 > c1\n",
    "\n",
    "    # a->b route1\n",
    "    q = reset_reserves(q)\n",
    "\n",
    "    reason = 'route1: a->b'\n",
    "    exch = 'ab'\n",
    "    swap_out = swap({ 'reserves': q[exch],\n",
    "                      'legs': [10., 0.],\n",
    "                      'direction': 'forward',\n",
    "                      'fee': FEE_F})\n",
    "    ledger_df.loc[len(ledger_df)] = [exch] + swap_out['legs'] + swap_out['reserves'] + [reason]\n",
    "    route1_b_tokens = swap_out['legs'][swap_out['result_idx']]\n",
    "    print(f\"route1_b_tokens: {route1_b_tokens}\")\n",
    "\n",
    "    # a->c->b route2\n",
    "    q = reset_reserves(q)\n",
    "\n",
    "    # swap a->c\n",
    "    reason = 'route2: a->c'\n",
    "    exch = 'ac'\n",
    "    swap_out = swap({ 'reserves': q[exch],\n",
    "                      'legs': [10., 0.],\n",
    "                      'direction': 'forward',\n",
    "                      'fee': FEE_F})\n",
    "    ledger_df.loc[len(ledger_df)] = [exch] + swap_out['legs'] + swap_out['reserves'] + [reason]\n",
    "\n",
    "    # record route2 c-token result\n",
    "    route2_c_tokens = swap_out['legs'][swap_out['result_idx']]\n",
    "    print(f\"route2_c_tokens: {route2_c_tokens}\")\n",
    "\n",
    "    # swap c->b\n",
    "    reason = 'route2: c->b'\n",
    "    exch = 'bc'\n",
    "    swap_out = swap({ 'reserves': q[exch],\n",
    "                      'legs': [0., route2_c_tokens], # note: incoming leg is c-tokens, which is index 1\n",
    "                      'direction': 'forward',\n",
    "                      'fee': FEE_F})\n",
    "    ledger_df.loc[len(ledger_df)] = [exch] + swap_out['legs'] + swap_out['reserves'] + [reason]\n",
    "\n",
    "    route2_b_tokens = swap_out['legs'][swap_out['result_idx']]\n",
    "    print(f\"route2_b_tokens: {route2_b_tokens}\")\n",
    "\n",
    "    print(f\"Difference b-tokens route1 minus route2: {route1_b_tokens - route2_b_tokens}\")\n",
    "\n",
    "\n",
    "    # cycle\n",
    "\n",
    "    if route2_b_tokens - route1_b_tokens > 0:\n",
    "        cycle = 'c->b->a->c'\n",
    "    else:\n",
    "        cycle = 'c->a->b->c'\n",
    "\n",
    "    print(f\"cycle: {cycle}\")\n",
    "\n",
    "    q = reset_reserves(q)\n",
    "\n",
    "    if cycle == 'c->b->a->c':\n",
    "        # swap c->b\n",
    "        reason = 'cycle: c->b'\n",
    "        exch = 'bc'\n",
    "        swap_out = swap({ 'reserves': q[exch],\n",
    "                      'legs': [route1_b_tokens, 0.],\n",
    "                      'direction': 'backward',\n",
    "                      'fee': FEE_F})\n",
    "        ledger_df.loc[len(ledger_df)] = [exch] + swap_out['legs'] + swap_out['reserves'] + [reason]\n",
    "        cycle_c1_tokens = swap_out['legs'][swap_out['result_idx']]\n",
    "        print(f\"cycle_c1_tokens: {cycle_c1_tokens}\")\n",
    "\n",
    "        # swap b->a\n",
    "        reason = 'cycle: b->a'\n",
    "        exch = 'ab'\n",
    "        swap_out = swap({ 'reserves': q[exch],\n",
    "                          'legs': [0., route1_b_tokens],\n",
    "                          'direction': 'backward',\n",
    "                          'fee': FEE_F})\n",
    "        ledger_df.loc[len(ledger_df)] = [exch] + swap_out['legs'] + swap_out['reserves'] + [reason]\n",
    "        cycle_a_tokens = swap_out['legs'][swap_out['result_idx']]\n",
    "        print(f\"cycle_a_tokens: {cycle_a_tokens}\")\n",
    "\n",
    "        # swap a->c\n",
    "        reason = 'cycle: a->c'\n",
    "        exch = 'ac'\n",
    "        swap_out = swap({ 'reserves': q[exch],\n",
    "                          'legs': [cycle_a_tokens, 0.],\n",
    "                          'direction': 'forward',\n",
    "                          'fee': FEE_F})\n",
    "        ledger_df.loc[len(ledger_df)] = [exch] + swap_out['legs'] + swap_out['reserves'] + [reason]\n",
    "        cycle_c2_tokens = swap_out['legs'][swap_out['result_idx']]\n",
    "        print(f\"cycle_c2_tokens: {cycle_c2_tokens}\")\n",
    "\n",
    "        print(f\"Difference c2 minus c1: {cycle_c2_tokens - cycle_c1_tokens}\")\n",
    "\n",
    "        if cycle_c2_tokens - cycle_c1_tokens > 0:\n",
    "            print(\"SUCCESS: cycle arbitrage from mispricing b-tokens\")"
   ],
   "id": "842a828b90e62fde",
   "outputs": [],
   "execution_count": 49
  },
  {
   "metadata": {
    "ExecuteTime": {
     "end_time": "2025-01-29T01:17:05.512199Z",
     "start_time": "2025-01-29T01:17:05.500941Z"
    }
   },
   "cell_type": "code",
   "source": [
    "# Experiment 1\n",
    "#   Test if cheaper route can generate arbitrage cycle\n",
    "#   Result: yes, but effect is minor\n",
    "#   Difference c2 minus c1: 0.06103022180536222\n",
    "\n",
    "def reset_reserves(q_:dict):\n",
    "    q_['ab'] = [100., 100.]\n",
    "    q_['ac'] = [200., 200.]\n",
    "    q_['bc'] = [250., 250.]\n",
    "    return q_\n",
    "\n",
    "q = reset_reserves(q)\n",
    "\n",
    "run_cycle_test(q)"
   ],
   "id": "80bf0cf2b13cec39",
   "outputs": [
    {
     "name": "stdout",
     "output_type": "stream",
     "text": [
      "route1_b_tokens: 9.066108938801491\n",
      "route2_c_tokens: 9.496594751631186\n",
      "route2_b_tokens: 9.122609663880215\n",
      "Difference b-tokens route1 minus route2: -0.056500725078723946\n",
      "cycle: c->b->a->c\n",
      "cycle_c1_tokens: 9.435564529825822\n",
      "cycle_a_tokens: 9.999999999999998\n",
      "cycle_c2_tokens: 9.496594751631184\n",
      "Difference c2 minus c1: 0.06103022180536222\n",
      "SUCCESS: cycle arbitrage from mispricing b-tokens\n"
     ]
    }
   ],
   "execution_count": 50
  },
  {
   "metadata": {
    "ExecuteTime": {
     "end_time": "2025-01-29T01:17:56.536209Z",
     "start_time": "2025-01-29T01:17:56.520842Z"
    }
   },
   "cell_type": "code",
   "source": [
    "# Experiment 2\n",
    "#   Test if more liquidity in the c-token reserves makes a difference\n",
    "#   It does:\n",
    "#   Difference c2 minus c1: 0.7940602859152346\n",
    "\n",
    "def reset_reserves(q_:dict):\n",
    "    q_['ab'] = [100., 100.]\n",
    "    q_['ac'] = [2000., 2000.]\n",
    "    q_['bc'] = [2500., 2500.]\n",
    "    return q_\n",
    "\n",
    "q = reset_reserves(q)\n",
    "\n",
    "for exch in ['ab', 'ac', 'bc']:\n",
    "    state = [exch, 0., 0., q[exch][0], q[exch][1], 'exp2']\n",
    "    ledger_df.loc[len(ledger_df)] = state\n",
    "\n",
    "run_cycle_test(q)"
   ],
   "id": "bdce72cafde74ce9",
   "outputs": [
    {
     "name": "stdout",
     "output_type": "stream",
     "text": [
      "route1_b_tokens: 9.066108938801491\n",
      "route2_c_tokens: 9.920546077802156\n",
      "route2_b_tokens: 9.85180759745414\n",
      "Difference b-tokens route1 minus route2: -0.7856986586526489\n",
      "cycle: c->b->a->c\n",
      "cycle_c1_tokens: 9.12648579188692\n",
      "cycle_a_tokens: 9.999999999999998\n",
      "cycle_c2_tokens: 9.920546077802154\n",
      "Difference c2 minus c1: 0.7940602859152346\n",
      "SUCCESS: cycle arbitrage from mispricing b-tokens\n"
     ]
    }
   ],
   "execution_count": 51
  },
  {
   "metadata": {
    "ExecuteTime": {
     "end_time": "2025-01-29T01:18:26.779052Z",
     "start_time": "2025-01-29T01:18:26.765093Z"
    }
   },
   "cell_type": "code",
   "source": [
    "# Experiment 3\n",
    "#   same as in Experiment 2 but hugely scaled\n",
    "#   A bit more but not much:\n",
    "#   Difference c2 minus c1: 0.8757841355703171\n",
    "def reset_reserves(q_:dict):\n",
    "    q_['ab'] = [100., 100.]\n",
    "    q_['ac'] = [200000., 200000.]\n",
    "    q_['bc'] = [250000., 250000.]\n",
    "    return q_\n",
    "\n",
    "q = reset_reserves(q)\n",
    "\n",
    "for exch in ['ab', 'ac', 'bc']:\n",
    "    state = [exch, 0., 0., q[exch][0], q[exch][1], 'exp3']\n",
    "    ledger_df.loc[len(ledger_df)] = state\n",
    "\n",
    "run_cycle_test(q)"
   ],
   "id": "dc53e392eb43d8fc",
   "outputs": [
    {
     "name": "stdout",
     "output_type": "stream",
     "text": [
      "route1_b_tokens: 9.066108938801491\n",
      "route2_c_tokens: 9.969503020274441\n",
      "route2_b_tokens: 9.939199344768605\n",
      "Difference b-tokens route1 minus route2: -0.8730904059671136\n",
      "cycle: c->b->a->c\n",
      "cycle_c1_tokens: 9.093718884704122\n",
      "cycle_a_tokens: 9.999999999999998\n",
      "cycle_c2_tokens: 9.96950302027444\n",
      "Difference c2 minus c1: 0.8757841355703171\n",
      "SUCCESS: cycle arbitrage from mispricing b-tokens\n"
     ]
    }
   ],
   "execution_count": 52
  },
  {
   "metadata": {
    "ExecuteTime": {
     "end_time": "2025-01-29T00:47:38.697207Z",
     "start_time": "2025-01-29T00:47:38.688168Z"
    }
   },
   "cell_type": "code",
   "source": "print(ledger_df)",
   "id": "9c743fe30f6020ec",
   "outputs": [
    {
     "name": "stdout",
     "output_type": "stream",
     "text": [
      "   exch       tok0      tok1           res0           res1        reason\n",
      "0    ab   0.000000  0.000000     100.000000     100.000000          exp1\n",
      "1    ac   0.000000  0.000000     200.000000     200.000000          exp1\n",
      "2    bc   0.000000  0.000000     250.000000     250.000000          exp1\n",
      "3    ab  10.000000  9.066109     109.970000      90.933891  route1: a->b\n",
      "4    ac  10.000000  9.496595     209.970000     190.503405  route2: a->c\n",
      "5    bc   9.122610  9.496595     240.877390     259.468105  route2: c->b\n",
      "6    ab  10.000000  9.066109     109.970000      90.933891  route1: a->b\n",
      "7    ac  10.000000  9.496595     209.970000     190.503405  route2: a->c\n",
      "8    bc   9.122610  9.496595     240.877390     259.468105  route2: c->b\n",
      "9    bc   9.066109  9.435565     259.435565     240.933891   cycle: c->b\n",
      "10   ab  10.000000  9.066109      90.933891     110.000000   cycle: b->a\n",
      "11   ac  10.000000  9.496595     209.970000     190.503405   cycle: a->c\n",
      "12   ab  10.000000  9.066109     109.970000      90.933891  route1: a->b\n",
      "13   ac  10.000000  9.496595     209.970000     190.503405  route2: a->c\n",
      "14   bc   9.122610  9.496595     240.877390     259.468105  route2: c->b\n",
      "15   bc   9.066109  9.435565     259.435565     240.933891   cycle: c->b\n",
      "16   ab  10.000000  9.066109      90.933891     110.000000   cycle: b->a\n",
      "17   ac  10.000000  9.496595     209.970000     190.503405   cycle: a->c\n",
      "18   ab   0.000000  0.000000     100.000000     100.000000          exp2\n",
      "19   ac   0.000000  0.000000    2000.000000    2000.000000          exp2\n",
      "20   bc   0.000000  0.000000    2500.000000    2500.000000          exp2\n",
      "21   ab  10.000000  9.066109     109.970000      90.933891  route1: a->b\n",
      "22   ac  10.000000  9.920546    2009.970000    1990.079454  route2: a->c\n",
      "23   bc   9.851808  9.920546    2490.148192    2509.890784  route2: c->b\n",
      "24   bc   9.066109  9.126486    2509.126486    2490.933891   cycle: c->b\n",
      "25   ab  10.000000  9.066109      90.933891     110.000000   cycle: b->a\n",
      "26   ac  10.000000  9.920546    2009.970000    1990.079454   cycle: a->c\n",
      "27   ab   0.000000  0.000000     100.000000     100.000000          exp3\n",
      "28   ac   0.000000  0.000000   20000.000000   20000.000000          exp3\n",
      "29   bc   0.000000  0.000000   25000.000000   25000.000000          exp3\n",
      "30   ab  10.000000  9.066109     109.970000      90.933891  route1: a->b\n",
      "31   ac  10.000000  9.965032   20009.970000   19990.034968  route2: a->c\n",
      "32   bc   9.931191  9.965032   24990.068809   25009.935137  route2: c->b\n",
      "33   bc   9.066109  9.096688   25009.096688   24990.933891   cycle: c->b\n",
      "34   ab  10.000000  9.066109      90.933891     110.000000   cycle: b->a\n",
      "35   ac  10.000000  9.965032   20009.970000   19990.034968   cycle: a->c\n",
      "36   ab   0.000000  0.000000     100.000000     100.000000          exp3\n",
      "37   ac   0.000000  0.000000  200000.000000  200000.000000          exp3\n",
      "38   bc   0.000000  0.000000  250000.000000  250000.000000          exp3\n",
      "39   ab  10.000000  9.066109     109.970000      90.933891  route1: a->b\n",
      "40   ac  10.000000  9.969503  200009.970000  199990.030497  route2: a->c\n",
      "41   bc   9.939199  9.969503  249990.060801  250009.939595  route2: c->b\n",
      "42   bc   9.066109  9.093719  250009.093719  249990.933891   cycle: c->b\n",
      "43   ab  10.000000  9.066109      90.933891     110.000000   cycle: b->a\n",
      "44   ac  10.000000  9.969503  200009.970000  199990.030497   cycle: a->c\n"
     ]
    }
   ],
   "execution_count": 36
  },
  {
   "metadata": {
    "ExecuteTime": {
     "end_time": "2025-01-29T01:26:11.309822Z",
     "start_time": "2025-01-29T01:26:11.301554Z"
    }
   },
   "cell_type": "code",
   "source": [
    "def run_post_trade_arb_test(q):\n",
    "\n",
    "    # a->b route1\n",
    "    q = reset_reserves(q)\n",
    "\n",
    "    reason = 'route1: b->a'\n",
    "    exch = 'ab'\n",
    "\n",
    "    route1_b_tokens = 10.\n",
    "    swap_out = swap({ 'reserves': q[exch],\n",
    "                      'legs': [0, route1_b_tokens],\n",
    "                      'direction': 'forward',\n",
    "                      'fee': FEE_F})\n",
    "    ledger_df.loc[len(ledger_df)] = [exch] + swap_out['legs'] + swap_out['reserves'] + [reason]\n",
    "\n",
    "    route1_a_tokens = swap_out['legs'][swap_out['result_idx']]\n",
    "    print(f\"route1_a_tokens: {route1_a_tokens}\")\n",
    "    print(f\"route1_b_tokens: {route1_b_tokens}\")\n",
    "\n",
    "    # run cycle to immunize a->b loss by c-token profit\n",
    "\n",
    "    # swap c->b\n",
    "    reason = 'cycle: c->b'\n",
    "    exch = 'bc'\n",
    "    swap_out = swap({ 'reserves': q[exch],\n",
    "                  'legs': [route1_b_tokens, 0.],\n",
    "                  'direction': 'backward',\n",
    "                  'fee': FEE_F})\n",
    "    ledger_df.loc[len(ledger_df)] = [exch] + swap_out['legs'] + swap_out['reserves'] + [reason]\n",
    "    cycle_c1_tokens = swap_out['legs'][swap_out['result_idx']]\n",
    "    print(f\"cycle_c1_tokens: {cycle_c1_tokens}\")\n",
    "\n",
    "    # swap b->a\n",
    "    reason = 'cycle: b->a'\n",
    "    exch = 'ab'\n",
    "    swap_out = swap({ 'reserves': q[exch],\n",
    "                      'legs': [0., route1_b_tokens],\n",
    "                      'direction': 'backward',\n",
    "                      'fee': FEE_F})\n",
    "    ledger_df.loc[len(ledger_df)] = [exch] + swap_out['legs'] + swap_out['reserves'] + [reason]\n",
    "    cycle_a_tokens = swap_out['legs'][swap_out['result_idx']]\n",
    "    print(f\"cycle_a_tokens: {cycle_a_tokens}\")\n",
    "\n",
    "    # swap a->c\n",
    "    reason = 'cycle: a->c'\n",
    "    exch = 'ac'\n",
    "    swap_out = swap({ 'reserves': q[exch],\n",
    "                      'legs': [cycle_a_tokens, 0.],\n",
    "                      'direction': 'forward',\n",
    "                      'fee': FEE_F})\n",
    "    ledger_df.loc[len(ledger_df)] = [exch] + swap_out['legs'] + swap_out['reserves'] + [reason]\n",
    "    cycle_c2_tokens = swap_out['legs'][swap_out['result_idx']]\n",
    "    print(f\"cycle_c2_tokens: {cycle_c2_tokens}\")\n",
    "\n",
    "    print(f\"Difference c2 minus c1: {cycle_c2_tokens - cycle_c1_tokens}\")\n",
    "\n",
    "    if cycle_c2_tokens - cycle_c1_tokens > 0:\n",
    "        print(\"SUCCESS: post-trade c->b->a->c arbitrage following b->a\")"
   ],
   "id": "2fb1f514b182b995",
   "outputs": [],
   "execution_count": 53
  },
  {
   "metadata": {
    "ExecuteTime": {
     "end_time": "2025-01-29T01:26:31.528143Z",
     "start_time": "2025-01-29T01:26:31.515159Z"
    }
   },
   "cell_type": "code",
   "source": [
    "# Experiment 4\n",
    "#   Test if running a cycle arbitrage after a trade makes a profit\n",
    "#   It does\n",
    "#   Difference c2 minus c1: 3.42557216517843\n",
    "\n",
    "def reset_reserves(q_:dict):\n",
    "    q_['ab'] = [100., 100.]\n",
    "    q_['ac'] = [2000., 2000.]\n",
    "    q_['bc'] = [2500., 2500.]\n",
    "    return q_\n",
    "\n",
    "q = reset_reserves(q)\n",
    "\n",
    "for exch in ['ab', 'ac', 'bc']:\n",
    "    state = [exch, 0., 0., q[exch][0], q[exch][1], 'exp3']\n",
    "    ledger_df.loc[len(ledger_df)] = state\n",
    "\n",
    "run_post_trade_arb_test(q)"
   ],
   "id": "6d5f8b6b34d1aebe",
   "outputs": [
    {
     "name": "stdout",
     "output_type": "stream",
     "text": [
      "route1_a_tokens: 9.066108938801491\n",
      "route1_b_tokens: 10.0\n",
      "cycle_c1_tokens: 10.070371757843812\n",
      "cycle_a_tokens: 13.628518444111364\n",
      "cycle_c2_tokens: 13.495943923022242\n",
      "Difference c2 minus c1: 3.42557216517843\n",
      "SUCCESS: cycle arbitrage from mispricing b-tokens\n"
     ]
    }
   ],
   "execution_count": 54
  },
  {
   "metadata": {},
   "cell_type": "code",
   "outputs": [],
   "execution_count": null,
   "source": "",
   "id": "4f8a5a76514a1037"
  }
 ],
 "metadata": {
  "kernelspec": {
   "display_name": "Python 3",
   "language": "python",
   "name": "python3"
  },
  "language_info": {
   "codemirror_mode": {
    "name": "ipython",
    "version": 2
   },
   "file_extension": ".py",
   "mimetype": "text/x-python",
   "name": "python",
   "nbconvert_exporter": "python",
   "pygments_lexer": "ipython2",
   "version": "2.7.6"
  }
 },
 "nbformat": 4,
 "nbformat_minor": 5
}
