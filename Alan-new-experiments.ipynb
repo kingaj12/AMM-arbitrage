{
 "cells": [
  {
   "cell_type": "code",
   "id": "initial_id",
   "metadata": {
    "collapsed": true,
    "ExecuteTime": {
     "end_time": "2025-01-29T02:24:18.452256Z",
     "start_time": "2025-01-29T02:24:17.824481Z"
    }
   },
   "source": [
    "import numpy as np\n",
    "import pandas as pd\n",
    "\n"
   ],
   "outputs": [],
   "execution_count": 1
  },
  {
   "metadata": {
    "ExecuteTime": {
     "end_time": "2025-01-29T02:24:18.463457Z",
     "start_time": "2025-01-29T02:24:18.458269Z"
    }
   },
   "cell_type": "code",
   "source": [
    "# initialize fees\n",
    "FEE_F = 0.003\n",
    "\n",
    "# initialize basic arrays and dictionaries\n",
    "q = {'ab': [0., 0.], 'ac': [0., 0.], 'bc': [0.,0.]}\n",
    "swap_amt = [0.]*2\n",
    "\n",
    "# Test swap method, or not\n",
    "TEST_SWAP_CODE = True"
   ],
   "id": "b3801edf6b8ebf6c",
   "outputs": [],
   "execution_count": 2
  },
  {
   "metadata": {
    "ExecuteTime": {
     "end_time": "2025-01-29T02:24:21.652994Z",
     "start_time": "2025-01-29T02:24:21.637714Z"
    }
   },
   "cell_type": "code",
   "source": [
    "# Initialize dataframe\n",
    "\n",
    "def reset_reserves(q_:dict):\n",
    "    q_['ab'] = [100., 100.]\n",
    "    q_['ac'] = [200., 200.]\n",
    "    q_['bc'] = [250., 250.]\n",
    "    return q_\n",
    "\n",
    "q = reset_reserves(q)\n",
    "\n",
    "init_state = {\n",
    "    'exch': ['0'],\n",
    "    'tok0': [0.],\n",
    "    'tok1': [0.],\n",
    "    'res0in': [0.],\n",
    "    'res1in': [0.],\n",
    "    'res0out': [0.],\n",
    "    'res1out': [0.]\n",
    "}\n",
    "\n",
    "ledger_df = pd.DataFrame(init_state)\n",
    "\n",
    "print(ledger_df)\n"
   ],
   "id": "5f24dd2f665fc62d",
   "outputs": [
    {
     "name": "stdout",
     "output_type": "stream",
     "text": [
      "  exch  tok0  tok1  res0in  res1in  res0out  res1out\n",
      "0    0   0.0   0.0     0.0     0.0      0.0      0.0\n"
     ]
    }
   ],
   "execution_count": 3
  },
  {
   "metadata": {
    "ExecuteTime": {
     "end_time": "2025-01-29T02:24:25.488860Z",
     "start_time": "2025-01-29T02:24:25.479730Z"
    }
   },
   "cell_type": "code",
   "source": [
    "# Swap code\n",
    "#     Follows the Uniswap code\n",
    "\n",
    "def psi(x):\n",
    "    assert x >= 0\n",
    "    return 1/(1+x)\n",
    "\n",
    "def phi(x):\n",
    "    assert x >= 0\n",
    "    assert x < 1\n",
    "    return 1/(1-x)\n",
    "\n",
    "def swap(data_):\n",
    "    # data_ = { 'reserves': q['ab'], 'legs': [10., 0.], 'direction': 'forward', 'fee': FEE_F}\n",
    "    f_ = data_['fee']\n",
    "    d_ = data_['legs']\n",
    "    r_ = data_['reserves']\n",
    "    direction:str = data_['direction']\n",
    "\n",
    "    assert r_[0] > 0\n",
    "    assert r_[1] > 0\n",
    "\n",
    "    # The in_leg has the non-zero entry\n",
    "    if d_[0] > 0:\n",
    "        assert d_[1] == 0\n",
    "        in_leg = 0\n",
    "        out_leg = 1\n",
    "    else:\n",
    "        assert d_[0] == 0\n",
    "        in_leg = 1\n",
    "        out_leg = 0\n",
    "\n",
    "    q_in = r_[in_leg]\n",
    "    q_out = r_[out_leg]\n",
    "\n",
    "    if direction == 'backward':\n",
    "        # backward swap:\n",
    "        #     find the input that produces the output\n",
    "        #     the output is known, so this is the \"in_leg\" which has a non-zero entry\n",
    "        d_out = d_[in_leg]\n",
    "        d_in = float((1 / (1 - f_)) * (q_in / q_out) * phi(d_out / q_out) * d_out)\n",
    "        result = d_in\n",
    "    elif direction == 'forward':\n",
    "        # forward swap:\n",
    "        #     find the output produced by the input\n",
    "        #     the input is known, so this is the \"in_leg\" which has a non-zero entry\n",
    "        d_in = d_[in_leg]\n",
    "        d_in_haircut = (1 - f_) * d_in\n",
    "        d_out = float((q_out / q_in) * psi(d_in_haircut / q_in) * d_in_haircut)\n",
    "        d_[out_leg] = d_out\n",
    "        result = d_out\n",
    "    else:\n",
    "        print('unknown direction')\n",
    "        return\n",
    "\n",
    "    r_[out_leg] -= d_out\n",
    "    r_[in_leg]  += d_in\n",
    "    return {'reserves_in': [q_in, q_out], 'reserves_out': r_, 'legs': [d_in, d_out], 'result': result }\n",
    "\n",
    "\n",
    "# Tests\n",
    "if TEST_SWAP_CODE:\n",
    "    q = reset_reserves(q)\n",
    "\n",
    "    # swap a->b\n",
    "    reason = 'route1: a->b'\n",
    "    exch = 'ab'\n",
    "    swap_out = swap({ 'reserves': q[exch],\n",
    "                  'legs': [10., 0.],\n",
    "                  'direction': 'forward',\n",
    "                  'fee': FEE_F})\n",
    "    print(reason)\n",
    "    print(swap_out)\n",
    "    route1_b_tokens = swap_out['result']\n",
    "\n",
    "    # swap c->b\n",
    "    reason = 'cycle: c->b '\n",
    "    exch = 'bc'\n",
    "    swap_out = swap({ 'reserves': q[exch],\n",
    "                  'legs': [route1_b_tokens, 0.],\n",
    "                  'direction': 'backward',\n",
    "                  'fee': FEE_F})\n",
    "    cycle_c1_tokens = swap_out['result']\n",
    "    print(reason)\n",
    "    print(swap_out)\n",
    "    print(f\"cycle_c1_tokens: {cycle_c1_tokens}\")\n"
   ],
   "id": "d20a302750a668fb",
   "outputs": [
    {
     "name": "stdout",
     "output_type": "stream",
     "text": [
      "route1: a->b\n",
      "{'reserves_in': [100.0, 100.0], 'reserves_out': [110.0, 90.93389106119851], 'legs': [10.0, 9.066108938801491], 'result': 9.066108938801491}\n",
      "cycle: c->b \n",
      "{'reserves_in': [250.0, 250.0], 'reserves_out': [259.4355645298258, 240.9338910611985], 'legs': [9.435564529825822, 9.066108938801491], 'result': 9.435564529825822}\n",
      "cycle_c1_tokens: 9.435564529825822\n"
     ]
    }
   ],
   "execution_count": 4
  },
  {
   "metadata": {
    "ExecuteTime": {
     "end_time": "2025-01-29T02:24:27.459279Z",
     "start_time": "2025-01-29T02:24:27.451234Z"
    }
   },
   "cell_type": "code",
   "source": [
    "def run_compare_test(q):\n",
    "    # Run two routes: a->b and a->c->b\n",
    "    # Notice that a->c->b returns *more* b-tokens\n",
    "\n",
    "    # a->b route1\n",
    "    q = reset_reserves(q)\n",
    "\n",
    "    exch = 'ab'\n",
    "    swap_out = swap({ 'reserves': q[exch],\n",
    "                      'legs': [10., 0.],\n",
    "                      'direction': 'forward',\n",
    "                      'fee': FEE_F})\n",
    "    ledger_df.loc[len(ledger_df)] = [exch] + swap_out['legs'] + swap_out['reserves_in'] + swap_out['reserves_out']\n",
    "    route1_b_tokens = swap_out['result']\n",
    "\n",
    "    print(f\"route1_b_tokens: {route1_b_tokens}\")\n",
    "\n",
    "    # a->c->b route2\n",
    "    q = reset_reserves(q)\n",
    "\n",
    "    # swap a->c\n",
    "    exch = 'ac'\n",
    "    swap_out = swap({ 'reserves': q[exch],\n",
    "                      'legs': [10., 0.],\n",
    "                      'direction': 'forward',\n",
    "                      'fee': FEE_F})\n",
    "    ledger_df.loc[len(ledger_df)] = [exch] + swap_out['legs'] + swap_out['reserves_in'] + swap_out['reserves_out']\n",
    "    route2_c_tokens = swap_out['result']\n",
    "    print(f\"route2_c_tokens: {route2_c_tokens}\")\n",
    "\n",
    "    # swap c->b\n",
    "    exch = 'bc'\n",
    "    swap_out = swap({ 'reserves': q[exch],\n",
    "                      'legs': [0., route2_c_tokens], # note: incoming leg is c-tokens, which is index 1\n",
    "                      'direction': 'forward',\n",
    "                      'fee': FEE_F})\n",
    "    ledger_df.loc[len(ledger_df)] = [exch] + swap_out['legs'] + swap_out['reserves_in'] + swap_out['reserves_out']\n",
    "    route2_b_tokens = swap_out['result']\n",
    "    print(f\"route2_b_tokens: {route2_b_tokens}\")\n",
    "\n",
    "    print(f\"Difference b-tokens route1 minus route2: {route1_b_tokens - route2_b_tokens}\")\n",
    "\n",
    "    # Return the b-tokens from the more expensive route\n",
    "    return route1_b_tokens"
   ],
   "id": "8e743cf01b1e8b87",
   "outputs": [],
   "execution_count": 5
  },
  {
   "metadata": {
    "ExecuteTime": {
     "end_time": "2025-01-29T02:38:31.316600Z",
     "start_time": "2025-01-29T02:38:31.309711Z"
    }
   },
   "cell_type": "code",
   "source": [
    "\n",
    "def run_cycle_test(q, cycle_b_tokens):\n",
    "    # Run cycle: c1->b->a->c2\n",
    "    # Notice that c2 > c1\n",
    "\n",
    "    q = reset_reserves(q)\n",
    "\n",
    "\n",
    "    # swap c->b\n",
    "    exch = 'bc'\n",
    "    swap_out = swap({ 'reserves': q[exch],\n",
    "                  'legs': [cycle_b_tokens, 0.],\n",
    "                  'direction': 'backward',\n",
    "                  'fee': FEE_F})\n",
    "    ledger_df.loc[len(ledger_df)] = [exch] + swap_out['legs'] + swap_out['reserves_in'] + swap_out['reserves_out']\n",
    "    cycle_c1_tokens = swap_out['result']\n",
    "    print(f\"cycle_c1_tokens: {cycle_c1_tokens}\")\n",
    "    print(f\"cycle_b_tokens: {route1_b_tokens}\")\n",
    "\n",
    "    # swap b->a\n",
    "    reason = 'cycle: b->a'\n",
    "    exch = 'ab'\n",
    "    swap_out = swap({ 'reserves': q[exch],\n",
    "                      'legs': [0., route1_b_tokens],\n",
    "                      'direction': 'backward',\n",
    "                      'fee': FEE_F})\n",
    "    ledger_df.loc[len(ledger_df)] = [exch] + swap_out['legs'] + swap_out['reserves_in'] + swap_out['reserves_out']\n",
    "    cycle_a_tokens = swap_out['result']\n",
    "    print(f\"cycle_a_tokens: {cycle_a_tokens}\")\n",
    "\n",
    "    # swap a->c\n",
    "    reason = 'cycle: a->c'\n",
    "    exch = 'ac'\n",
    "    swap_out = swap({ 'reserves': q[exch],\n",
    "                      'legs': [cycle_a_tokens, 0.],\n",
    "                      'direction': 'forward',\n",
    "                      'fee': FEE_F})\n",
    "    ledger_df.loc[len(ledger_df)] = [exch] + swap_out['legs'] + swap_out['reserves_in'] + swap_out['reserves_out']\n",
    "    cycle_c2_tokens = swap_out['result']\n",
    "    print(f\"cycle_c2_tokens: {cycle_c2_tokens}\")\n",
    "\n",
    "    print(f\"Difference c2 minus c1: {cycle_c2_tokens - cycle_c1_tokens}\")\n"
   ],
   "id": "842a828b90e62fde",
   "outputs": [],
   "execution_count": 19
  },
  {
   "metadata": {
    "ExecuteTime": {
     "end_time": "2025-01-29T02:29:37.877872Z",
     "start_time": "2025-01-29T02:29:37.868185Z"
    }
   },
   "cell_type": "code",
   "source": [
    "def run_post_trade_arb_test(q):\n",
    "\n",
    "    # a->b route1\n",
    "    q = reset_reserves(q)\n",
    "\n",
    "    reason = 'route1: b->a'\n",
    "    exch = 'ab'\n",
    "\n",
    "    route1_b_tokens = 10.\n",
    "    swap_out = swap({ 'reserves': q[exch],\n",
    "                      'legs': [0, route1_b_tokens],\n",
    "                      'direction': 'forward',\n",
    "                      'fee': FEE_F})\n",
    "    ledger_df.loc[len(ledger_df)] = [exch] + swap_out['legs'] + swap_out['reserves_in'] + swap_out['reserves_out']\n",
    "    route1_a_tokens = swap_out['result']\n",
    "\n",
    "    print(f\"route1_a_tokens: {route1_a_tokens}\")\n",
    "    print(f\"route1_b_tokens: {route1_b_tokens}\")\n",
    "\n",
    "    # run cycle to immunize a->b loss by c-token profit\n",
    "\n",
    "    # swap c->b\n",
    "    reason = 'cycle: c->b'\n",
    "    exch = 'bc'\n",
    "    swap_out = swap({ 'reserves': q[exch],\n",
    "                  'legs': [route1_b_tokens, 0.],\n",
    "                  'direction': 'backward',\n",
    "                  'fee': FEE_F})\n",
    "    ledger_df.loc[len(ledger_df)] = [exch] + swap_out['legs'] + swap_out['reserves_in'] + swap_out['reserves_out']\n",
    "    cycle_c1_tokens = swap_out['result']\n",
    "\n",
    "    print(f\"cycle_c1_tokens: {cycle_c1_tokens}\")\n",
    "    print(f\"cycle_b_tokens: {route1_b_tokens}\")\n",
    "\n",
    "    # swap b->a\n",
    "    reason = 'cycle: b->a'\n",
    "    exch = 'ab'\n",
    "    swap_out = swap({ 'reserves': q[exch],\n",
    "                      'legs': [0., route1_b_tokens],\n",
    "                      'direction': 'backward',\n",
    "                      'fee': FEE_F})\n",
    "    ledger_df.loc[len(ledger_df)] = [exch] + swap_out['legs'] + swap_out['reserves_in'] + swap_out['reserves_out']\n",
    "    cycle_a_tokens = swap_out['result']\n",
    "\n",
    "    print(f\"cycle_a_tokens: {cycle_a_tokens}\")\n",
    "\n",
    "    # swap a->c\n",
    "    reason = 'cycle: a->c'\n",
    "    exch = 'ac'\n",
    "    swap_out = swap({ 'reserves': q[exch],\n",
    "                      'legs': [cycle_a_tokens, 0.],\n",
    "                      'direction': 'forward',\n",
    "                      'fee': FEE_F})\n",
    "    ledger_df.loc[len(ledger_df)] = [exch] + swap_out['legs'] + swap_out['reserves_in'] + swap_out['reserves_out']\n",
    "    cycle_c2_tokens = swap_out['result']\n",
    "    print(f\"cycle_c2_tokens: {cycle_c2_tokens}\")\n",
    "\n",
    "    print(f\"Difference c2 minus c1: {cycle_c2_tokens - cycle_c1_tokens}\")\n"
   ],
   "id": "2fb1f514b182b995",
   "outputs": [],
   "execution_count": 7
  },
  {
   "metadata": {
    "ExecuteTime": {
     "end_time": "2025-01-29T02:32:48.812451Z",
     "start_time": "2025-01-29T02:32:48.801110Z"
    }
   },
   "cell_type": "code",
   "source": [
    "# Experiment 1\n",
    "#   Compare routes\n",
    "#   The route using more liquidity has better prices\n",
    "\n",
    "experiment = 'exp1'\n",
    "def reset_reserves(q_:dict):\n",
    "    q_['ab'] = [100., 100.]\n",
    "    q_['ac'] = [200., 200.]\n",
    "    q_['bc'] = [250., 250.]\n",
    "    return q_\n",
    "\n",
    "q = reset_reserves(q)\n",
    "\n",
    "nrow = len(ledger_df)\n",
    "route1_b_tokens = run_compare_test(q)\n",
    "print(ledger_df[nrow:])"
   ],
   "id": "a9a0c2d7e1f22882",
   "outputs": [
    {
     "name": "stdout",
     "output_type": "stream",
     "text": [
      "route1_b_tokens: 9.066108938801491\n",
      "route2_c_tokens: 9.496594751631186\n",
      "route2_b_tokens: 9.122609663880215\n",
      "Difference b-tokens route1 minus route2: -0.056500725078723946\n",
      "   exch       tok0      tok1  res0in  res1in    res0out     res1out\n",
      "14   ab  10.000000  9.066109   100.0   100.0  110.00000   90.933891\n",
      "15   ac  10.000000  9.496595   200.0   200.0  210.00000  190.503405\n",
      "16   bc   9.496595  9.122610   250.0   250.0  240.87739  259.496595\n"
     ]
    }
   ],
   "execution_count": 13
  },
  {
   "metadata": {
    "ExecuteTime": {
     "end_time": "2025-01-29T02:33:25.173125Z",
     "start_time": "2025-01-29T02:33:25.162364Z"
    }
   },
   "cell_type": "code",
   "source": [
    "# Experiment 2\n",
    "#   Test if a cycle leveraging cheaper route can generate arbitrage cycle\n",
    "#   Result: yes, but effect is minor\n",
    "#   Difference c2 minus c1: 0.06103022180536222\n",
    "\n",
    "def reset_reserves(q_:dict):\n",
    "    q_['ab'] = [100., 100.]\n",
    "    q_['ac'] = [200., 200.]\n",
    "    q_['bc'] = [250., 250.]\n",
    "    return q_\n",
    "\n",
    "q = reset_reserves(q)\n",
    "\n",
    "nrow = len(ledger_df)\n",
    "run_cycle_test(q, route1_b_tokens)\n",
    "print(ledger_df[nrow:])"
   ],
   "id": "80bf0cf2b13cec39",
   "outputs": [
    {
     "name": "stdout",
     "output_type": "stream",
     "text": [
      "cycle_c1_tokens: 9.435564529825822\n",
      "cycle_b_tokens: 9.066108938801491\n",
      "cycle_a_tokens: 9.999999999999998\n",
      "cycle_c2_tokens: 9.496594751631184\n",
      "Difference c2 minus c1: 0.06103022180536222\n",
      "SUCCESS: cycle arbitrage from mispricing b-tokens\n",
      "   exch       tok0      tok1  res0in  res1in     res0out     res1out\n",
      "17   bc   9.435565  9.066109   250.0   250.0  259.435565  240.933891\n",
      "18   ab  10.000000  9.066109   100.0   100.0   90.933891  110.000000\n",
      "19   ac  10.000000  9.496595   200.0   200.0  210.000000  190.503405\n"
     ]
    }
   ],
   "execution_count": 14
  },
  {
   "metadata": {
    "ExecuteTime": {
     "end_time": "2025-01-29T02:34:06.858636Z",
     "start_time": "2025-01-29T02:34:06.846404Z"
    }
   },
   "cell_type": "code",
   "source": [
    "# Experiment 3\n",
    "#   Test cycle arbitrage after a trade on more expensive exchange\n",
    "#   It is!\n",
    "#   Difference c2 minus c1: 2.2752286620613518\n",
    "\n",
    "def reset_reserves(q_:dict):\n",
    "    q_['ab'] = [100., 100.]\n",
    "    q_['ac'] = [200., 200.]\n",
    "    q_['bc'] = [250., 250.]\n",
    "    return q_\n",
    "\n",
    "q = reset_reserves(q)\n",
    "nrow = len(ledger_df)\n",
    "run_post_trade_arb_test(q)\n",
    "print(ledger_df[nrow:])"
   ],
   "id": "4f8a5a76514a1037",
   "outputs": [
    {
     "name": "stdout",
     "output_type": "stream",
     "text": [
      "route1_a_tokens: 9.066108938801491\n",
      "route1_b_tokens: 10.0\n",
      "cycle_c1_tokens: 10.448010698762957\n",
      "cycle_b_tokens: 10.0\n",
      "cycle_a_tokens: 13.632236326745932\n",
      "cycle_c2_tokens: 12.726489418614255\n",
      "Difference c2 minus c1: 2.2784787198512984\n",
      "   exch       tok0       tok1  res0in      res1in     res0out     res1out\n",
      "20   ab  10.000000   9.066109   100.0  100.000000   90.933891  110.000000\n",
      "21   bc  10.448011  10.000000   250.0  250.000000  260.448011  240.000000\n",
      "22   ab  13.632236  10.000000   110.0   90.933891   80.933891  123.632236\n",
      "23   ac  13.632236  12.726489   200.0  200.000000  213.632236  187.273511\n"
     ]
    }
   ],
   "execution_count": 15
  },
  {
   "metadata": {
    "ExecuteTime": {
     "end_time": "2025-01-29T02:39:44.426078Z",
     "start_time": "2025-01-29T02:39:44.406738Z"
    }
   },
   "cell_type": "code",
   "source": [
    "# Experiment 3.5\n",
    "#   Test cycle arbitrage after a trade on more expensive exchange\n",
    "#   Scale c-tokens 10x\n",
    "#   A bit more, only 10% ish\n",
    "#   Difference c2 minus c1: 3.4292290304131523\n",
    "\n",
    "def reset_reserves(q_:dict):\n",
    "    q_['ab'] = [100., 100.]\n",
    "    q_['ac'] = [2000., 2000.]\n",
    "    q_['bc'] = [2500., 2500.]\n",
    "    return q_\n",
    "\n",
    "q = reset_reserves(q)\n",
    "nrow = len(ledger_df)\n",
    "run_post_trade_arb_test(q)\n",
    "print(ledger_df[nrow:])"
   ],
   "id": "a35affbe6cd40de5",
   "outputs": [
    {
     "name": "stdout",
     "output_type": "stream",
     "text": [
      "route1_a_tokens: 9.066108938801491\n",
      "route1_b_tokens: 10.0\n",
      "cycle_c1_tokens: 10.070371757843812\n",
      "cycle_b_tokens: 10.0\n",
      "cycle_a_tokens: 13.632236326745932\n",
      "cycle_c2_tokens: 13.499600788256965\n",
      "Difference c2 minus c1: 3.4292290304131523\n",
      "   exch       tok0       tok1  res0in       res1in      res0out      res1out\n",
      "36   ab  10.000000   9.066109   100.0   100.000000    90.933891   110.000000\n",
      "37   bc  10.070372  10.000000  2500.0  2500.000000  2510.070372  2490.000000\n",
      "38   ab  13.632236  10.000000   110.0    90.933891    80.933891   123.632236\n",
      "39   ac  13.632236  13.499601  2000.0  2000.000000  2013.632236  1986.500399\n"
     ]
    }
   ],
   "execution_count": 21
  },
  {
   "metadata": {
    "ExecuteTime": {
     "end_time": "2025-01-29T02:35:23.940539Z",
     "start_time": "2025-01-29T02:35:23.929954Z"
    }
   },
   "cell_type": "code",
   "source": [
    "# Experiment 4\n",
    "#   Same as Experiment 1\n",
    "#   Test if 10x scale makes any difference\n",
    "#   It does but not much more:\n",
    "#   Difference b-tokens route1 minus route2: -0.7856986586526489\n",
    "\n",
    "def reset_reserves(q_:dict):\n",
    "    q_['ab'] = [100., 100.]\n",
    "    q_['ac'] = [2000., 2000.]\n",
    "    q_['bc'] = [2500., 2500.]\n",
    "    return q_\n",
    "\n",
    "q = reset_reserves(q)\n",
    "\n",
    "nrow = len(ledger_df)\n",
    "route1_b_tokens = run_compare_test(q)\n",
    "print(ledger_df[nrow:])"
   ],
   "id": "ca21f9a46d0c2d1f",
   "outputs": [
    {
     "name": "stdout",
     "output_type": "stream",
     "text": [
      "route1_b_tokens: 9.066108938801491\n",
      "route2_c_tokens: 9.920546077802156\n",
      "route2_b_tokens: 9.85180759745414\n",
      "Difference b-tokens route1 minus route2: -0.7856986586526489\n",
      "   exch       tok0      tok1  res0in  res1in      res0out      res1out\n",
      "27   ab  10.000000  9.066109   100.0   100.0   110.000000    90.933891\n",
      "28   ac  10.000000  9.920546  2000.0  2000.0  2010.000000  1990.079454\n",
      "29   bc   9.920546  9.851808  2500.0  2500.0  2490.148192  2509.920546\n"
     ]
    }
   ],
   "execution_count": 17
  },
  {
   "metadata": {
    "ExecuteTime": {
     "end_time": "2025-01-29T02:38:42.523069Z",
     "start_time": "2025-01-29T02:38:42.511424Z"
    }
   },
   "cell_type": "code",
   "source": [
    "# Experiment 5\n",
    "#   Test if a cycle leveraging cheaper route can generate arbitrage cycle\n",
    "#   Scale by 10x on c-tokens\n",
    "#   Result: yes, effect is minor\n",
    "#   Difference c2 minus c1: 0.7940602859152346\n",
    "\n",
    "def reset_reserves(q_:dict):\n",
    "    q_['ab'] = [100., 100.]\n",
    "    q_['ac'] = [2000., 2000.]\n",
    "    q_['bc'] = [2500., 2500.]\n",
    "    return q_\n",
    "\n",
    "q = reset_reserves(q)\n",
    "\n",
    "nrow = len(ledger_df)\n",
    "run_cycle_test(q, route1_b_tokens)\n",
    "print(ledger_df[nrow:])"
   ],
   "id": "170adc00b8e20a70",
   "outputs": [
    {
     "name": "stdout",
     "output_type": "stream",
     "text": [
      "cycle_c1_tokens: 9.12648579188692\n",
      "cycle_b_tokens: 9.066108938801491\n",
      "cycle_a_tokens: 9.999999999999998\n",
      "cycle_c2_tokens: 9.920546077802154\n",
      "Difference c2 minus c1: 0.7940602859152346\n",
      "   exch       tok0      tok1  res0in  res1in      res0out      res1out\n",
      "33   bc   9.126486  9.066109  2500.0  2500.0  2509.126486  2490.933891\n",
      "34   ab  10.000000  9.066109   100.0   100.0    90.933891   110.000000\n",
      "35   ac  10.000000  9.920546  2000.0  2000.0  2010.000000  1990.079454\n"
     ]
    }
   ],
   "execution_count": 20
  },
  {
   "metadata": {},
   "cell_type": "code",
   "outputs": [],
   "execution_count": null,
   "source": "",
   "id": "4f95dd6123b2bb8f"
  }
 ],
 "metadata": {
  "kernelspec": {
   "display_name": "Python 3",
   "language": "python",
   "name": "python3"
  },
  "language_info": {
   "codemirror_mode": {
    "name": "ipython",
    "version": 2
   },
   "file_extension": ".py",
   "mimetype": "text/x-python",
   "name": "python",
   "nbconvert_exporter": "python",
   "pygments_lexer": "ipython2",
   "version": "2.7.6"
  }
 },
 "nbformat": 4,
 "nbformat_minor": 5
}
