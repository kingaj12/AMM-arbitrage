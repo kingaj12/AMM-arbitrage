{
 "cells": [
  {
   "cell_type": "code",
   "id": "initial_id",
   "metadata": {
    "collapsed": true,
    "ExecuteTime": {
     "end_time": "2025-01-28T02:15:08.563507Z",
     "start_time": "2025-01-28T02:15:08.364208Z"
    }
   },
   "source": [
    "import numpy as np\n",
    "\n"
   ],
   "outputs": [],
   "execution_count": 1
  },
  {
   "metadata": {
    "ExecuteTime": {
     "end_time": "2025-01-28T02:30:03.403551Z",
     "start_time": "2025-01-28T02:30:03.397751Z"
    }
   },
   "cell_type": "code",
   "source": [
    "F = 0.003\n",
    "G = 0.003\n",
    "\n",
    "Q_ab = {'a': 100, 'b': 100}\n",
    "Q_ac = {'a': 200, 'c': 200}\n",
    "Q_bc = {'b': 250, 'c': 250}"
   ],
   "id": "20bd3dcbeb9d5272",
   "outputs": [],
   "execution_count": 9
  },
  {
   "metadata": {},
   "cell_type": "code",
   "outputs": [],
   "execution_count": null,
   "source": "",
   "id": "50115d168a09709c"
  },
  {
   "metadata": {},
   "cell_type": "code",
   "source": [
    "def psi(x):\n",
    "    assert x >= 0\n",
    "    return 1/(1+x)\n",
    "\n",
    "def phi(x):\n",
    "    assert x >= 0\n",
    "    assert x < 1\n",
    "    return 1/(1-x)\n",
    "\n",
    "def forward_swap(d_in, in_leg , out_leg, q, fee):\n",
    "    assert q[in_leg] > 0\n",
    "    d_out = (1 - fee) * ( q[out_leg]/q[in_leg] ) * psi(d_in/q[in_leg]) * d_in\n",
    "    q[out_leg] = q[out_leg] - d_out\n",
    "    q[in_leg] = q[in_leg] + d_in\n",
    "    return d_out, q\n",
    "\n",
    "def backward_swap(d_out, in_leg, out_leg, q, fee):\n",
    "    assert q[out_leg] > 0\n",
    "    d_in = (1/(1-fee)) * ( q[in_leg]/q[out_leg] ) * phi(d_out/q[out_leg]) * d_out\n",
    "    q[out_leg] = q[out_leg] - d_out\n",
    "    q[in_leg] = q[in_leg] + d_in\n",
    "    return d_in, q"
   ],
   "id": "fb05a83b705b578b",
   "outputs": [],
   "execution_count": null
  },
  {
   "metadata": {
    "ExecuteTime": {
     "end_time": "2025-01-28T02:47:57.083018Z",
     "start_time": "2025-01-28T02:47:57.076184Z"
    }
   },
   "cell_type": "code",
   "source": [
    "F = 0.003\n",
    "G = 0.003\n",
    "\n",
    "Q_ab = {'a': 100, 'b': 100}\n",
    "Q_ac = {'a': 200, 'c': 200}\n",
    "Q_bc = {'b': 250, 'c': 250}\n",
    "# a->b route\n",
    "D_a1 = 10\n",
    "D_b1, Q_ab = forward_swap(d_in=D_a1, in_leg='a', out_leg='b', q=Q_ab, fee=G)\n",
    "\n",
    "print(D_a1, D_b1, Q_ab)"
   ],
   "id": "83c7a7dd7b2cf69b",
   "outputs": [
    {
     "name": "stdout",
     "output_type": "stream",
     "text": [
      "10 9.063636363636364 {'a': 110, 'b': 90.93636363636364}\n"
     ]
    }
   ],
   "execution_count": 23
  },
  {
   "metadata": {
    "ExecuteTime": {
     "end_time": "2025-01-28T02:48:05.338063Z",
     "start_time": "2025-01-28T02:48:05.331446Z"
    }
   },
   "cell_type": "code",
   "source": [
    "F = 0.003\n",
    "G = 0.003\n",
    "\n",
    "Q_ab = {'a': 100, 'b': 100}\n",
    "Q_ac = {'a': 200, 'c': 200}\n",
    "Q_bc = {'b': 250, 'c': 250}\n",
    "# a->c->b route\n",
    "D_c2, Q_ac = forward_swap(d_in=D_a1, in_leg='a', out_leg='c', q=Q_ac, fee=G)\n",
    "print(D_a1, D_c2, Q_ac)\n",
    "\n",
    "D_b2, Q_bc = forward_swap(d_in=D_c2, in_leg='c', out_leg='b', q=Q_bc, fee=G)\n",
    "print(D_c2, D_b2, Q_bc)\n",
    "\n"
   ],
   "id": "a93bc28cca4dfb9f",
   "outputs": [
    {
     "name": "stdout",
     "output_type": "stream",
     "text": [
      "10 9.495238095238093 {'a': 210, 'c': 190.5047619047619}\n",
      "9.495238095238093 9.120352699379746 {'b': 240.87964730062026, 'c': 259.4952380952381}\n"
     ]
    }
   ],
   "execution_count": 24
  },
  {
   "metadata": {
    "ExecuteTime": {
     "end_time": "2025-01-28T02:48:11.420235Z",
     "start_time": "2025-01-28T02:48:11.415443Z"
    }
   },
   "cell_type": "code",
   "source": "print(D_b1 - D_b2)",
   "id": "203066711e577fc5",
   "outputs": [
    {
     "name": "stdout",
     "output_type": "stream",
     "text": [
      "-0.05671633574338131\n"
     ]
    }
   ],
   "execution_count": 25
  },
  {
   "metadata": {
    "ExecuteTime": {
     "end_time": "2025-01-28T02:48:18.186991Z",
     "start_time": "2025-01-28T02:48:18.183056Z"
    }
   },
   "cell_type": "code",
   "source": [
    "# reset reserves\n",
    "Q_ab = {'a': 100, 'b': 100}\n",
    "Q_ac = {'a': 200, 'c': 200}\n",
    "Q_bc = {'b': 250, 'c': 250}"
   ],
   "id": "d82be98c69727634",
   "outputs": [],
   "execution_count": 26
  },
  {
   "metadata": {
    "ExecuteTime": {
     "end_time": "2025-01-28T02:48:21.635738Z",
     "start_time": "2025-01-28T02:48:21.632109Z"
    }
   },
   "cell_type": "code",
   "source": [
    "# cycle c -> b -> a -> c\n",
    "print(D_c2)\n",
    "C_b, Q_bc = forward_swap(D_c2, in_leg='c', out_leg='b', q=Q_bc, fee=G)\n",
    "print(C_b, Q_bc)"
   ],
   "id": "3685076b293a6d2",
   "outputs": [
    {
     "name": "stdout",
     "output_type": "stream",
     "text": [
      "9.495238095238093\n",
      "9.120352699379746 {'b': 240.87964730062026, 'c': 259.4952380952381}\n"
     ]
    }
   ],
   "execution_count": 27
  },
  {
   "metadata": {
    "ExecuteTime": {
     "end_time": "2025-01-28T02:48:22.959497Z",
     "start_time": "2025-01-28T02:48:22.953602Z"
    }
   },
   "cell_type": "code",
   "source": [
    "C_a, Q_ab = forward_swap(d_in=C_b, in_leg='b', out_leg='a', q=Q_ab, fee=G)\n",
    "print(C_a, Q_ab)"
   ],
   "id": "47118d95f2b611b1",
   "outputs": [
    {
     "name": "stdout",
     "output_type": "stream",
     "text": [
      "8.332993265089852 {'a': 91.66700673491015, 'b': 109.12035269937975}\n"
     ]
    }
   ],
   "execution_count": 28
  },
  {
   "metadata": {
    "ExecuteTime": {
     "end_time": "2025-01-28T02:48:24.543390Z",
     "start_time": "2025-01-28T02:48:24.538311Z"
    }
   },
   "cell_type": "code",
   "source": [
    "C_c, Q_ac = forward_swap(d_in=C_a, in_leg='a', out_leg='c', q=Q_ac, fee=G)\n",
    "print(C_c, Q_ac)"
   ],
   "id": "3d2b1b96daa254f",
   "outputs": [
    {
     "name": "stdout",
     "output_type": "stream",
     "text": [
      "7.975687532817438 {'a': 208.33299326508984, 'c': 192.02431246718257}\n"
     ]
    }
   ],
   "execution_count": 29
  },
  {
   "metadata": {},
   "cell_type": "code",
   "outputs": [],
   "execution_count": null,
   "source": "",
   "id": "dc53e392eb43d8fc"
  }
 ],
 "metadata": {
  "kernelspec": {
   "display_name": "Python 3",
   "language": "python",
   "name": "python3"
  },
  "language_info": {
   "codemirror_mode": {
    "name": "ipython",
    "version": 2
   },
   "file_extension": ".py",
   "mimetype": "text/x-python",
   "name": "python",
   "nbconvert_exporter": "python",
   "pygments_lexer": "ipython2",
   "version": "2.7.6"
  }
 },
 "nbformat": 4,
 "nbformat_minor": 5
}
